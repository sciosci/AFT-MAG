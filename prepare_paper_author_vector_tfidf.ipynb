{
 "cells": [
  {
   "cell_type": "markdown",
   "metadata": {},
   "source": [
    "## Extract title and abstract"
   ]
  },
  {
   "cell_type": "code",
   "execution_count": 1,
   "metadata": {},
   "outputs": [],
   "source": [
    "import pandas as pd\n",
    "import simplejson as json\n",
    "import sqlite3\n",
    "\n",
    "from os.path import join\n",
    "\n",
    "MAG_DIR = '/home/qke100/ke-data/dataset-MAG/'"
   ]
  },
  {
   "cell_type": "code",
   "execution_count": 2,
   "metadata": {},
   "outputs": [
    {
     "data": {
      "text/plain": [
       "(26378069, 2)"
      ]
     },
     "execution_count": 2,
     "metadata": {},
     "output_type": "execute_result"
    }
   ],
   "source": [
    "authorship_df = pd.read_csv('dataset/authorship.csv', dtype=str)\n",
    "authorship_df.shape"
   ]
  },
  {
   "cell_type": "code",
   "execution_count": 3,
   "metadata": {},
   "outputs": [
    {
     "name": "stdout",
     "output_type": "stream",
     "text": [
      "16942415\n",
      "BookChapter\n",
      "Book\n",
      "Conference\n",
      "Dataset\n",
      "Journal\n",
      "\n",
      "Patent\n",
      "Repository\n"
     ]
    }
   ],
   "source": [
    "def write_mag_paper_title_abstract(mag_pubids):\n",
    "    \"\"\"Return DataFrame\"\"\"\n",
    "    print(len(mag_pubids))\n",
    "    fout = open('results/mag_title_abstract.json', 'w')\n",
    "    for dt in ['BookChapter', 'Book', 'Conference', 'Dataset', 'Journal', '', 'Patent', 'Repository']:\n",
    "        print(dt)\n",
    "        db_path = join(MAG_DIR, 'paper_title_abs_%s.db' % dt)\n",
    "        conn = sqlite3.connect(db_path)\n",
    "        cur = conn.cursor()\n",
    "        cur.execute('SELECT PaperId, OriginalTitle, abstract FROM paper_title_abs_%s;' % dt)\n",
    "        for fields in cur:\n",
    "            pubid = fields[0]\n",
    "            if pubid in mag_pubids:\n",
    "                fout.write(json.dumps(fields))\n",
    "                fout.write('\\n')\n",
    "        cur.close()\n",
    "        conn.close()\n",
    "    fout.close()\n",
    "\n",
    "write_mag_paper_title_abstract(set(authorship_df.MAGPaperID))"
   ]
  },
  {
   "cell_type": "markdown",
   "metadata": {},
   "source": [
    "## TFIDF\n",
    "\n",
    "Run in terminal"
   ]
  },
  {
   "cell_type": "markdown",
   "metadata": {},
   "source": [
    "### Paper vector"
   ]
  },
  {
   "cell_type": "code",
   "execution_count": null,
   "metadata": {},
   "outputs": [],
   "source": [
    "import pandas as pd\n",
    "import simplejson as json\n",
    "\n",
    "from scipy.sparse import save_npz\n",
    "from sklearn.feature_extraction.text import CountVectorizer, TfidfTransformer\n",
    "from sklearn.pipeline import Pipeline"
   ]
  },
  {
   "cell_type": "code",
   "execution_count": null,
   "metadata": {},
   "outputs": [],
   "source": [
    "def load_mag_paper_abs():\n",
    "    \"\"\"\"\"\"\n",
    "    result = []\n",
    "    for line in open('results/mag_title_abstract.json'):\n",
    "        fields = json.loads(line)\n",
    "        result.append([fields[0], ' '.join(fields[1:])])\n",
    "    return pd.DataFrame(result, columns=['magpubid', 'tit_abs'])\n",
    "\n",
    "mag_abs_df = load_mag_paper_abs()\n",
    "mag_abs_df.shape # (16942415, 2)"
   ]
  },
  {
   "cell_type": "code",
   "execution_count": null,
   "metadata": {},
   "outputs": [],
   "source": [
    "pipe = Pipeline([\n",
    "    ('count', CountVectorizer(stop_words='english', min_df=2)),\n",
    "    ('tfid', TfidfTransformer())\n",
    "])"
   ]
  },
  {
   "cell_type": "code",
   "execution_count": null,
   "metadata": {},
   "outputs": [],
   "source": [
    "mag_abs_tfidf = pipe.fit_transform(mag_abs_df.tit_abs)\n",
    "mag_abs_tfidf.shape # (16942415, 2275293)"
   ]
  },
  {
   "cell_type": "code",
   "execution_count": null,
   "metadata": {},
   "outputs": [],
   "source": [
    "mag_abs_tfidf\n",
    "# <16942415x2275293 sparse matrix of type '<class 'numpy.float64'>'\n",
    "#         with 967345814 stored elements in Compressed Sparse Row format>"
   ]
  },
  {
   "cell_type": "code",
   "execution_count": null,
   "metadata": {},
   "outputs": [],
   "source": [
    "mag_abs_df[['magpubid']].to_csv('dataset/paper_tfidf_MAGPaperID.txt', index=False, header=False)"
   ]
  },
  {
   "cell_type": "code",
   "execution_count": null,
   "metadata": {},
   "outputs": [],
   "source": [
    "save_npz('dataset/paper_tfidf.npz', mag_abs_tfidf)"
   ]
  },
  {
   "cell_type": "markdown",
   "metadata": {},
   "source": [
    "### Author vectors"
   ]
  },
  {
   "cell_type": "code",
   "execution_count": null,
   "metadata": {},
   "outputs": [],
   "source": [
    "import numpy as np\n",
    "import pandas as pd\n",
    "\n",
    "from scipy.sparse import csr_matrix, load_npz, save_npz"
   ]
  },
  {
   "cell_type": "code",
   "execution_count": null,
   "metadata": {},
   "outputs": [],
   "source": [
    "pid_to_mag_pubids = pd.read_csv(\n",
    "    'dataset/authorship.csv', dtype=str).groupby('PID')['MAGPaperID'].apply(set).to_dict()\n",
    "len(pid_to_mag_pubids) # 494455"
   ]
  },
  {
   "cell_type": "code",
   "execution_count": null,
   "metadata": {},
   "outputs": [],
   "source": [
    "mag_pubids = [line.strip() for line in open('dataset/paper_tfidf_MAGPaperID.txt')]\n",
    "len(mag_pubids) # 16942415"
   ]
  },
  {
   "cell_type": "code",
   "execution_count": null,
   "metadata": {},
   "outputs": [],
   "source": [
    "mag_abs_tfidf = load_npz('dataset/paper_tfidf.npz')\n",
    "mag_abs_tfidf.shape # (16942415, 2275293)"
   ]
  },
  {
   "cell_type": "code",
   "execution_count": null,
   "metadata": {},
   "outputs": [],
   "source": [
    "def get_author_vector_tfidf():\n",
    "    \"\"\"\"\"\"\n",
    "    pubids = frozenset(mag_pubids)\n",
    "    pubid_to_idx = {p: i for i, p in enumerate(mag_pubids)}\n",
    "    row, col, data = [], [], []\n",
    "    row_idx = 0\n",
    "    pids = []\n",
    "    for pid in sorted(pid_to_mag_pubids, key=lambda x: int(x)):\n",
    "        pubs = pubids.intersection(pid_to_mag_pubids[pid])\n",
    "        if len(pubs) == 0:\n",
    "            continue\n",
    "        indices = sorted(pubid_to_idx[e] for e in pubs)\n",
    "        vec = mag_abs_tfidf[indices, :].mean(axis=0) # shape: (1, )\n",
    "        x, y = np.where(vec > 0)\n",
    "        for col_idx in y:\n",
    "            row.append(row_idx)\n",
    "            col.append(col_idx)\n",
    "            data.append(vec[0,col_idx])\n",
    "        row_idx += 1\n",
    "        pids.append(pid)\n",
    "    return pids, csr_matrix((np.array(data), (np.array(row),np.array(col))), \n",
    "                            shape=(len(pids),mag_abs_tfidf.shape[1]))\n",
    "\n",
    "pids, pid_vector_tfidf = get_author_vector_tfidf()"
   ]
  },
  {
   "cell_type": "code",
   "execution_count": null,
   "metadata": {},
   "outputs": [],
   "source": [
    "len(pids) # 494455"
   ]
  },
  {
   "cell_type": "code",
   "execution_count": null,
   "metadata": {},
   "outputs": [],
   "source": [
    "pid_vector_tfidf\n",
    "# <494455x2275293 sparse matrix of type '<class 'numpy.float64'>'\n",
    "#         with 530705946 stored elements in Compressed Sparse Row format>"
   ]
  },
  {
   "cell_type": "code",
   "execution_count": null,
   "metadata": {},
   "outputs": [],
   "source": [
    "pd.Series(pids).to_csv('dataset/researcher_tfidf_PID.txt', index=False, header=False)"
   ]
  },
  {
   "cell_type": "code",
   "execution_count": null,
   "metadata": {},
   "outputs": [],
   "source": [
    "save_npz('dataset/researcher_tfidf.npz', pid_vector_tfidf)"
   ]
  },
  {
   "cell_type": "code",
   "execution_count": null,
   "metadata": {},
   "outputs": [],
   "source": []
  }
 ],
 "metadata": {
  "kernelspec": {
   "display_name": "Python 3",
   "language": "python",
   "name": "python3"
  },
  "language_info": {
   "codemirror_mode": {
    "name": "ipython",
    "version": 3
   },
   "file_extension": ".py",
   "mimetype": "text/x-python",
   "name": "python",
   "nbconvert_exporter": "python",
   "pygments_lexer": "ipython3",
   "version": "3.6.9"
  },
  "toc": {
   "base_numbering": 1,
   "nav_menu": {},
   "number_sections": true,
   "sideBar": true,
   "skip_h1_title": false,
   "title_cell": "Table of Contents",
   "title_sidebar": "Contents",
   "toc_cell": false,
   "toc_position": {},
   "toc_section_display": true,
   "toc_window_display": true
  }
 },
 "nbformat": 4,
 "nbformat_minor": 4
}
