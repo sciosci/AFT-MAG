{
 "cells": [
  {
   "cell_type": "code",
   "execution_count": 1,
   "metadata": {},
   "outputs": [],
   "source": [
    "import csv\n",
    "import gzip\n",
    "import html\n",
    "import pandas as pd\n",
    "import simplejson as json\n",
    "\n",
    "from os.path import join\n",
    "\n",
    "DATA_DIR = 'raw_data/'\n",
    "MAG_DIR = '/home/qke100/ke-data/dataset-MAG/'\n",
    "ORCID_DIR = '/home/qke100/ke-data/dataset-ORCID/'"
   ]
  },
  {
   "cell_type": "markdown",
   "metadata": {},
   "source": [
    "## Validated papers by AFT users"
   ]
  },
  {
   "cell_type": "code",
   "execution_count": 2,
   "metadata": {},
   "outputs": [
    {
     "name": "stdout",
     "output_type": "stream",
     "text": [
      "\"pubid\",\"pid\",\"score_total\",\"score_human\",\"score_coa\",\"score_1st\",\"pmid\",\"doi\",\"s2id\",\"citations\"\r\n",
      "\"32\",\"2\",\"1\",\"1\",\"1\",\"1\",\"25671436\",\"10.1371/journal.pone.0117057\",\"9c9e744359358a927e8098416a38a9fe92cb751f\",\"59\"\r\n",
      "\"32\",\"61537\",\"1\",\"0\",\"1\",\"1\",\"25671436\",\"10.1371/journal.pone.0117057\",\"9c9e744359358a927e8098416a38a9fe92cb751f\",\"59\"\r\n",
      "\"32\",\"513408\",\"0.01\",\"0\",\"0.01\",\"0.01\",\"25671436\",\"10.1371/journal.pone.0117057\",\"9c9e744359358a927e8098416a38a9fe92cb751f\",\"59\"\r\n",
      "\"33\",\"2\",\"1\",\"1\",\"1\",\"0.56\",\"25619657\",\"10.1016/j.neuron.2014.12.050\",\"6ef6b76976fbd5befa34c78091d563c05ee209db\",\"106\"\r\n",
      "\"33\",\"7402\",\"1\",\"1\",\"1\",\"0.01\",\"25619657\",\"10.1016/j.neuron.2014.12.050\",\"6ef6b76976fbd5befa34c78091d563c05ee209db\",\"106\"\r\n"
     ]
    }
   ],
   "source": [
    "! head -6 raw_data/authorPub.csv"
   ]
  },
  {
   "cell_type": "code",
   "execution_count": 3,
   "metadata": {},
   "outputs": [
    {
     "name": "stdout",
     "output_type": "stream",
     "text": [
      "authorPub.csv\n",
      "authorPub2.csv\n",
      "authorPub3.csv\n",
      "303901\n"
     ]
    },
    {
     "data": {
      "text/plain": [
       "(303901, 3)"
      ]
     },
     "execution_count": 3,
     "metadata": {},
     "output_type": "execute_result"
    }
   ],
   "source": [
    "def clean_doi(x):\n",
    "    \"\"\"\"\"\"\n",
    "    xs = html.unescape(x.strip().lower())\n",
    "    for s in ['https://doi.org/', 'http://doi.org/']:\n",
    "        if xs.startswith(s):\n",
    "            xs = xs[len(s):]\n",
    "            break\n",
    "    return xs.replace('//', '/')\n",
    "\n",
    "def get_val_paper_df():\n",
    "    \"\"\"\"\"\"\n",
    "    result = {}\n",
    "    for in_path in ['authorPub.csv', 'authorPub2.csv', 'authorPub3.csv']:\n",
    "        print(in_path)\n",
    "        with open(join(DATA_DIR, in_path)) as fin:\n",
    "            reader = csv.reader(fin, delimiter=',')\n",
    "            next(reader, None)\n",
    "            for row in reader:\n",
    "                if row[3] != 'NULL' and int(row[3]) == 1:\n",
    "                    pubid, pmid, doi = row[0], row[6], row[7]\n",
    "                    if pmid in ['NULL', '0']:\n",
    "                        pmid = ''\n",
    "                    doi = '' if doi in ['NULL', '0'] else clean_doi(doi)\n",
    "                    result[pubid] = (pmid, doi)\n",
    "    print(len(result))\n",
    "    rows = [[pubid] + list(result[pubid]) for pubid in sorted(result, key=lambda x: int(x))]\n",
    "    return pd.DataFrame(rows, columns=['pubid', 'pmid', 'doi'])\n",
    "\n",
    "val_paper_df = get_val_paper_df()\n",
    "val_paper_df.shape"
   ]
  },
  {
   "cell_type": "code",
   "execution_count": 4,
   "metadata": {},
   "outputs": [
    {
     "data": {
      "text/plain": [
       "[('pubid', 0), ('pmid', 78612), ('doi', 53376)]"
      ]
     },
     "execution_count": 4,
     "metadata": {},
     "output_type": "execute_result"
    }
   ],
   "source": [
    "[(c, (val_paper_df[c] == '').sum()) for c in val_paper_df.columns]"
   ]
  },
  {
   "cell_type": "code",
   "execution_count": 5,
   "metadata": {},
   "outputs": [
    {
     "data": {
      "text/plain": [
       "33631"
      ]
     },
     "execution_count": 5,
     "metadata": {},
     "output_type": "execute_result"
    }
   ],
   "source": [
    "((val_paper_df.pmid != '') & (val_paper_df.doi == '')).sum()"
   ]
  },
  {
   "cell_type": "code",
   "execution_count": 6,
   "metadata": {},
   "outputs": [
    {
     "name": "stdout",
     "output_type": "stream",
     "text": [
      "22782425\n"
     ]
    },
    {
     "data": {
      "text/plain": [
       "(303901, 4)"
      ]
     },
     "execution_count": 6,
     "metadata": {},
     "output_type": "execute_result"
    }
   ],
   "source": [
    "def add_doi_from_pmid():\n",
    "    \"\"\"Add DOI based on PubMed ID\"\"\"\n",
    "    result = {}\n",
    "    for line in open('pmid_doi.json'):\n",
    "        pmid, doi = json.loads(line)\n",
    "        result[pmid] = clean_doi(doi)\n",
    "    print(len(result))\n",
    "    val_paper_df['doi_pm'] = val_paper_df.pmid.apply(lambda x: result.get(x, ''))\n",
    "\n",
    "add_doi_from_pmid()\n",
    "val_paper_df.shape"
   ]
  },
  {
   "cell_type": "code",
   "execution_count": 7,
   "metadata": {},
   "outputs": [
    {
     "data": {
      "text/html": [
       "<div>\n",
       "<style scoped>\n",
       "    .dataframe tbody tr th:only-of-type {\n",
       "        vertical-align: middle;\n",
       "    }\n",
       "\n",
       "    .dataframe tbody tr th {\n",
       "        vertical-align: top;\n",
       "    }\n",
       "\n",
       "    .dataframe thead th {\n",
       "        text-align: right;\n",
       "    }\n",
       "</style>\n",
       "<table border=\"1\" class=\"dataframe\">\n",
       "  <thead>\n",
       "    <tr style=\"text-align: right;\">\n",
       "      <th></th>\n",
       "      <th>pubid</th>\n",
       "      <th>pmid</th>\n",
       "      <th>doi</th>\n",
       "      <th>doi_pm</th>\n",
       "    </tr>\n",
       "  </thead>\n",
       "  <tbody>\n",
       "    <tr>\n",
       "      <th>17000</th>\n",
       "      <td>320425</td>\n",
       "      <td>11204098</td>\n",
       "      <td>10.1037/0278-7393.27.1.202</td>\n",
       "      <td></td>\n",
       "    </tr>\n",
       "    <tr>\n",
       "      <th>1925</th>\n",
       "      <td>6169</td>\n",
       "      <td>3419829</td>\n",
       "      <td>10.1111/j.1475-1313.1988.tb01083.x</td>\n",
       "      <td></td>\n",
       "    </tr>\n",
       "    <tr>\n",
       "      <th>44901</th>\n",
       "      <td>1282858</td>\n",
       "      <td>24319930</td>\n",
       "      <td>10.1163/22134808-00002421</td>\n",
       "      <td></td>\n",
       "    </tr>\n",
       "    <tr>\n",
       "      <th>288752</th>\n",
       "      <td>22342856</td>\n",
       "      <td>32334328</td>\n",
       "      <td>10.1016/j.plefa.2020.102093</td>\n",
       "      <td></td>\n",
       "    </tr>\n",
       "    <tr>\n",
       "      <th>152707</th>\n",
       "      <td>5768469</td>\n",
       "      <td>26325876</td>\n",
       "      <td>10.1167/15.12.188</td>\n",
       "      <td></td>\n",
       "    </tr>\n",
       "    <tr>\n",
       "      <th>162319</th>\n",
       "      <td>6400528</td>\n",
       "      <td>14600497</td>\n",
       "      <td>10.1097/01.wnr.0000097047.56589.a3</td>\n",
       "      <td>10.1097/00001756-200311140-00010</td>\n",
       "    </tr>\n",
       "    <tr>\n",
       "      <th>97794</th>\n",
       "      <td>3558374</td>\n",
       "      <td>11277771</td>\n",
       "      <td>10.5555/ol007052d</td>\n",
       "      <td></td>\n",
       "    </tr>\n",
       "    <tr>\n",
       "      <th>148646</th>\n",
       "      <td>5535598</td>\n",
       "      <td>26325752</td>\n",
       "      <td>10.1167/15.12.64</td>\n",
       "      <td></td>\n",
       "    </tr>\n",
       "    <tr>\n",
       "      <th>7112</th>\n",
       "      <td>70270</td>\n",
       "      <td>6363735</td>\n",
       "      <td>10.1001/jama.1984.03340320027021</td>\n",
       "      <td></td>\n",
       "    </tr>\n",
       "    <tr>\n",
       "      <th>74301</th>\n",
       "      <td>2952745</td>\n",
       "      <td>16754761</td>\n",
       "      <td>10.1176/appi.ps.57.6.838</td>\n",
       "      <td>10.1176/ps.2006.57.6.838</td>\n",
       "    </tr>\n",
       "  </tbody>\n",
       "</table>\n",
       "</div>"
      ],
      "text/plain": [
       "           pubid      pmid                                 doi  \\\n",
       "17000     320425  11204098          10.1037/0278-7393.27.1.202   \n",
       "1925        6169   3419829  10.1111/j.1475-1313.1988.tb01083.x   \n",
       "44901    1282858  24319930           10.1163/22134808-00002421   \n",
       "288752  22342856  32334328         10.1016/j.plefa.2020.102093   \n",
       "152707   5768469  26325876                   10.1167/15.12.188   \n",
       "162319   6400528  14600497  10.1097/01.wnr.0000097047.56589.a3   \n",
       "97794    3558374  11277771                   10.5555/ol007052d   \n",
       "148646   5535598  26325752                    10.1167/15.12.64   \n",
       "7112       70270   6363735    10.1001/jama.1984.03340320027021   \n",
       "74301    2952745  16754761            10.1176/appi.ps.57.6.838   \n",
       "\n",
       "                                  doi_pm  \n",
       "17000                                     \n",
       "1925                                      \n",
       "44901                                     \n",
       "288752                                    \n",
       "152707                                    \n",
       "162319  10.1097/00001756-200311140-00010  \n",
       "97794                                     \n",
       "148646                                    \n",
       "7112                                      \n",
       "74301           10.1176/ps.2006.57.6.838  "
      ]
     },
     "execution_count": 7,
     "metadata": {},
     "output_type": "execute_result"
    }
   ],
   "source": [
    "val_paper_df[\n",
    "    (val_paper_df.pmid != '') & (val_paper_df.doi != '') & (val_paper_df.doi != val_paper_df.doi_pm)\n",
    "].sample(10)"
   ]
  },
  {
   "cell_type": "code",
   "execution_count": 8,
   "metadata": {},
   "outputs": [
    {
     "data": {
      "text/plain": [
       "(303901, 5)"
      ]
     },
     "execution_count": 8,
     "metadata": {},
     "output_type": "execute_result"
    }
   ],
   "source": [
    "def normalize_doi(pmid, doi, doi_pm):\n",
    "    \"\"\"\"\"\"\n",
    "    if pmid == '' or doi == doi_pm:\n",
    "        return doi\n",
    "    if doi == '':\n",
    "        return doi_pm\n",
    "    return doi if doi_pm == '' else doi_pm    \n",
    "\n",
    "def add_doi_norm():\n",
    "    \"\"\"\"\"\"\n",
    "    val_paper_df['doi_norm'] = [\n",
    "        normalize_doi(pmid, doi, doi_pm)\n",
    "        for pmid, doi, doi_pm in zip(val_paper_df.pmid, val_paper_df.doi, val_paper_df.doi_pm)]\n",
    "\n",
    "add_doi_norm()\n",
    "val_paper_df.shape"
   ]
  },
  {
   "cell_type": "code",
   "execution_count": 9,
   "metadata": {},
   "outputs": [
    {
     "data": {
      "text/plain": [
       "29573"
      ]
     },
     "execution_count": 9,
     "metadata": {},
     "output_type": "execute_result"
    }
   ],
   "source": [
    "(val_paper_df.doi_norm == '').sum()"
   ]
  },
  {
   "cell_type": "markdown",
   "metadata": {},
   "source": [
    "## ORCID papers"
   ]
  },
  {
   "cell_type": "code",
   "execution_count": 10,
   "metadata": {},
   "outputs": [
    {
     "data": {
      "text/plain": [
       "(774733, 18)"
      ]
     },
     "execution_count": 10,
     "metadata": {},
     "output_type": "execute_result"
    }
   ],
   "source": [
    "people_df = pd.read_hdf('results/people_df.h5')\n",
    "people_df.shape"
   ]
  },
  {
   "cell_type": "code",
   "execution_count": 11,
   "metadata": {},
   "outputs": [
    {
     "data": {
      "text/html": [
       "<div>\n",
       "<style scoped>\n",
       "    .dataframe tbody tr th:only-of-type {\n",
       "        vertical-align: middle;\n",
       "    }\n",
       "\n",
       "    .dataframe tbody tr th {\n",
       "        vertical-align: top;\n",
       "    }\n",
       "\n",
       "    .dataframe thead th {\n",
       "        text-align: right;\n",
       "    }\n",
       "</style>\n",
       "<table border=\"1\" class=\"dataframe\">\n",
       "  <thead>\n",
       "    <tr style=\"text-align: right;\">\n",
       "      <th></th>\n",
       "      <th>pid</th>\n",
       "      <th>firstname</th>\n",
       "      <th>middlename</th>\n",
       "      <th>lastname</th>\n",
       "      <th>degrees</th>\n",
       "      <th>location</th>\n",
       "      <th>locid</th>\n",
       "      <th>majorarea</th>\n",
       "      <th>orcid</th>\n",
       "      <th>firstname_norm</th>\n",
       "      <th>middlename_norm</th>\n",
       "      <th>lastname_norm</th>\n",
       "      <th>orcid_norm</th>\n",
       "      <th>MAGInstitution</th>\n",
       "      <th>MAGInstitutionID</th>\n",
       "      <th>magaid_coauthorship</th>\n",
       "      <th>magaid_name_insti</th>\n",
       "      <th>magaid</th>\n",
       "    </tr>\n",
       "  </thead>\n",
       "  <tbody>\n",
       "    <tr>\n",
       "      <th>0</th>\n",
       "      <td>1</td>\n",
       "      <td>Stephen</td>\n",
       "      <td>V.</td>\n",
       "      <td>David</td>\n",
       "      <td>Ph.D.</td>\n",
       "      <td>Oregon Health and Science University</td>\n",
       "      <td>226</td>\n",
       "      <td>neuro,csd,bme</td>\n",
       "      <td>0000-0003-4135-3104</td>\n",
       "      <td>STEPHEN</td>\n",
       "      <td>V</td>\n",
       "      <td>DAVID</td>\n",
       "      <td>0000-0003-4135-3104</td>\n",
       "      <td>OREGON HEALTH &amp; SCIENCE UNIVERSITY</td>\n",
       "      <td>165690674</td>\n",
       "      <td>2171827615</td>\n",
       "      <td></td>\n",
       "      <td>2171827615</td>\n",
       "    </tr>\n",
       "  </tbody>\n",
       "</table>\n",
       "</div>"
      ],
      "text/plain": [
       "  pid firstname middlename lastname degrees  \\\n",
       "0   1   Stephen         V.    David   Ph.D.   \n",
       "\n",
       "                               location locid      majorarea  \\\n",
       "0  Oregon Health and Science University   226  neuro,csd,bme   \n",
       "\n",
       "                 orcid firstname_norm middlename_norm lastname_norm  \\\n",
       "0  0000-0003-4135-3104        STEPHEN               V         DAVID   \n",
       "\n",
       "            orcid_norm                      MAGInstitution MAGInstitutionID  \\\n",
       "0  0000-0003-4135-3104  OREGON HEALTH & SCIENCE UNIVERSITY        165690674   \n",
       "\n",
       "  magaid_coauthorship magaid_name_insti      magaid  \n",
       "0          2171827615                    2171827615  "
      ]
     },
     "execution_count": 11,
     "metadata": {},
     "output_type": "execute_result"
    }
   ],
   "source": [
    "people_df.head(1)"
   ]
  },
  {
   "cell_type": "code",
   "execution_count": 12,
   "metadata": {},
   "outputs": [
    {
     "name": "stdout",
     "output_type": "stream",
     "text": [
      "1659\n"
     ]
    },
    {
     "data": {
      "text/plain": [
       "(57352, 3)"
      ]
     },
     "execution_count": 12,
     "metadata": {},
     "output_type": "execute_result"
    }
   ],
   "source": [
    "def load_orcid_pub():\n",
    "    \"\"\"\"\"\"\n",
    "    orcids = set(e for e in people_df.orcid_norm if e != '')\n",
    "    print(len(orcids))\n",
    "    result = []\n",
    "    for line in open(join(ORCID_DIR, 'ORCID_2020_10_parsed.json')):\n",
    "        orcid, name, pubs = json.loads(line)\n",
    "        if orcid in orcids:\n",
    "            for pub in pubs:\n",
    "                result.append([orcid, pub['title'], pub.get('doi', '').lower()])\n",
    "    return pd.DataFrame(result, columns=['orcid', 'title', 'doi'])\n",
    "\n",
    "orcid_pub_df = load_orcid_pub()\n",
    "orcid_pub_df.shape"
   ]
  },
  {
   "cell_type": "code",
   "execution_count": 13,
   "metadata": {},
   "outputs": [
    {
     "data": {
      "text/plain": [
       "1471"
      ]
     },
     "execution_count": 13,
     "metadata": {},
     "output_type": "execute_result"
    }
   ],
   "source": [
    "orcid_pub_df.orcid.nunique()"
   ]
  },
  {
   "cell_type": "markdown",
   "metadata": {},
   "source": [
    "## Add MAG pubid"
   ]
  },
  {
   "cell_type": "code",
   "execution_count": 14,
   "metadata": {},
   "outputs": [
    {
     "data": {
      "text/plain": [
       "299807"
      ]
     },
     "execution_count": 14,
     "metadata": {},
     "output_type": "execute_result"
    }
   ],
   "source": [
    "all_dois = set(e for e in val_paper_df.doi_norm if e != '') | set(e for e in orcid_pub_df.doi if e != '')\n",
    "len(all_dois)"
   ]
  },
  {
   "cell_type": "code",
   "execution_count": 15,
   "metadata": {},
   "outputs": [
    {
     "data": {
      "text/plain": [
       "292585"
      ]
     },
     "execution_count": 15,
     "metadata": {},
     "output_type": "execute_result"
    }
   ],
   "source": [
    "def load_doi_mag_pubid(dois):\n",
    "    \"\"\"\"\"\"\n",
    "    result = {}\n",
    "    fin = gzip.open(join(MAG_DIR, '202009/mag/Papers.txt.gz'), 'rt')\n",
    "    for line in fin:\n",
    "        fields = line.rstrip('\\n').split('\\t')\n",
    "        mag_pubid, doi = fields[0], fields[2].lower()\n",
    "        if doi in dois:\n",
    "            result[doi] = mag_pubid\n",
    "    return result\n",
    "\n",
    "doi_to_mag_pubid = load_doi_mag_pubid(all_dois)\n",
    "len(doi_to_mag_pubid)"
   ]
  },
  {
   "cell_type": "markdown",
   "metadata": {},
   "source": [
    "For validated papers:"
   ]
  },
  {
   "cell_type": "code",
   "execution_count": 16,
   "metadata": {},
   "outputs": [
    {
     "data": {
      "text/plain": [
       "(303901, 6)"
      ]
     },
     "execution_count": 16,
     "metadata": {},
     "output_type": "execute_result"
    }
   ],
   "source": [
    "val_paper_df['mag_pubid'] = val_paper_df.doi_norm.apply(lambda x: doi_to_mag_pubid.get(x, ''))\n",
    "val_paper_df.shape"
   ]
  },
  {
   "cell_type": "code",
   "execution_count": 17,
   "metadata": {},
   "outputs": [
    {
     "data": {
      "text/plain": [
       "34352"
      ]
     },
     "execution_count": 17,
     "metadata": {},
     "output_type": "execute_result"
    }
   ],
   "source": [
    "(val_paper_df.mag_pubid == '').sum()"
   ]
  },
  {
   "cell_type": "code",
   "execution_count": 18,
   "metadata": {},
   "outputs": [],
   "source": [
    "val_paper_df.to_hdf('results/validation_paper_aft.h5', key='df', mode='w')"
   ]
  },
  {
   "cell_type": "markdown",
   "metadata": {},
   "source": [
    "ORCID:"
   ]
  },
  {
   "cell_type": "code",
   "execution_count": 19,
   "metadata": {},
   "outputs": [
    {
     "data": {
      "text/plain": [
       "(57352, 4)"
      ]
     },
     "execution_count": 19,
     "metadata": {},
     "output_type": "execute_result"
    }
   ],
   "source": [
    "orcid_pub_df['mag_pubid'] = orcid_pub_df.doi.apply(lambda x: doi_to_mag_pubid.get(x, ''))\n",
    "orcid_pub_df.shape"
   ]
  },
  {
   "cell_type": "code",
   "execution_count": 20,
   "metadata": {},
   "outputs": [
    {
     "name": "stderr",
     "output_type": "stream",
     "text": [
      "/home/qke100/.local/lib/python3.6/site-packages/pandas/core/generic.py:2449: PerformanceWarning: \n",
      "your performance may suffer as PyTables will pickle object types that it cannot\n",
      "map directly to c-types [inferred_type->mixed,key->block0_values] [items->Index(['orcid', 'title', 'doi', 'mag_pubid'], dtype='object')]\n",
      "\n",
      "  encoding=encoding,\n"
     ]
    }
   ],
   "source": [
    "orcid_pub_df.to_hdf('results/validation_paper_orcid.h5', key='df', mode='w')"
   ]
  },
  {
   "cell_type": "code",
   "execution_count": null,
   "metadata": {},
   "outputs": [],
   "source": []
  }
 ],
 "metadata": {
  "kernelspec": {
   "display_name": "Python 3",
   "language": "python",
   "name": "python3"
  },
  "language_info": {
   "codemirror_mode": {
    "name": "ipython",
    "version": 3
   },
   "file_extension": ".py",
   "mimetype": "text/x-python",
   "name": "python",
   "nbconvert_exporter": "python",
   "pygments_lexer": "ipython3",
   "version": "3.6.9"
  },
  "toc": {
   "base_numbering": 1,
   "nav_menu": {},
   "number_sections": true,
   "sideBar": true,
   "skip_h1_title": false,
   "title_cell": "Table of Contents",
   "title_sidebar": "Contents",
   "toc_cell": false,
   "toc_position": {
    "height": "calc(100% - 180px)",
    "left": "10px",
    "top": "150px",
    "width": "174px"
   },
   "toc_section_display": true,
   "toc_window_display": true
  }
 },
 "nbformat": 4,
 "nbformat_minor": 4
}
