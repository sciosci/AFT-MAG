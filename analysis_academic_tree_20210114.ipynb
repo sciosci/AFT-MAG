{
 "cells": [
  {
   "cell_type": "code",
   "execution_count": 48,
   "metadata": {},
   "outputs": [
    {
     "name": "stdout",
     "output_type": "stream",
     "text": [
      "2.4.0.cloudera2\n"
     ]
    }
   ],
   "source": [
    "import findspark\n",
    "findspark.init('/opt/cloudera/parcels/SPARK2/lib/spark2/')\n",
    "\n",
    "from pyspark.sql import SparkSession\n",
    "\n",
    "\n",
    "\n",
    "try:\n",
    "    print(spark.version)\n",
    "except NameError as e:\n",
    "    from pyspark.sql import SparkSession\n",
    "    spark = SparkSession.builder.\\\n",
    "        config('spark.app.name', 'academic_tree_0114').\\\n",
    "        config('spark.dynamicAllocation.enabled','true').\\\n",
    "        config('spark.dynamicAllocation.maxExecutors','50').\\\n",
    "        config('spark.dynamicAllocation.executorIdleTimeout','30s').\\\n",
    "        config('spark.driver.maxResultSize', '8g').\\\n",
    "        config('spark.yarn.maxAppAttempts', '20').\\\n",
    "        config('spark.driver.memory', '10g').\\\n",
    "        config('spark.executor.memory', '4g').\\\n",
    "        config('spark.task.maxFailures', '10').\\\n",
    "        config('spark.yarn.am.memory', '8g').\\\n",
    "        config('spark.yarn.max.executor.failures', '10').\\\n",
    "        config('spark.kryoserializer.buffer.max','1024m').\\\n",
    "        getOrCreate()\n",
    "#config('spark.executor.instances', '10').\\\n",
    "from pyspark.ml import Pipeline\n",
    "from pyspark.ml import classification\n",
    "from pyspark.ml import feature\n",
    "from pyspark.ml import evaluation\n",
    "from pyspark.ml import tuning\n",
    "from pyspark.sql import functions as fn\n",
    "from pyspark.sql import Row\n",
    "from pyspark.sql.functions import col, udf\n",
    "from pyspark.sql.window import Window as W\n",
    "\n",
    "sc=spark.sparkContext"
   ]
  },
  {
   "cell_type": "code",
   "execution_count": 2,
   "metadata": {},
   "outputs": [],
   "source": [
    "# people = spark.read.csv('/datasets/academic_tree_20210114/people.csv', header=True)"
   ]
  },
  {
   "cell_type": "code",
   "execution_count": 3,
   "metadata": {},
   "outputs": [],
   "source": [
    "# connect = spark.read.csv('/datasets/academic_tree_20210114/connect.csv', header=True)"
   ]
  },
  {
   "cell_type": "code",
   "execution_count": 4,
   "metadata": {},
   "outputs": [],
   "source": [
    "# authorPub = spark.read.csv('/datasets/academic_tree_20210114/authorPub*.csv', header=True)"
   ]
  },
  {
   "cell_type": "code",
   "execution_count": 6,
   "metadata": {},
   "outputs": [],
   "source": [
    "# people.write.parquet('/user/feng/academic_tree_20210114/people.parquet')"
   ]
  },
  {
   "cell_type": "code",
   "execution_count": null,
   "metadata": {},
   "outputs": [],
   "source": [
    "# connect.write.parquet('/user/feng/academic_tree_20210114/connect.parquet')"
   ]
  },
  {
   "cell_type": "code",
   "execution_count": null,
   "metadata": {},
   "outputs": [],
   "source": [
    "# authorPub.write.parquet('/user/feng/academic_tree_20210114/authorPub.parquet')"
   ]
  },
  {
   "cell_type": "code",
   "execution_count": 49,
   "metadata": {},
   "outputs": [],
   "source": [
    "people = spark.read.parquet('/user/feng/academic_tree_20210114/people.parquet')"
   ]
  },
  {
   "cell_type": "code",
   "execution_count": 50,
   "metadata": {},
   "outputs": [],
   "source": [
    "connect = spark.read.parquet('/user/feng/academic_tree_20210114/connect.parquet')"
   ]
  },
  {
   "cell_type": "code",
   "execution_count": 51,
   "metadata": {},
   "outputs": [],
   "source": [
    "authorPub = spark.read.parquet('/user/feng/academic_tree_20210114/authorPub.parquet')"
   ]
  },
  {
   "cell_type": "code",
   "execution_count": 52,
   "metadata": {},
   "outputs": [
    {
     "data": {
      "text/plain": [
       "3732305"
      ]
     },
     "execution_count": 52,
     "metadata": {},
     "output_type": "execute_result"
    }
   ],
   "source": [
    "authorPub.where(fn.col('score_total') == 1).where(fn.col('doi').isNotNull()).count()"
   ]
  },
  {
   "cell_type": "code",
   "execution_count": 53,
   "metadata": {},
   "outputs": [
    {
     "data": {
      "text/plain": [
       "265348"
      ]
     },
     "execution_count": 53,
     "metadata": {},
     "output_type": "execute_result"
    }
   ],
   "source": [
    "authorPub.where(fn.col('score_human') == 1).where(fn.col('doi').isNotNull()).count()"
   ]
  },
  {
   "cell_type": "code",
   "execution_count": 54,
   "metadata": {},
   "outputs": [],
   "source": [
    "authorPubFilter = authorPub.where(fn.col('score_human') == 1).where(fn.col('doi').isNotNull())"
   ]
  },
  {
   "cell_type": "code",
   "execution_count": null,
   "metadata": {},
   "outputs": [],
   "source": []
  },
  {
   "cell_type": "code",
   "execution_count": 55,
   "metadata": {},
   "outputs": [],
   "source": [
    "authorPubPid = authorPubFilter.select('pid').distinct()"
   ]
  },
  {
   "cell_type": "code",
   "execution_count": null,
   "metadata": {},
   "outputs": [],
   "source": []
  },
  {
   "cell_type": "code",
   "execution_count": 56,
   "metadata": {},
   "outputs": [
    {
     "data": {
      "text/plain": [
       "15712"
      ]
     },
     "execution_count": 56,
     "metadata": {},
     "output_type": "execute_result"
    }
   ],
   "source": [
    "authorPubPid.count()"
   ]
  },
  {
   "cell_type": "code",
   "execution_count": 57,
   "metadata": {},
   "outputs": [
    {
     "name": "stdout",
     "output_type": "stream",
     "text": [
      "root\n",
      " |-- cid: string (nullable = true)\n",
      " |-- pid1: string (nullable = true)\n",
      " |-- pid2: string (nullable = true)\n",
      " |-- relation: string (nullable = true)\n",
      " |-- location: string (nullable = true)\n",
      " |-- locid: string (nullable = true)\n",
      " |-- startdate: string (nullable = true)\n",
      " |-- stopdate: string (nullable = true)\n",
      " |-- addedby: string (nullable = true)\n",
      " |-- dateadded: string (nullable = true)\n",
      "\n"
     ]
    }
   ],
   "source": [
    "connect.printSchema()"
   ]
  },
  {
   "cell_type": "code",
   "execution_count": 58,
   "metadata": {},
   "outputs": [],
   "source": [
    "connect_left = connect.join(authorPubPid, connect.pid1 == authorPubPid.pid).select('pid1','pid2','relation','startdate','stopdate')"
   ]
  },
  {
   "cell_type": "code",
   "execution_count": 59,
   "metadata": {},
   "outputs": [
    {
     "data": {
      "text/plain": [
       "64701"
      ]
     },
     "execution_count": 59,
     "metadata": {},
     "output_type": "execute_result"
    }
   ],
   "source": [
    "connect_left.count()"
   ]
  },
  {
   "cell_type": "code",
   "execution_count": 60,
   "metadata": {},
   "outputs": [
    {
     "name": "stdout",
     "output_type": "stream",
     "text": [
      "root\n",
      " |-- pid1: string (nullable = true)\n",
      " |-- pid2: string (nullable = true)\n",
      " |-- relation: string (nullable = true)\n",
      " |-- startdate: string (nullable = true)\n",
      " |-- stopdate: string (nullable = true)\n",
      "\n"
     ]
    }
   ],
   "source": [
    "connect_left.printSchema()"
   ]
  },
  {
   "cell_type": "code",
   "execution_count": 61,
   "metadata": {},
   "outputs": [],
   "source": [
    "connect_right = connect_left.join(authorPubPid, connect_left.pid2 == authorPubPid.pid).select('pid1','pid2','relation','startdate','stopdate')"
   ]
  },
  {
   "cell_type": "code",
   "execution_count": 62,
   "metadata": {},
   "outputs": [
    {
     "data": {
      "text/plain": [
       "7982"
      ]
     },
     "execution_count": 62,
     "metadata": {},
     "output_type": "execute_result"
    }
   ],
   "source": [
    "connect_right.count()"
   ]
  },
  {
   "cell_type": "code",
   "execution_count": 63,
   "metadata": {},
   "outputs": [
    {
     "name": "stdout",
     "output_type": "stream",
     "text": [
      "root\n",
      " |-- pid1: string (nullable = true)\n",
      " |-- pid2: string (nullable = true)\n",
      " |-- relation: string (nullable = true)\n",
      " |-- startdate: string (nullable = true)\n",
      " |-- stopdate: string (nullable = true)\n",
      "\n"
     ]
    }
   ],
   "source": [
    "connect_right.printSchema()"
   ]
  },
  {
   "cell_type": "code",
   "execution_count": 64,
   "metadata": {},
   "outputs": [
    {
     "name": "stdout",
     "output_type": "stream",
     "text": [
      "+--------+-----+\n",
      "|relation|count|\n",
      "+--------+-----+\n",
      "|       3|  216|\n",
      "|       0|  473|\n",
      "|       1| 4015|\n",
      "|       4|  850|\n",
      "|       2| 2428|\n",
      "+--------+-----+\n",
      "\n"
     ]
    }
   ],
   "source": [
    "connect_right.groupBy('relation').count().show()"
   ]
  },
  {
   "cell_type": "code",
   "execution_count": null,
   "metadata": {},
   "outputs": [],
   "source": []
  },
  {
   "cell_type": "code",
   "execution_count": null,
   "metadata": {},
   "outputs": [],
   "source": []
  },
  {
   "cell_type": "code",
   "execution_count": 17,
   "metadata": {},
   "outputs": [],
   "source": [
    "# join with people to get information of name"
   ]
  },
  {
   "cell_type": "code",
   "execution_count": 65,
   "metadata": {},
   "outputs": [
    {
     "name": "stdout",
     "output_type": "stream",
     "text": [
      "root\n",
      " |-- pid: string (nullable = true)\n",
      " |-- firstname: string (nullable = true)\n",
      " |-- middlename: string (nullable = true)\n",
      " |-- lastname: string (nullable = true)\n",
      " |-- degrees: string (nullable = true)\n",
      " |-- location: string (nullable = true)\n",
      " |-- locid: string (nullable = true)\n",
      " |-- area: string (nullable = true)\n",
      " |-- majorarea: string (nullable = true)\n",
      " |-- award: string (nullable = true)\n",
      " |-- hindex: string (nullable = true)\n",
      " |-- orcid_id: string (nullable = true)\n",
      " |-- s2id: string (nullable = true)\n",
      " |-- homepage: string (nullable = true)\n",
      " |-- addedby: string (nullable = true)\n",
      " |-- dateadded: string (nullable = true)\n",
      "\n"
     ]
    }
   ],
   "source": [
    "people.printSchema()"
   ]
  },
  {
   "cell_type": "code",
   "execution_count": 66,
   "metadata": {},
   "outputs": [],
   "source": [
    "peopleFilter = people.where(fn.col('lastname').isNotNull()).where(fn.col('firstname').isNotNull()).\\\n",
    "                        select('pid','firstname','middlename','lastname')"
   ]
  },
  {
   "cell_type": "code",
   "execution_count": 67,
   "metadata": {},
   "outputs": [],
   "source": [
    "ac_tree_author_pub_name = authorPubFilter.join(peopleFilter, 'pid').distinct()"
   ]
  },
  {
   "cell_type": "code",
   "execution_count": 68,
   "metadata": {},
   "outputs": [
    {
     "data": {
      "text/plain": [
       "263723"
      ]
     },
     "execution_count": 68,
     "metadata": {},
     "output_type": "execute_result"
    }
   ],
   "source": [
    "ac_tree_author_pub_name.count()"
   ]
  },
  {
   "cell_type": "code",
   "execution_count": 69,
   "metadata": {},
   "outputs": [
    {
     "data": {
      "text/plain": [
       "261818"
      ]
     },
     "execution_count": 69,
     "metadata": {},
     "output_type": "execute_result"
    }
   ],
   "source": [
    "ac_tree_author_pub_name.select('pid','doi','firstname','middlename','lastname').distinct().count()"
   ]
  },
  {
   "cell_type": "code",
   "execution_count": 70,
   "metadata": {},
   "outputs": [
    {
     "data": {
      "text/plain": [
       "261818"
      ]
     },
     "execution_count": 70,
     "metadata": {},
     "output_type": "execute_result"
    }
   ],
   "source": [
    "ac_tree_author_pub_name.select('pid','doi').distinct().count()"
   ]
  },
  {
   "cell_type": "code",
   "execution_count": 71,
   "metadata": {},
   "outputs": [
    {
     "data": {
      "text/plain": [
       "15538"
      ]
     },
     "execution_count": 71,
     "metadata": {},
     "output_type": "execute_result"
    }
   ],
   "source": [
    "ac_tree_author_pub_name.select('pid').distinct().count()"
   ]
  },
  {
   "cell_type": "code",
   "execution_count": 24,
   "metadata": {},
   "outputs": [
    {
     "data": {
      "text/plain": [
       "[Row(pid='85538', doi='10.1111/crj.12752', count=4),\n",
       " Row(pid='76913', doi='10.1186/1471-2229-4-17', count=3),\n",
       " Row(pid='75373', doi='10.1021/jp060250n', count=3),\n",
       " Row(pid='76279', doi='10.1021/jp8057492', count=3),\n",
       " Row(pid='79467', doi='10.1021/nl2040817', count=3),\n",
       " Row(pid='75373', doi='10.1021/jp071369e', count=3)]"
      ]
     },
     "execution_count": 24,
     "metadata": {},
     "output_type": "execute_result"
    }
   ],
   "source": [
    "ac_tree_author_pub_name.groupBy('pid','doi').count().orderBy('count', ascending = False).take(6)"
   ]
  },
  {
   "cell_type": "code",
   "execution_count": null,
   "metadata": {},
   "outputs": [],
   "source": []
  },
  {
   "cell_type": "code",
   "execution_count": 25,
   "metadata": {},
   "outputs": [],
   "source": [
    "# join academic tree with MAG"
   ]
  },
  {
   "cell_type": "code",
   "execution_count": 72,
   "metadata": {},
   "outputs": [],
   "source": [
    "ac_tree_author_pub_name_filter = ac_tree_author_pub_name.select('pid','doi').distinct()"
   ]
  },
  {
   "cell_type": "code",
   "execution_count": 73,
   "metadata": {},
   "outputs": [],
   "source": [
    "mag_author_doi_name = spark.read.parquet('/user/feng/mentor_hub_impact/mag_author_doi_name.parquet')"
   ]
  },
  {
   "cell_type": "code",
   "execution_count": 28,
   "metadata": {},
   "outputs": [],
   "source": [
    "chose_people = connect_right.select('pid1').withColumnRenamed('pid1','pid').union(connect_right.select('pid2').withColumnRenamed('pid2','pid')).distinct()"
   ]
  },
  {
   "cell_type": "code",
   "execution_count": 29,
   "metadata": {},
   "outputs": [
    {
     "data": {
      "text/plain": [
       "8767"
      ]
     },
     "execution_count": 29,
     "metadata": {},
     "output_type": "execute_result"
    }
   ],
   "source": [
    "chose_people.count()"
   ]
  },
  {
   "cell_type": "code",
   "execution_count": 30,
   "metadata": {},
   "outputs": [],
   "source": [
    "ac_tree_filter_pid_doi_name = ac_tree_author_pub_name.join(chose_people, 'pid')"
   ]
  },
  {
   "cell_type": "code",
   "execution_count": 31,
   "metadata": {},
   "outputs": [
    {
     "data": {
      "text/plain": [
       "164443"
      ]
     },
     "execution_count": 31,
     "metadata": {},
     "output_type": "execute_result"
    }
   ],
   "source": [
    "ac_tree_filter_pid_doi_name.count()"
   ]
  },
  {
   "cell_type": "code",
   "execution_count": 32,
   "metadata": {},
   "outputs": [
    {
     "name": "stdout",
     "output_type": "stream",
     "text": [
      "root\n",
      " |-- pid: string (nullable = true)\n",
      " |-- pubid: string (nullable = true)\n",
      " |-- score_total: string (nullable = true)\n",
      " |-- score_human: string (nullable = true)\n",
      " |-- score_coa: string (nullable = true)\n",
      " |-- pmid: string (nullable = true)\n",
      " |-- doi: string (nullable = true)\n",
      " |-- s2id: string (nullable = true)\n",
      " |-- citations: string (nullable = true)\n",
      " |-- firstname: string (nullable = true)\n",
      " |-- middlename: string (nullable = true)\n",
      " |-- lastname: string (nullable = true)\n",
      "\n"
     ]
    }
   ],
   "source": [
    "ac_tree_filter_pid_doi_name.printSchema()"
   ]
  },
  {
   "cell_type": "code",
   "execution_count": 33,
   "metadata": {},
   "outputs": [
    {
     "data": {
      "text/plain": [
       "8735"
      ]
     },
     "execution_count": 33,
     "metadata": {},
     "output_type": "execute_result"
    }
   ],
   "source": [
    "ac_tree_filter_pid_doi_name.select('pid').distinct().count()"
   ]
  },
  {
   "cell_type": "code",
   "execution_count": null,
   "metadata": {},
   "outputs": [],
   "source": []
  },
  {
   "cell_type": "code",
   "execution_count": 74,
   "metadata": {},
   "outputs": [
    {
     "name": "stdout",
     "output_type": "stream",
     "text": [
      "root\n",
      " |-- pid: string (nullable = true)\n",
      " |-- pubid: string (nullable = true)\n",
      " |-- score_total: string (nullable = true)\n",
      " |-- score_human: string (nullable = true)\n",
      " |-- score_coa: string (nullable = true)\n",
      " |-- pmid: string (nullable = true)\n",
      " |-- doi: string (nullable = true)\n",
      " |-- s2id: string (nullable = true)\n",
      " |-- citations: string (nullable = true)\n",
      " |-- firstname: string (nullable = true)\n",
      " |-- middlename: string (nullable = true)\n",
      " |-- lastname: string (nullable = true)\n",
      "\n"
     ]
    }
   ],
   "source": [
    "ac_tree_author_pub_name.printSchema()"
   ]
  },
  {
   "cell_type": "code",
   "execution_count": 75,
   "metadata": {},
   "outputs": [
    {
     "data": {
      "text/plain": [
       "15538"
      ]
     },
     "execution_count": 75,
     "metadata": {},
     "output_type": "execute_result"
    }
   ],
   "source": [
    "ac_tree_author_pub_name.select('pid').distinct().count()"
   ]
  },
  {
   "cell_type": "code",
   "execution_count": null,
   "metadata": {},
   "outputs": [],
   "source": []
  },
  {
   "cell_type": "code",
   "execution_count": null,
   "metadata": {},
   "outputs": [],
   "source": []
  },
  {
   "cell_type": "code",
   "execution_count": null,
   "metadata": {},
   "outputs": [],
   "source": []
  },
  {
   "cell_type": "code",
   "execution_count": 34,
   "metadata": {},
   "outputs": [],
   "source": [
    "# actually join"
   ]
  },
  {
   "cell_type": "code",
   "execution_count": 35,
   "metadata": {},
   "outputs": [
    {
     "name": "stdout",
     "output_type": "stream",
     "text": [
      "root\n",
      " |-- pid: string (nullable = true)\n",
      " |-- pubid: string (nullable = true)\n",
      " |-- score_total: string (nullable = true)\n",
      " |-- score_human: string (nullable = true)\n",
      " |-- score_coa: string (nullable = true)\n",
      " |-- pmid: string (nullable = true)\n",
      " |-- doi: string (nullable = true)\n",
      " |-- s2id: string (nullable = true)\n",
      " |-- citations: string (nullable = true)\n",
      " |-- firstname: string (nullable = true)\n",
      " |-- middlename: string (nullable = true)\n",
      " |-- lastname: string (nullable = true)\n",
      "\n"
     ]
    }
   ],
   "source": [
    "ac_tree_filter_pid_doi_name.printSchema()"
   ]
  },
  {
   "cell_type": "code",
   "execution_count": 36,
   "metadata": {},
   "outputs": [
    {
     "name": "stdout",
     "output_type": "stream",
     "text": [
      "root\n",
      " |-- AuthorId: long (nullable = true)\n",
      " |-- Doi: string (nullable = true)\n",
      " |-- Author_NormalizedName: string (nullable = true)\n",
      "\n"
     ]
    }
   ],
   "source": [
    "mag_author_doi_name.printSchema()"
   ]
  },
  {
   "cell_type": "code",
   "execution_count": 37,
   "metadata": {},
   "outputs": [
    {
     "data": {
      "text/plain": [
       "163263"
      ]
     },
     "execution_count": 37,
     "metadata": {},
     "output_type": "execute_result"
    }
   ],
   "source": [
    "ac_tree_filter_pid_doi_name.select('pid','doi').distinct().count()"
   ]
  },
  {
   "cell_type": "code",
   "execution_count": 38,
   "metadata": {},
   "outputs": [
    {
     "data": {
      "text/plain": [
       "0"
      ]
     },
     "execution_count": 38,
     "metadata": {},
     "output_type": "execute_result"
    }
   ],
   "source": [
    "ac_tree_filter_pid_doi_name.where(fn.col('pid').isNull()).count()"
   ]
  },
  {
   "cell_type": "code",
   "execution_count": 39,
   "metadata": {},
   "outputs": [
    {
     "data": {
      "text/plain": [
       "0"
      ]
     },
     "execution_count": 39,
     "metadata": {},
     "output_type": "execute_result"
    }
   ],
   "source": [
    "ac_tree_filter_pid_doi_name.where(fn.col('doi').isNull()).count()"
   ]
  },
  {
   "cell_type": "code",
   "execution_count": 40,
   "metadata": {},
   "outputs": [
    {
     "data": {
      "text/plain": [
       "0"
      ]
     },
     "execution_count": 40,
     "metadata": {},
     "output_type": "execute_result"
    }
   ],
   "source": [
    "ac_tree_filter_pid_doi_name.where(fn.col('lastname').isNull()).count()"
   ]
  },
  {
   "cell_type": "code",
   "execution_count": 41,
   "metadata": {},
   "outputs": [],
   "source": [
    "all_doi_author = ac_tree_filter_pid_doi_name.join(mag_author_doi_name, 'doi')"
   ]
  },
  {
   "cell_type": "code",
   "execution_count": 42,
   "metadata": {},
   "outputs": [
    {
     "data": {
      "text/plain": [
       "270910"
      ]
     },
     "execution_count": 42,
     "metadata": {},
     "output_type": "execute_result"
    }
   ],
   "source": [
    "all_doi_author.count()"
   ]
  },
  {
   "cell_type": "code",
   "execution_count": 43,
   "metadata": {},
   "outputs": [
    {
     "data": {
      "text/plain": [
       "5606"
      ]
     },
     "execution_count": 43,
     "metadata": {},
     "output_type": "execute_result"
    }
   ],
   "source": [
    "all_doi_author.select('pid').distinct().count()"
   ]
  },
  {
   "cell_type": "code",
   "execution_count": null,
   "metadata": {},
   "outputs": [],
   "source": []
  },
  {
   "cell_type": "code",
   "execution_count": null,
   "metadata": {},
   "outputs": [],
   "source": []
  },
  {
   "cell_type": "code",
   "execution_count": 76,
   "metadata": {},
   "outputs": [],
   "source": [
    "all_doi_author_all_pid = ac_tree_author_pub_name.join(mag_author_doi_name, 'doi')"
   ]
  },
  {
   "cell_type": "code",
   "execution_count": 77,
   "metadata": {},
   "outputs": [
    {
     "data": {
      "text/plain": [
       "460456"
      ]
     },
     "execution_count": 77,
     "metadata": {},
     "output_type": "execute_result"
    }
   ],
   "source": [
    "all_doi_author_all_pid.count()"
   ]
  },
  {
   "cell_type": "code",
   "execution_count": 78,
   "metadata": {},
   "outputs": [
    {
     "data": {
      "text/plain": [
       "9949"
      ]
     },
     "execution_count": 78,
     "metadata": {},
     "output_type": "execute_result"
    }
   ],
   "source": [
    "all_doi_author_all_pid.select('pid').distinct().count()"
   ]
  },
  {
   "cell_type": "code",
   "execution_count": null,
   "metadata": {},
   "outputs": [],
   "source": []
  },
  {
   "cell_type": "code",
   "execution_count": 44,
   "metadata": {},
   "outputs": [],
   "source": [
    "# name matching"
   ]
  },
  {
   "cell_type": "code",
   "execution_count": 45,
   "metadata": {},
   "outputs": [
    {
     "name": "stdout",
     "output_type": "stream",
     "text": [
      "root\n",
      " |-- doi: string (nullable = true)\n",
      " |-- pid: string (nullable = true)\n",
      " |-- pubid: string (nullable = true)\n",
      " |-- score_total: string (nullable = true)\n",
      " |-- score_human: string (nullable = true)\n",
      " |-- score_coa: string (nullable = true)\n",
      " |-- pmid: string (nullable = true)\n",
      " |-- s2id: string (nullable = true)\n",
      " |-- citations: string (nullable = true)\n",
      " |-- firstname: string (nullable = true)\n",
      " |-- middlename: string (nullable = true)\n",
      " |-- lastname: string (nullable = true)\n",
      " |-- AuthorId: long (nullable = true)\n",
      " |-- Author_NormalizedName: string (nullable = true)\n",
      "\n"
     ]
    }
   ],
   "source": [
    "all_doi_author.printSchema()"
   ]
  },
  {
   "cell_type": "code",
   "execution_count": null,
   "metadata": {},
   "outputs": [],
   "source": []
  },
  {
   "cell_type": "code",
   "execution_count": 80,
   "metadata": {},
   "outputs": [],
   "source": [
    "from operator import itemgetter\n",
    "from typing import Dict, List, Any, Union, Tuple\n",
    "import re\n",
    "from pyspark.sql.types import StringType\n",
    "###################################################\n",
    "\n",
    "# https://medium.com/@nkhaja/memoization-and-decorators-with-python-32f607439f84\n",
    "# https://github.com/tkem/cachetools\n",
    "\n",
    "from functools import wraps\n",
    "\n",
    "def memoize(func):\n",
    "    \"\"\"Memoization function.\"\"\"\n",
    "    cache = func.cache = {}\n",
    "\n",
    "    @wraps(func)\n",
    "    def memoize_func(*args, **kwargs):\n",
    "        key = str(args) + str(kwargs)\n",
    "        if key not in cache:\n",
    "            cache[key] = func(*args, **kwargs)\n",
    "        return cache[key]\n",
    "\n",
    "    return memoize_func\n",
    "\n",
    "##########################################################\n",
    "\n",
    "import sys\n",
    "import unicodedata\n",
    "from unidecode import unidecode\n",
    "\n",
    "@memoize\n",
    "def asciify(string):\n",
    "    \"\"\"Transliterate a string to ASCII.\"\"\"\n",
    "    string = unidecode(unicodedata.normalize(\"NFKD\", string))\n",
    "    string = string.encode(\"ascii\", \"ignore\")\n",
    "    string = string.decode(\"utf8\")\n",
    "    return string\n",
    "\n",
    "###############################################################\n",
    "\n",
    "# non (charactor, space, and comma)\n",
    "RE_NORMALIZE_WHOLE_NAME = re.compile(r\"[^a-zA-Z.\\s]+\")\n",
    "\n",
    "# DROPPED_AFFIXES = {'i', 'ii', 'iii', 'iv', 'v', 'vi', 'jr', 'sr', 'phd', 'apr', 'rph', 'pe', 'md',\n",
    "#                    'ma', 'dmd', 'cme', 'a', 'ab', 'am', 'ap', 'abu', 'al', 'auf',\n",
    "#                    'aus', 'bar', 'bath', 'bat', 'ben', 'bet', 'bin', 'bint', 'd', 'da',\n",
    "#                    'dall', 'dalla', 'das', 'de', 'degli', 'del', 'dell',\n",
    "#                    'della', 'dem', 'den', 'der', 'di', 'do', 'dos', 'ds', 'du',\n",
    "#                    'e', 'el', 'i', 'ibn', 'im', 'l', 'la', 'las', 'le', 'lo',\n",
    "#                    'los', 'st.', 'st', 'te', 'ter', 'ten', 'm', 'mac', 'mc', 'mhic', 'mic', 'o',\n",
    "#                    'op', 'pietro', 'und', 'v', 'van', 'vanden', 'vere', 'vom', 'von', 'zu', 'zum',\n",
    "#                    'zur'}\n",
    "\n",
    "DROPPED_AFFIXES = {'ii', 'iii', 'iv', 'vi', 'jr', 'sr', 'phd', 'apr', 'rph'}\n",
    "\n",
    "@memoize\n",
    "def normalize_name(name, drop_common_affixes=True):\n",
    "    if name is None:\n",
    "        return \"\"\n",
    "    name = asciify(name).lower()\n",
    "    name = RE_NORMALIZE_WHOLE_NAME.sub(\" \", name)\n",
    "    if drop_common_affixes:\n",
    "        names = name.split(\" \")\n",
    "        if len(names) > 1:\n",
    "            without_affixes = list(filter(lambda x: x not in DROPPED_AFFIXES, names))\n",
    "            name = \" \".join(without_affixes)\n",
    "\n",
    "    name = name.strip()\n",
    "    return name\n",
    "\n",
    "normalize_name_udf = fn.udf(normalize_name, StringType())"
   ]
  },
  {
   "cell_type": "code",
   "execution_count": 81,
   "metadata": {},
   "outputs": [],
   "source": [
    "from pyspark.sql.types import StringType, StructType, StructField\n",
    "\n",
    "def concat_author_name(first_name, middle_name):\n",
    "    if(first_name is None) or len(first_name) == 0:\n",
    "        return normalize_name(middle_name)\n",
    "    elif (middle_name is None) or len(middle_name) == 0:\n",
    "        return normalize_name(first_name)\n",
    "    else:\n",
    "        return normalize_name(\" \".join([first_name, middle_name]))\n",
    "    \n",
    "concat_author_name_udf = fn.udf(concat_author_name, StringType())"
   ]
  },
  {
   "cell_type": "code",
   "execution_count": 48,
   "metadata": {},
   "outputs": [],
   "source": [
    "all_doi_author_actree = all_doi_author.withColumn('first_middle', concat_author_name_udf(fn.col('firstname'), fn.col('middlename')))"
   ]
  },
  {
   "cell_type": "code",
   "execution_count": null,
   "metadata": {},
   "outputs": [],
   "source": []
  },
  {
   "cell_type": "code",
   "execution_count": 82,
   "metadata": {},
   "outputs": [],
   "source": [
    "all_doi_author_all_pid_actree = all_doi_author_all_pid.withColumn('first_middle', concat_author_name_udf(fn.col('firstname'), fn.col('middlename')))"
   ]
  },
  {
   "cell_type": "code",
   "execution_count": 83,
   "metadata": {},
   "outputs": [],
   "source": [
    "from pyspark.sql.types import StringType, StructType, StructField\n",
    "\n",
    "schema = StructType([\n",
    "    StructField(\"Author_first_name\", StringType(), False),\n",
    "     StructField(\"Author_family_name\", StringType(), False),\n",
    "])\n",
    "\n",
    "def split_author_name(full_name:str):\n",
    "    name_arr = full_name.split()\n",
    "    if len(name_arr) == 1:\n",
    "        return (\"\", normalize_name(full_name))\n",
    "    else:\n",
    "        return (normalize_name(' '.join(name_arr[:-1])), normalize_name(name_arr[-1]))\n",
    "    \n",
    "split_author_name_udf = fn.udf(split_author_name, schema)"
   ]
  },
  {
   "cell_type": "code",
   "execution_count": 50,
   "metadata": {},
   "outputs": [],
   "source": [
    "all_doi_author_actree_MAG = all_doi_author_actree.withColumn('Author_name_arr', split_author_name_udf(fn.col('Author_NormalizedName')))"
   ]
  },
  {
   "cell_type": "code",
   "execution_count": null,
   "metadata": {},
   "outputs": [],
   "source": []
  },
  {
   "cell_type": "code",
   "execution_count": 84,
   "metadata": {},
   "outputs": [],
   "source": [
    "all_doi_author_all_pid_actree_MAG = all_doi_author_all_pid_actree.withColumn('Author_name_arr', split_author_name_udf(fn.col('Author_NormalizedName')))"
   ]
  },
  {
   "cell_type": "code",
   "execution_count": 51,
   "metadata": {},
   "outputs": [
    {
     "name": "stdout",
     "output_type": "stream",
     "text": [
      "root\n",
      " |-- doi: string (nullable = true)\n",
      " |-- pid: string (nullable = true)\n",
      " |-- pubid: string (nullable = true)\n",
      " |-- score_total: string (nullable = true)\n",
      " |-- score_human: string (nullable = true)\n",
      " |-- score_coa: string (nullable = true)\n",
      " |-- pmid: string (nullable = true)\n",
      " |-- s2id: string (nullable = true)\n",
      " |-- citations: string (nullable = true)\n",
      " |-- firstname: string (nullable = true)\n",
      " |-- middlename: string (nullable = true)\n",
      " |-- lastname: string (nullable = true)\n",
      " |-- AuthorId: long (nullable = true)\n",
      " |-- Author_NormalizedName: string (nullable = true)\n",
      " |-- first_middle: string (nullable = true)\n",
      " |-- Author_name_arr: struct (nullable = true)\n",
      " |    |-- Author_first_name: string (nullable = false)\n",
      " |    |-- Author_family_name: string (nullable = false)\n",
      "\n"
     ]
    }
   ],
   "source": [
    "all_doi_author_actree_MAG.printSchema()"
   ]
  },
  {
   "cell_type": "code",
   "execution_count": null,
   "metadata": {},
   "outputs": [],
   "source": []
  },
  {
   "cell_type": "code",
   "execution_count": 52,
   "metadata": {},
   "outputs": [],
   "source": [
    "all_doi_author_actree_MAG = all_doi_author_actree_MAG.select(\n",
    "    [col for col in all_doi_author_actree_MAG.columns if col!='Author_name_arr'] + \n",
    "    [\n",
    "        fn.col('Author_name_arr.Author_first_name').alias('Author_first_name'),\n",
    "        fn.col('Author_name_arr.Author_family_name').alias('Author_family_name')\n",
    "    ]\n",
    ")"
   ]
  },
  {
   "cell_type": "code",
   "execution_count": 137,
   "metadata": {},
   "outputs": [],
   "source": [
    "# all_doi_author_all_pid_actree_MAG = all_doi_author_all_pid_actree_MAG.select('doi','pid',\n",
    "#                                                                               'pubid','score_total','score_human','score_coa','pmid',\n",
    "#                                                                               's2id','citations','firstname','middlename','lastname',\n",
    "#                                                                               'AuthorId','Author_NormalizedName','first_middle',\n",
    "#                                                                               fn.col('Author_name_arr.Author_first_name').alias('Author_first_name'),\n",
    "#                                                                               fn.col('Author_name_arr.Author_family_name').alias('Author_family_name')     \n",
    "# )"
   ]
  },
  {
   "cell_type": "code",
   "execution_count": 86,
   "metadata": {},
   "outputs": [],
   "source": [
    "all_doi_author_all_pid_actree_MAG = all_doi_author_all_pid_actree_MAG.select(\n",
    "    [col for col in all_doi_author_all_pid_actree_MAG.columns if col!='Author_name_arr'] + \n",
    "    [\n",
    "        fn.col('Author_name_arr.Author_first_name').alias('Author_first_name'),\n",
    "        fn.col('Author_name_arr.Author_family_name').alias('Author_family_name')\n",
    "    ]\n",
    ")"
   ]
  },
  {
   "cell_type": "code",
   "execution_count": 88,
   "metadata": {},
   "outputs": [
    {
     "name": "stdout",
     "output_type": "stream",
     "text": [
      "root\n",
      " |-- doi: string (nullable = true)\n",
      " |-- pid: string (nullable = true)\n",
      " |-- pubid: string (nullable = true)\n",
      " |-- score_total: string (nullable = true)\n",
      " |-- score_human: string (nullable = true)\n",
      " |-- score_coa: string (nullable = true)\n",
      " |-- pmid: string (nullable = true)\n",
      " |-- s2id: string (nullable = true)\n",
      " |-- citations: string (nullable = true)\n",
      " |-- firstname: string (nullable = true)\n",
      " |-- middlename: string (nullable = true)\n",
      " |-- lastname: string (nullable = true)\n",
      " |-- AuthorId: long (nullable = true)\n",
      " |-- Author_NormalizedName: string (nullable = true)\n",
      " |-- first_middle: string (nullable = true)\n",
      " |-- Author_first_name: string (nullable = true)\n",
      " |-- Author_family_name: string (nullable = true)\n",
      "\n"
     ]
    }
   ],
   "source": [
    "all_doi_author_all_pid_actree_MAG.printSchema()"
   ]
  },
  {
   "cell_type": "code",
   "execution_count": 89,
   "metadata": {},
   "outputs": [
    {
     "name": "stdout",
     "output_type": "stream",
     "text": [
      "+--------------------+----+------+-----------+-----------+---------+-------+--------------------+---------+---------+----------+--------+----------+---------------------+------------+-----------------+------------------+\n",
      "|                 doi| pid| pubid|score_total|score_human|score_coa|   pmid|                s2id|citations|firstname|middlename|lastname|  AuthorId|Author_NormalizedName|first_middle|Author_first_name|Author_family_name|\n",
      "+--------------------+----+------+-----------+-----------+---------+-------+--------------------+---------+---------+----------+--------+----------+---------------------+------------+-----------------+------------------+\n",
      "|10.1002/(SICI)109...|7821|789632|          1|          1|        1|9331171|df723224938b573d5...|       52|    Roger|        P.|   Croll|1971130096|        roger p croll|    roger p.|          roger p|             croll|\n",
      "|10.1002/(SICI)109...|7821|789632|          1|          1|        1|9331171|df723224938b573d5...|       52|    Roger|        P.|   Croll|2569078978|            xuemo fan|    roger p.|            xuemo|               fan|\n",
      "|10.1002/(SICI)109...|7821|789632|          1|          1|        1|9331171|df723224938b573d5...|       52|    Roger|        P.|   Croll|2696951692|                bo wu|    roger p.|               bo|                wu|\n",
      "|10.1002/(SICI)109...|7821|789632|          1|          1|        1|9331171|df723224938b573d5...|       52|    Roger|        P.|   Croll|2243628209|     sherry d painter|    roger p.|         sherry d|           painter|\n",
      "|10.1002/(SICI)109...|7821|789632|          1|          1|        1|9331171|df723224938b573d5...|       52|    Roger|        P.|   Croll|2713409275|              li fang|    roger p.|               li|              fang|\n",
      "+--------------------+----+------+-----------+-----------+---------+-------+--------------------+---------+---------+----------+--------+----------+---------------------+------------+-----------------+------------------+\n",
      "only showing top 5 rows\n",
      "\n"
     ]
    }
   ],
   "source": [
    "all_doi_author_all_pid_actree_MAG.show(5)"
   ]
  },
  {
   "cell_type": "code",
   "execution_count": 90,
   "metadata": {},
   "outputs": [],
   "source": [
    "from nltk.metrics.distance import edit_distance\n",
    "\n",
    "from pyspark.sql.types import StringType, StructType, StructField, IntegerType\n",
    "\n",
    "schema = StructType([\n",
    "    StructField(\"matching_level\", IntegerType(), False),\n",
    "    StructField(\"matching_dist\", IntegerType(), False)\n",
    "])\n",
    "\n",
    "\n",
    "def author_name_strict_match(pi_first_name, pi_family_name, author_first_name, author_family_name):\n",
    "    pi_initial_flag = False\n",
    "    author_initial_flag = False\n",
    "    \n",
    "    pi_full_name = pi_first_name + pi_family_name\n",
    "    author_full_name = author_first_name + author_family_name\n",
    "    \n",
    "    if(pi_first_name is not None) and len(pi_first_name)>0:\n",
    "        pi_first_name_initial = pi_first_name[0]\n",
    "    else:\n",
    "        pi_first_name_initial = ''\n",
    "    \n",
    "    if pi_first_name.find('.')!= -1 or len(pi_first_name) <=2:\n",
    "        pi_initial_flag = True\n",
    "    if author_first_name.find('.')!= -1 or len(author_first_name) <=2:\n",
    "        author_initial_flag = True\n",
    "        \n",
    "    \n",
    "    if(author_first_name is not None) and len(author_first_name)>0:\n",
    "        author_first_name_initial = author_first_name[0]\n",
    "    else:\n",
    "        author_first_name_initial = ''\n",
    "      \n",
    "    if (pi_family_name  == author_family_name) and (pi_first_name == author_first_name):\n",
    "        level = 1\n",
    "        dist = 0\n",
    "    elif (pi_family_name == author_family_name) and (pi_initial_flag or author_initial_flag) and (pi_first_name_initial == author_first_name_initial):\n",
    "        level = 2\n",
    "        dist = edit_distance(pi_first_name, author_first_name)\n",
    "    elif (pi_family_name == author_family_name) and (pi_first_name_initial == author_first_name_initial):\n",
    "        level = 3\n",
    "        dist = edit_distance(pi_first_name, author_first_name)\n",
    "    elif pi_family_name == author_family_name:\n",
    "        level = 4\n",
    "        dist = edit_distance(pi_first_name, author_first_name)\n",
    "    elif (pi_first_name == author_first_name):\n",
    "        level = 5\n",
    "        dist=edit_distance(pi_family_name, author_family_name)\n",
    "    elif (pi_first_name_initial == author_first_name_initial):\n",
    "        level = 6\n",
    "        dist = edit_distance(pi_full_name, author_full_name)\n",
    "    else:\n",
    "        level = 7\n",
    "        dist = edit_distance(pi_full_name, author_full_name)\n",
    "        \n",
    "    return level, dist\n",
    "\n",
    "\n",
    "def author_name_strict_match_upgraded(pi_first_name, pi_family_name, author_first_name, author_family_name):\n",
    "    pi_full_name = pi_first_name + pi_family_name\n",
    "    author_full_name = author_first_name + author_family_name\n",
    "    if(pi_first_name is not None) and len(pi_first_name)>0:\n",
    "        pi_first_name_initial = pi_first_name[0]\n",
    "        pi_first_name_splited_arr = pi_first_name.split()\n",
    "        pi_first_name_first_word = pi_first_name_splited_arr[0]\n",
    "    else:\n",
    "        pi_first_name_initial = ''\n",
    "        pi_first_name_first_word = ''\n",
    "        pi_first_name_splited_arr = []\n",
    "    if(author_first_name is not None) and len(author_first_name)>0:\n",
    "        author_first_name_initial = author_first_name[0]\n",
    "        author_first_name_splited_arr = author_first_name.split()\n",
    "        author_first_name_first_word = author_first_name_splited_arr[0]\n",
    "    else:\n",
    "        author_first_name_initial = ''\n",
    "        author_first_name_first_word = ''\n",
    "        author_first_name_splited_arr = []\n",
    "    # R. Delhougne, K. Nestinger, Gy. Tolmár, Arthur E. Lamel, Yu. V. Kaletina, Joost P. M. van Meerwijk, Kh. M. Kholmedov\n",
    "    # Daniel Acuna; DE Acuna; Daniel E. Acuna\n",
    "    # With the same family name\n",
    "    if (pi_family_name  == author_family_name):        \n",
    "        # Fully match\n",
    "        if (pi_first_name == author_first_name):\n",
    "            level = 1\n",
    "            dist = 0\n",
    "            return level, dist\n",
    "        # The same after combined\n",
    "#         PI_first_name='wenchao', PI_family_name='song', Author_first_name='wen liang', Author_family_name='song'\n",
    "#         PI_first_name='wenchao', PI_family_name='song', Author_first_name='wen chao', Author_family_name='song'            \n",
    "#         PI_first_name='qing y', PI_family_name='zheng', Author_first_name='yiqing', Author_family_name='zheng', matching=Row(matching_level=4, matching_dist=4)\n",
    "#         PI_first_name='qing y', PI_family_name='zheng', Author_first_name='qingyin', Author_family_name='zheng', matching=Row(matching_level=4, matching_dist=3)\n",
    "        if ((len(pi_first_name_splited_arr)>1) and (len(author_first_name_splited_arr)==1)):\n",
    "            if \"\".join(pi_first_name_splited_arr) == author_first_name:\n",
    "                level = 1\n",
    "                dist = 0\n",
    "                return level, dist \n",
    "            if \"\".join(pi_first_name_splited_arr) in author_first_name:\n",
    "                level = 2\n",
    "                dist = 0\n",
    "                return level, dist\n",
    "        if ( ((len(pi_first_name_splited_arr)==1) and (len(author_first_name_splited_arr)>1)) ):\n",
    "            if \"\".join(author_first_name_splited_arr) == pi_first_name:\n",
    "                level = 1\n",
    "                dist = 0\n",
    "                return level, dist\n",
    "            if \"\".join(author_first_name_splited_arr) in pi_first_name:\n",
    "                level = 2\n",
    "                dist = 0\n",
    "                return level, dist\n",
    "        if ((len(pi_first_name_first_word)>2) and len(author_first_name_first_word)>2) and (pi_first_name_first_word == author_first_name_first_word):\n",
    "            level = 3\n",
    "            dist = edit_distance(pi_first_name, author_first_name)\n",
    "            return level, dist\n",
    "        # If both of the first names is 3 charactors or more, check if pi_first_name and author_first_name contains each other\n",
    "        if len(pi_first_name)>2 and len(author_first_name)>2:\n",
    "            if (pi_first_name in author_first_name) or (author_first_name in pi_first_name):\n",
    "                level = 4\n",
    "                dist = edit_distance(pi_first_name, author_first_name)\n",
    "                return level, dist        \n",
    "            if (len(pi_first_name_first_word)>2 and (pi_first_name_first_word in author_first_name))  or (len(author_first_name_first_word)>2 and (author_first_name_first_word in pi_first_name)):\n",
    "                level = 5\n",
    "                dist = edit_distance(pi_first_name, author_first_name)\n",
    "                return level, dist\n",
    "#         PI_first_name='w timothy', PI_family_name='garvey', Author_first_name='w  john', Author_family_name='garvey'\n",
    "#         PI_first_name='w timothy', PI_family_name='garvey', Author_first_name='w  timothy', Author_family_name='garvey'\n",
    "#         PI_first_name='x  long', PI_family_name='zheng', Author_first_name='x  l', Author_family_name='zheng'\n",
    "#         PI_first_name='x  long', PI_family_name='zheng', Author_first_name='x  w', Author_family_name='zheng'\n",
    "        # if first name could divided into first name and middle name, compare the first letter of the first and middle name\n",
    "        if ((len(pi_first_name_splited_arr)>1) and (len(author_first_name_splited_arr)>1)):\n",
    "            if (pi_first_name_splited_arr[0][0] + pi_first_name_splited_arr[1][0]) == (author_first_name_splited_arr[0][0] + author_first_name_splited_arr[1][0]):\n",
    "                level = 6\n",
    "                dist = edit_distance(pi_first_name, author_first_name)\n",
    "                return level, dist        \n",
    "        # compare first name initial\n",
    "        if len(pi_first_name)==1 or len(author_first_name) == 1:\n",
    "            if (pi_first_name_initial == author_first_name_initial):\n",
    "                level = 7\n",
    "                dist = edit_distance(pi_first_name, author_first_name)\n",
    "                return level, dist     \n",
    "        # compare first name initial\n",
    "        # DE acuna, Daniel Acuna\n",
    "        level = 8\n",
    "        dist = edit_distance(pi_first_name, author_first_name)\n",
    "        return level, dist\n",
    "    if (pi_first_name == author_first_name):\n",
    "        level = 9\n",
    "        dist=edit_distance(pi_family_name, author_family_name)\n",
    "        return level, dist\n",
    "    if (pi_first_name_initial == author_first_name_initial):\n",
    "        level = 10\n",
    "        dist = edit_distance(pi_full_name, author_full_name)\n",
    "        return level, dist\n",
    "    level = 11\n",
    "    dist = edit_distance(pi_full_name, author_full_name)\n",
    "    return level, dist\n",
    "\n",
    "\n",
    "author_name_match_udf = fn.udf(author_name_match, schema)   \n",
    "author_name_strict_match_udf = fn.udf(author_name_strict_match, schema)  \n",
    "author_name_strict_match_upgraded_udf = fn.udf(author_name_strict_match_upgraded, schema)"
   ]
  },
  {
   "cell_type": "code",
   "execution_count": 62,
   "metadata": {},
   "outputs": [],
   "source": [
    "all_doi_author_actree_MAG_strict_match = all_doi_author_actree_MAG.withColumn(\n",
    "    'strong_matching', author_name_strict_match_upgraded_udf(fn.col('first_middle'),normalize_name_udf(fn.col('lastname')),fn.col('Author_first_name'),fn.col('Author_family_name'))\n",
    ")"
   ]
  },
  {
   "cell_type": "code",
   "execution_count": null,
   "metadata": {},
   "outputs": [],
   "source": []
  },
  {
   "cell_type": "code",
   "execution_count": 91,
   "metadata": {},
   "outputs": [],
   "source": [
    "all_doi_author_all_pid_actree_MAG_strict_match = all_doi_author_all_pid_actree_MAG.withColumn(\n",
    "    'strong_matching', author_name_strict_match_upgraded_udf(fn.col('first_middle'),normalize_name_udf(fn.col('lastname')),fn.col('Author_first_name'),fn.col('Author_family_name'))\n",
    ")"
   ]
  },
  {
   "cell_type": "code",
   "execution_count": null,
   "metadata": {},
   "outputs": [],
   "source": []
  },
  {
   "cell_type": "code",
   "execution_count": null,
   "metadata": {},
   "outputs": [],
   "source": []
  },
  {
   "cell_type": "code",
   "execution_count": 63,
   "metadata": {},
   "outputs": [
    {
     "data": {
      "text/plain": [
       "270910"
      ]
     },
     "execution_count": 63,
     "metadata": {},
     "output_type": "execute_result"
    }
   ],
   "source": [
    "all_doi_author_actree_MAG_strict_match.cache().count()"
   ]
  },
  {
   "cell_type": "code",
   "execution_count": 64,
   "metadata": {},
   "outputs": [],
   "source": [
    "all_doi_author_actree_MAG_strict_match.write.parquet('/user/feng/mentor_hub_impact/super_strong_confidence_all_doi_author_actree_MAG_human_annotate.parquet')"
   ]
  },
  {
   "cell_type": "code",
   "execution_count": 93,
   "metadata": {},
   "outputs": [],
   "source": [
    "all_doi_author_all_pid_actree_MAG_strict_match.write.parquet('/user/feng/mentor_hub_impact/super_strong_confidence_all_doi_all_pid_author_actree_MAG_human_annotate.parquet', mode='overwrite')"
   ]
  },
  {
   "cell_type": "code",
   "execution_count": null,
   "metadata": {},
   "outputs": [],
   "source": []
  },
  {
   "cell_type": "code",
   "execution_count": null,
   "metadata": {},
   "outputs": [],
   "source": [
    "# use level 6, or level 7, please see the code"
   ]
  },
  {
   "cell_type": "code",
   "execution_count": 3,
   "metadata": {},
   "outputs": [],
   "source": [
    "all_doi_author_actree_MAG_strict_match = spark.read.parquet('/user/feng/mentor_hub_impact/super_strong_confidence_all_doi_author_actree_MAG_human_annotate.parquet')"
   ]
  },
  {
   "cell_type": "code",
   "execution_count": 4,
   "metadata": {},
   "outputs": [
    {
     "name": "stdout",
     "output_type": "stream",
     "text": [
      "+--------------------+------+--------+-----------+-----------+---------+--------+--------------------+---------+---------+----------+--------+----------+---------------------+--------------+-----------------+------------------+---------------+\n",
      "|                 doi|   pid|   pubid|score_total|score_human|score_coa|    pmid|                s2id|citations|firstname|middlename|lastname|  AuthorId|Author_NormalizedName|  first_middle|Author_first_name|Author_family_name|strong_matching|\n",
      "+--------------------+------+--------+-----------+-----------+---------+--------+--------------------+---------+---------+----------+--------+----------+---------------------+--------------+-----------------+------------------+---------------+\n",
      "|10.1002/(SICI)109...| 13451| 1191183|          1|          1|        0| 9373966|17a624905b216d4dd...|       10|     Elba|        E.| Serrano|2059441939| daniel lopezmaldo...|       elba e.|           daniel|    lopezmaldonado|       [11, 15]|\n",
      "|10.1002/(SICI)109...| 13451| 1191183|          1|          1|        0| 9373966|17a624905b216d4dd...|       10|     Elba|        E.| Serrano| 349761595| vincent l lopezanaya|       elba e.|        vincent l|        lopezanaya|       [11, 16]|\n",
      "|10.1002/(SICI)109...| 13451| 1191183|          1|          1|        0| 9373966|17a624905b216d4dd...|       10|     Elba|        E.| Serrano|2143158788|       elba e serrano|       elba e.|           elba e|           serrano|         [3, 1]|\n",
      "|10.1002/(SICI)152...|733942|20344608|          1|          1|        1|29711560|01a4ce2f5129b4680...|       51|  Herbert|    Walter|  Roesky|2190750511|    hansgeorg schmidt|herbert walter|        hansgeorg|           schmidt|       [10, 19]|\n",
      "|10.1002/(SICI)152...|733942|20344608|          1|          1|        1|29711560|01a4ce2f5129b4680...|       51|  Herbert|    Walter|  Roesky|2179698720|              yu yang|herbert walter|               yu|              yang|       [11, 19]|\n",
      "|10.1002/(SICI)152...|733942|20344608|          1|          1|        1|29711560|01a4ce2f5129b4680...|       51|  Herbert|    Walter|  Roesky|1940320937|          jiri pinkas|herbert walter|             jiri|            pinkas|       [11, 17]|\n",
      "|10.1002/(SICI)152...|733942|20344608|          1|          1|        1|29711560|01a4ce2f5129b4680...|       51|  Herbert|    Walter|  Roesky| 168651710|     herbert w roesky|herbert walter|        herbert w|            roesky|         [3, 5]|\n",
      "|10.1002/(SICI)152...|733942|20344608|          1|          1|        1|29711560|01a4ce2f5129b4680...|       51|  Herbert|    Walter|  Roesky|2068342528|   mathias noltemeyer|herbert walter|          mathias|        noltemeyer|       [11, 16]|\n",
      "|10.1002/1521-3773...| 56302| 2988820|          1|          1|        1|10941078|                NULL|     NULL|      Jay|        S.|  Siegel|1517871915| kenneth i hardcastle|        jay s.|        kenneth i|        hardcastle|       [11, 17]|\n",
      "|10.1002/1521-3773...| 56302| 2988820|          1|          1|        1|10941078|                NULL|     NULL|      Jay|        S.|  Siegel|2305795623|            f ponzini|        jay s.|                f|           ponzini|       [11, 11]|\n",
      "+--------------------+------+--------+-----------+-----------+---------+--------+--------------------+---------+---------+----------+--------+----------+---------------------+--------------+-----------------+------------------+---------------+\n",
      "only showing top 10 rows\n",
      "\n"
     ]
    }
   ],
   "source": [
    "all_doi_author_actree_MAG_strict_match.show(10)"
   ]
  },
  {
   "cell_type": "code",
   "execution_count": 5,
   "metadata": {},
   "outputs": [],
   "source": [
    "from pyspark.sql.window import Window as W\n",
    "pid_smallest_level_win = W.partitionBy('pid')\n",
    "\n",
    "pid_strong_matched_paperlevellowest = all_doi_author_actree_MAG_strict_match.withColumn(\n",
    "    'strong_matching_level_lowest_pid', fn.min('strong_matching.matching_level').over(pid_smallest_level_win)\n",
    ")"
   ]
  },
  {
   "cell_type": "code",
   "execution_count": 6,
   "metadata": {},
   "outputs": [
    {
     "data": {
      "text/plain": [
       "252816"
      ]
     },
     "execution_count": 6,
     "metadata": {},
     "output_type": "execute_result"
    }
   ],
   "source": [
    "pid_strong_matched_paperlevellowest.where(\n",
    "    fn.col('strong_matching_level_lowest_pid') <=6\n",
    ").count()"
   ]
  },
  {
   "cell_type": "code",
   "execution_count": 7,
   "metadata": {},
   "outputs": [
    {
     "data": {
      "text/plain": [
       "256513"
      ]
     },
     "execution_count": 7,
     "metadata": {},
     "output_type": "execute_result"
    }
   ],
   "source": [
    "pid_strong_matched_paperlevellowest.where(\n",
    "    fn.col('strong_matching_level_lowest_pid') <=7\n",
    ").count()"
   ]
  },
  {
   "cell_type": "code",
   "execution_count": null,
   "metadata": {},
   "outputs": [],
   "source": []
  },
  {
   "cell_type": "code",
   "execution_count": 8,
   "metadata": {},
   "outputs": [],
   "source": [
    "pid_strong_matched_lowest = pid_strong_matched_paperlevellowest.where(\n",
    "    fn.col('strong_matching.matching_level') == fn.col('strong_matching_level_lowest_pid')\n",
    ").where(\n",
    "    fn.col('strong_matching_level_lowest_pid') <= 6\n",
    ").dropDuplicates(['AuthorId','pid'])"
   ]
  },
  {
   "cell_type": "code",
   "execution_count": 9,
   "metadata": {},
   "outputs": [
    {
     "data": {
      "text/plain": [
       "6619"
      ]
     },
     "execution_count": 9,
     "metadata": {},
     "output_type": "execute_result"
    }
   ],
   "source": [
    "pid_strong_matched_lowest.cache().count()"
   ]
  },
  {
   "cell_type": "code",
   "execution_count": 11,
   "metadata": {},
   "outputs": [
    {
     "data": {
      "text/plain": [
       "[Row(doi='10.1128/JVI.02672-08', pid='491037', pubid='5514950', score_total='1', score_human='1', score_coa='1', pmid='19494020', s2id='01fd6b3eced28202e2426ec7dd57cf472c0bbe5e', citations='69', firstname='Emmanuel', middlename=None, lastname='Datan', AuthorId=42226670, Author_NormalizedName='emmanuel datan', first_middle='emmanuel', Author_first_name='emmanuel', Author_family_name='datan', strong_matching=Row(matching_level=1, matching_dist=0), strong_matching_level_lowest_pid=1),\n",
       " Row(doi='10.1177/0748730416631895', pid='70097', pubid='8175938', score_total='1', score_human='1', score_coa='0.88', pmid='26955841', s2id='80b8a5a9aa6f7eed2ed1a4a938705bf6224370d0', citations='18', firstname='John', middlename='B.', lastname='Hogenesch', AuthorId=185407980, Author_NormalizedName='john b hogenesch', first_middle='john b.', Author_first_name='john b', Author_family_name='hogenesch', strong_matching=Row(matching_level=3, matching_dist=1), strong_matching_level_lowest_pid=3),\n",
       " Row(doi='10.1128/AEM.03833-12', pid='119655', pubid='2228508', score_total='1', score_human='1', score_coa='1', pmid='23584789', s2id='81f18ede5eb25dc405ca6da65059f2debb55c5cb', citations='42', firstname='Paul', middlename='D.', lastname='Piehowski', AuthorId=1157383903, Author_NormalizedName='paul d piehowski', first_middle='paul d.', Author_first_name='paul d', Author_family_name='piehowski', strong_matching=Row(matching_level=3, matching_dist=1), strong_matching_level_lowest_pid=3),\n",
       " Row(doi='10.1080/08927022.2013.829219', pid='107697', pubid='5233633', score_total='1', score_human='1', score_coa='1', pmid='0', s2id='e3440fa7e78169a6aa1d55cd7b5dd45b2f86e0f1', citations='9', firstname='Thomas', middlename='A.', lastname='Manz', AuthorId=1966580989, Author_NormalizedName='thomas a manz', first_middle='thomas a.', Author_first_name='thomas a', Author_family_name='manz', strong_matching=Row(matching_level=3, matching_dist=1), strong_matching_level_lowest_pid=3),\n",
       " Row(doi='10.1063/1.3569761', pid='58197', pubid='3258696', score_total='1', score_human='1', score_coa='1', pmid='21476761', s2id='3259f1ab6828c5be8c468c2d59119dfc8e59c32a', citations='2', firstname='David', middlename='A.', lastname='Leigh', AuthorId=2000717459, Author_NormalizedName='david a leigh', first_middle='david a.', Author_first_name='david a', Author_family_name='leigh', strong_matching=Row(matching_level=3, matching_dist=1), strong_matching_level_lowest_pid=3)]"
      ]
     },
     "execution_count": 11,
     "metadata": {},
     "output_type": "execute_result"
    }
   ],
   "source": [
    "pid_strong_matched_lowest.take(5)"
   ]
  },
  {
   "cell_type": "code",
   "execution_count": null,
   "metadata": {},
   "outputs": [],
   "source": []
  },
  {
   "cell_type": "code",
   "execution_count": 12,
   "metadata": {},
   "outputs": [],
   "source": [
    "#integrate data together"
   ]
  },
  {
   "cell_type": "code",
   "execution_count": 13,
   "metadata": {},
   "outputs": [],
   "source": [
    "matching_couples = pid_strong_matched_lowest.select('pid','AuthorId')"
   ]
  },
  {
   "cell_type": "code",
   "execution_count": 14,
   "metadata": {},
   "outputs": [
    {
     "data": {
      "text/plain": [
       "6619"
      ]
     },
     "execution_count": 14,
     "metadata": {},
     "output_type": "execute_result"
    }
   ],
   "source": [
    "matching_couples.count()"
   ]
  },
  {
   "cell_type": "code",
   "execution_count": 15,
   "metadata": {},
   "outputs": [
    {
     "data": {
      "text/plain": [
       "6619"
      ]
     },
     "execution_count": 15,
     "metadata": {},
     "output_type": "execute_result"
    }
   ],
   "source": [
    "matching_couples.distinct().count()"
   ]
  },
  {
   "cell_type": "code",
   "execution_count": 116,
   "metadata": {},
   "outputs": [],
   "source": [
    "# case 1: multiple pid <---> one AuthorId, delete all data"
   ]
  },
  {
   "cell_type": "code",
   "execution_count": 16,
   "metadata": {},
   "outputs": [],
   "source": [
    "AuthorId_count = matching_couples.groupBy('AuthorId').count()"
   ]
  },
  {
   "cell_type": "code",
   "execution_count": 17,
   "metadata": {},
   "outputs": [],
   "source": [
    "matching_couples_uniqueAuthorId = matching_couples.join(AuthorId_count.where(fn.col('count') == 1), 'AuthorId').select('pid','AuthorId')"
   ]
  },
  {
   "cell_type": "code",
   "execution_count": 18,
   "metadata": {},
   "outputs": [
    {
     "data": {
      "text/plain": [
       "6601"
      ]
     },
     "execution_count": 18,
     "metadata": {},
     "output_type": "execute_result"
    }
   ],
   "source": [
    "matching_couples_uniqueAuthorId.count()"
   ]
  },
  {
   "cell_type": "code",
   "execution_count": 20,
   "metadata": {},
   "outputs": [],
   "source": [
    "# case 2: one pid <---> one AuthorId, keep all these parts of data"
   ]
  },
  {
   "cell_type": "code",
   "execution_count": 21,
   "metadata": {},
   "outputs": [],
   "source": [
    "pid_count = matching_couples_uniqueAuthorId.groupBy('pid').count()"
   ]
  },
  {
   "cell_type": "code",
   "execution_count": 22,
   "metadata": {},
   "outputs": [
    {
     "name": "stdout",
     "output_type": "stream",
     "text": [
      "+------+-----+\n",
      "|   pid|count|\n",
      "+------+-----+\n",
      "| 33821|   42|\n",
      "|687210|   34|\n",
      "| 52007|   29|\n",
      "+------+-----+\n",
      "only showing top 3 rows\n",
      "\n"
     ]
    }
   ],
   "source": [
    "pid_count.orderBy('count',ascending = False).show(3)"
   ]
  },
  {
   "cell_type": "code",
   "execution_count": 23,
   "metadata": {},
   "outputs": [],
   "source": [
    "matching_couples_1vs1 = matching_couples_uniqueAuthorId.join(pid_count.where(fn.col('count') == 1), 'pid').select('pid','AuthorId')"
   ]
  },
  {
   "cell_type": "code",
   "execution_count": 24,
   "metadata": {},
   "outputs": [
    {
     "data": {
      "text/plain": [
       "4380"
      ]
     },
     "execution_count": 24,
     "metadata": {},
     "output_type": "execute_result"
    }
   ],
   "source": [
    "matching_couples_1vs1.count()"
   ]
  },
  {
   "cell_type": "code",
   "execution_count": 25,
   "metadata": {},
   "outputs": [
    {
     "data": {
      "text/plain": [
       "4380"
      ]
     },
     "execution_count": 25,
     "metadata": {},
     "output_type": "execute_result"
    }
   ],
   "source": [
    "pid_count.where(fn.col('count') == 1).count()"
   ]
  },
  {
   "cell_type": "code",
   "execution_count": 26,
   "metadata": {},
   "outputs": [],
   "source": [
    "# case 3: one pid <---> multiple AuthorId, those max_score == 1, "
   ]
  },
  {
   "cell_type": "code",
   "execution_count": 27,
   "metadata": {},
   "outputs": [],
   "source": [
    "matching_couples_1vsm = matching_couples_uniqueAuthorId.join(pid_count.where(fn.col('count') > 1), 'pid').select('pid','AuthorId')"
   ]
  },
  {
   "cell_type": "code",
   "execution_count": 28,
   "metadata": {},
   "outputs": [
    {
     "data": {
      "text/plain": [
       "2221"
      ]
     },
     "execution_count": 28,
     "metadata": {},
     "output_type": "execute_result"
    }
   ],
   "source": [
    "matching_couples_1vsm.count()"
   ]
  },
  {
   "cell_type": "code",
   "execution_count": null,
   "metadata": {},
   "outputs": [],
   "source": []
  },
  {
   "cell_type": "code",
   "execution_count": 33,
   "metadata": {},
   "outputs": [],
   "source": [
    "import matplotlib"
   ]
  },
  {
   "cell_type": "code",
   "execution_count": 34,
   "metadata": {},
   "outputs": [],
   "source": [
    "pid_count_1vsm = matching_couples_1vsm.groupBy('pid').count()"
   ]
  },
  {
   "cell_type": "code",
   "execution_count": 35,
   "metadata": {},
   "outputs": [],
   "source": [
    "pid_to_authorId = pid_count_1vsm.select('count').toPandas()"
   ]
  },
  {
   "cell_type": "code",
   "execution_count": 40,
   "metadata": {},
   "outputs": [
    {
     "data": {
      "text/plain": [
       "<AxesSubplot:>"
      ]
     },
     "execution_count": 40,
     "metadata": {},
     "output_type": "execute_result"
    },
    {
     "data": {
      "image/png": "[encoded data removed]",
      "text/plain": [
       "<Figure size 432x288 with 1 Axes>"
      ]
     },
     "metadata": {
      "needs_background": "light"
     },
     "output_type": "display_data"
    }
   ],
   "source": [
    "pid_to_authorId['count'].hist(bins=40)"
   ]
  },
  {
   "cell_type": "code",
   "execution_count": null,
   "metadata": {},
   "outputs": [],
   "source": []
  },
  {
   "cell_type": "code",
   "execution_count": null,
   "metadata": {},
   "outputs": [],
   "source": [
    "# all people that has a publication, without restriction of connect"
   ]
  },
  {
   "cell_type": "code",
   "execution_count": null,
   "metadata": {},
   "outputs": [],
   "source": [
    "all_doi_author_all_pid_actree_MAG_strict_match = spark.read.parquet('/user/feng/mentor_hub_impact/super_strong_confidence_all_doi_all_pid_author_actree_MAG_human_annotate.parquet')"
   ]
  },
  {
   "cell_type": "code",
   "execution_count": 94,
   "metadata": {},
   "outputs": [],
   "source": [
    "from pyspark.sql.window import Window as W\n",
    "pid_smallest_level_win2 = W.partitionBy('pid')\n",
    "\n",
    "pid_strong_matched_paperlevellowest2 = all_doi_author_all_pid_actree_MAG_strict_match.withColumn(\n",
    "    'strong_matching_level_lowest_pid', fn.min('strong_matching.matching_level').over(pid_smallest_level_win2)\n",
    ")"
   ]
  },
  {
   "cell_type": "code",
   "execution_count": 95,
   "metadata": {},
   "outputs": [
    {
     "data": {
      "text/plain": [
       "421628"
      ]
     },
     "execution_count": 95,
     "metadata": {},
     "output_type": "execute_result"
    }
   ],
   "source": [
    "pid_strong_matched_paperlevellowest2.where(\n",
    "    fn.col('strong_matching_level_lowest_pid') <=6\n",
    ").count()"
   ]
  },
  {
   "cell_type": "code",
   "execution_count": 96,
   "metadata": {},
   "outputs": [],
   "source": [
    "pid_strong_matched_lowest2 = pid_strong_matched_paperlevellowest2.where(\n",
    "    fn.col('strong_matching.matching_level') == fn.col('strong_matching_level_lowest_pid')\n",
    ").where(\n",
    "    fn.col('strong_matching_level_lowest_pid') <= 6\n",
    ").dropDuplicates(['AuthorId','pid'])"
   ]
  },
  {
   "cell_type": "code",
   "execution_count": 97,
   "metadata": {},
   "outputs": [
    {
     "data": {
      "text/plain": [
       "11480"
      ]
     },
     "execution_count": 97,
     "metadata": {},
     "output_type": "execute_result"
    }
   ],
   "source": [
    "pid_strong_matched_lowest2.cache().count()"
   ]
  },
  {
   "cell_type": "code",
   "execution_count": 98,
   "metadata": {},
   "outputs": [],
   "source": [
    "matching_couples2 = pid_strong_matched_lowest2.select('pid','AuthorId')"
   ]
  },
  {
   "cell_type": "code",
   "execution_count": 99,
   "metadata": {},
   "outputs": [
    {
     "data": {
      "text/plain": [
       "11480"
      ]
     },
     "execution_count": 99,
     "metadata": {},
     "output_type": "execute_result"
    }
   ],
   "source": [
    "matching_couples2.count()"
   ]
  },
  {
   "cell_type": "code",
   "execution_count": 100,
   "metadata": {},
   "outputs": [
    {
     "data": {
      "text/plain": [
       "11480"
      ]
     },
     "execution_count": 100,
     "metadata": {},
     "output_type": "execute_result"
    }
   ],
   "source": [
    "matching_couples2.distinct().count()"
   ]
  },
  {
   "cell_type": "code",
   "execution_count": null,
   "metadata": {},
   "outputs": [],
   "source": [
    "# case 1"
   ]
  },
  {
   "cell_type": "code",
   "execution_count": 101,
   "metadata": {},
   "outputs": [],
   "source": [
    "AuthorId_count2 = matching_couples2.groupBy('AuthorId').count()"
   ]
  },
  {
   "cell_type": "code",
   "execution_count": 102,
   "metadata": {},
   "outputs": [],
   "source": [
    "matching_couples_uniqueAuthorId2 = matching_couples2.join(AuthorId_count2.where(fn.col('count') == 1), 'AuthorId').select('pid','AuthorId')"
   ]
  },
  {
   "cell_type": "code",
   "execution_count": 103,
   "metadata": {},
   "outputs": [
    {
     "data": {
      "text/plain": [
       "11440"
      ]
     },
     "execution_count": 103,
     "metadata": {},
     "output_type": "execute_result"
    }
   ],
   "source": [
    "matching_couples_uniqueAuthorId2.count()"
   ]
  },
  {
   "cell_type": "code",
   "execution_count": null,
   "metadata": {},
   "outputs": [],
   "source": [
    "# case 2"
   ]
  },
  {
   "cell_type": "code",
   "execution_count": 104,
   "metadata": {},
   "outputs": [],
   "source": [
    "pid_count2 = matching_couples_uniqueAuthorId2.groupBy('pid').count()"
   ]
  },
  {
   "cell_type": "code",
   "execution_count": 105,
   "metadata": {},
   "outputs": [
    {
     "name": "stdout",
     "output_type": "stream",
     "text": [
      "+------+-----+\n",
      "|   pid|count|\n",
      "+------+-----+\n",
      "| 33821|   42|\n",
      "| 51116|   38|\n",
      "|156922|   35|\n",
      "+------+-----+\n",
      "only showing top 3 rows\n",
      "\n"
     ]
    }
   ],
   "source": [
    "pid_count2.orderBy('count',ascending = False).show(3)"
   ]
  },
  {
   "cell_type": "code",
   "execution_count": 106,
   "metadata": {},
   "outputs": [],
   "source": [
    "matching_couples_1vs1_2 = matching_couples_uniqueAuthorId2.join(pid_count2.where(fn.col('count') == 1), 'pid').select('pid','AuthorId')"
   ]
  },
  {
   "cell_type": "code",
   "execution_count": 107,
   "metadata": {},
   "outputs": [
    {
     "data": {
      "text/plain": [
       "7871"
      ]
     },
     "execution_count": 107,
     "metadata": {},
     "output_type": "execute_result"
    }
   ],
   "source": [
    "matching_couples_1vs1_2.count()"
   ]
  },
  {
   "cell_type": "code",
   "execution_count": 108,
   "metadata": {},
   "outputs": [
    {
     "data": {
      "text/plain": [
       "7871"
      ]
     },
     "execution_count": 108,
     "metadata": {},
     "output_type": "execute_result"
    }
   ],
   "source": [
    "pid_count2.where(fn.col('count') == 1).count()"
   ]
  },
  {
   "cell_type": "code",
   "execution_count": 109,
   "metadata": {},
   "outputs": [],
   "source": [
    "# case 3"
   ]
  },
  {
   "cell_type": "code",
   "execution_count": 110,
   "metadata": {},
   "outputs": [],
   "source": [
    "matching_couples_1vsm_2 = matching_couples_uniqueAuthorId2.join(pid_count2.where(fn.col('count') > 1), 'pid').select('pid','AuthorId')"
   ]
  },
  {
   "cell_type": "code",
   "execution_count": 111,
   "metadata": {},
   "outputs": [
    {
     "data": {
      "text/plain": [
       "3569"
      ]
     },
     "execution_count": 111,
     "metadata": {},
     "output_type": "execute_result"
    }
   ],
   "source": [
    "matching_couples_1vsm_2.count()"
   ]
  },
  {
   "cell_type": "code",
   "execution_count": 115,
   "metadata": {},
   "outputs": [
    {
     "data": {
      "text/plain": [
       "0.6856271777003484"
      ]
     },
     "execution_count": 115,
     "metadata": {},
     "output_type": "execute_result"
    }
   ],
   "source": [
    "7871/11480"
   ]
  },
  {
   "cell_type": "code",
   "execution_count": null,
   "metadata": {},
   "outputs": [],
   "source": []
  }
 ],
 "metadata": {
  "kernelspec": {
   "display_name": "Python 3",
   "language": "python",
   "name": "python3"
  },
  "language_info": {
   "codemirror_mode": {
    "name": "ipython",
    "version": 3
   },
   "file_extension": ".py",
   "mimetype": "text/x-python",
   "name": "python",
   "nbconvert_exporter": "python",
   "pygments_lexer": "ipython3",
   "version": "3.7.9"
  }
 },
 "nbformat": 4,
 "nbformat_minor": 2
}
