{
 "cells": [
  {
   "cell_type": "code",
   "execution_count": 1,
   "metadata": {},
   "outputs": [],
   "source": [
    "import html\n",
    "import pandas as pd\n",
    "import re\n",
    "import unidecode\n",
    "\n",
    "from os.path import join\n",
    "\n",
    "MAG_DIR = '/home/qke100/ke-data/dataset-MAG/202009/'"
   ]
  },
  {
   "cell_type": "code",
   "execution_count": 2,
   "metadata": {},
   "outputs": [
    {
     "data": {
      "text/plain": [
       "(774733, 13)"
      ]
     },
     "execution_count": 2,
     "metadata": {},
     "output_type": "execute_result"
    }
   ],
   "source": [
    "people_df = pd.read_hdf('dataset/people_df.h5')\n",
    "people_df.shape"
   ]
  },
  {
   "cell_type": "code",
   "execution_count": 3,
   "metadata": {},
   "outputs": [
    {
     "data": {
      "text/html": [
       "<div>\n",
       "<style scoped>\n",
       "    .dataframe tbody tr th:only-of-type {\n",
       "        vertical-align: middle;\n",
       "    }\n",
       "\n",
       "    .dataframe tbody tr th {\n",
       "        vertical-align: top;\n",
       "    }\n",
       "\n",
       "    .dataframe thead th {\n",
       "        text-align: right;\n",
       "    }\n",
       "</style>\n",
       "<table border=\"1\" class=\"dataframe\">\n",
       "  <thead>\n",
       "    <tr style=\"text-align: right;\">\n",
       "      <th></th>\n",
       "      <th>pid</th>\n",
       "      <th>firstname</th>\n",
       "      <th>middlename</th>\n",
       "      <th>lastname</th>\n",
       "      <th>degrees</th>\n",
       "      <th>location</th>\n",
       "      <th>locid</th>\n",
       "      <th>majorarea</th>\n",
       "      <th>orcid</th>\n",
       "      <th>firstname_norm</th>\n",
       "      <th>middlename_norm</th>\n",
       "      <th>lastname_norm</th>\n",
       "      <th>orcid_norm</th>\n",
       "    </tr>\n",
       "  </thead>\n",
       "  <tbody>\n",
       "    <tr>\n",
       "      <th>0</th>\n",
       "      <td>1</td>\n",
       "      <td>Stephen</td>\n",
       "      <td>V.</td>\n",
       "      <td>David</td>\n",
       "      <td>Ph.D.</td>\n",
       "      <td>Oregon Health and Science University</td>\n",
       "      <td>226</td>\n",
       "      <td>neuro,csd,bme</td>\n",
       "      <td>0000-0003-4135-3104</td>\n",
       "      <td>STEPHEN</td>\n",
       "      <td>V</td>\n",
       "      <td>DAVID</td>\n",
       "      <td>0000-0003-4135-3104</td>\n",
       "    </tr>\n",
       "  </tbody>\n",
       "</table>\n",
       "</div>"
      ],
      "text/plain": [
       "  pid firstname middlename lastname degrees  \\\n",
       "0   1   Stephen         V.    David   Ph.D.   \n",
       "\n",
       "                               location locid      majorarea  \\\n",
       "0  Oregon Health and Science University   226  neuro,csd,bme   \n",
       "\n",
       "                 orcid firstname_norm middlename_norm lastname_norm  \\\n",
       "0  0000-0003-4135-3104        STEPHEN               V         DAVID   \n",
       "\n",
       "            orcid_norm  \n",
       "0  0000-0003-4135-3104  "
      ]
     },
     "execution_count": 3,
     "metadata": {},
     "output_type": "execute_result"
    }
   ],
   "source": [
    "people_df.head(1)"
   ]
  },
  {
   "cell_type": "code",
   "execution_count": 4,
   "metadata": {},
   "outputs": [
    {
     "data": {
      "text/plain": [
       "(743176, 10)"
      ]
     },
     "execution_count": 4,
     "metadata": {},
     "output_type": "execute_result"
    }
   ],
   "source": [
    "mentorship_df = pd.read_hdf('dataset/connect_df.h5')\n",
    "mentorship_df.shape"
   ]
  },
  {
   "cell_type": "code",
   "execution_count": 5,
   "metadata": {},
   "outputs": [
    {
     "data": {
      "text/html": [
       "<div>\n",
       "<style scoped>\n",
       "    .dataframe tbody tr th:only-of-type {\n",
       "        vertical-align: middle;\n",
       "    }\n",
       "\n",
       "    .dataframe tbody tr th {\n",
       "        vertical-align: top;\n",
       "    }\n",
       "\n",
       "    .dataframe thead th {\n",
       "        text-align: right;\n",
       "    }\n",
       "</style>\n",
       "<table border=\"1\" class=\"dataframe\">\n",
       "  <thead>\n",
       "    <tr style=\"text-align: right;\">\n",
       "      <th></th>\n",
       "      <th>cid</th>\n",
       "      <th>pid1</th>\n",
       "      <th>pid2</th>\n",
       "      <th>relation</th>\n",
       "      <th>location</th>\n",
       "      <th>locid</th>\n",
       "      <th>startdate</th>\n",
       "      <th>stopdate</th>\n",
       "      <th>startyear</th>\n",
       "      <th>stopyear</th>\n",
       "    </tr>\n",
       "  </thead>\n",
       "  <tbody>\n",
       "    <tr>\n",
       "      <th>0</th>\n",
       "      <td>2</td>\n",
       "      <td>2</td>\n",
       "      <td>3</td>\n",
       "      <td>1</td>\n",
       "      <td>University of California, Berkeley</td>\n",
       "      <td>312</td>\n",
       "      <td>2000-00-00</td>\n",
       "      <td>2005-00-00</td>\n",
       "      <td>2000</td>\n",
       "      <td>2005</td>\n",
       "    </tr>\n",
       "  </tbody>\n",
       "</table>\n",
       "</div>"
      ],
      "text/plain": [
       "  cid pid1 pid2 relation                            location locid  \\\n",
       "0   2    2    3        1  University of California, Berkeley   312   \n",
       "\n",
       "    startdate    stopdate  startyear  stopyear  \n",
       "0  2000-00-00  2005-00-00       2000      2005  "
      ]
     },
     "execution_count": 5,
     "metadata": {},
     "output_type": "execute_result"
    }
   ],
   "source": [
    "mentorship_df.head(1)"
   ]
  },
  {
   "cell_type": "code",
   "execution_count": 6,
   "metadata": {},
   "outputs": [
    {
     "name": "stdout",
     "output_type": "stream",
     "text": [
      "24608\n"
     ]
    },
    {
     "data": {
      "text/plain": [
       "(27180, 2)"
      ]
     },
     "execution_count": 6,
     "metadata": {},
     "output_type": "execute_result"
    }
   ],
   "source": [
    "def collect_location():\n",
    "    \"\"\"\"\"\"\n",
    "    loc_freq = people_df.location.str.upper().value_counts().to_dict()\n",
    "    print(len(loc_freq))\n",
    "    loc_freq.update(\n",
    "        {k: v for k, v in mentorship_df.location.str.upper().value_counts().items() if k not in loc_freq})\n",
    "    del loc_freq['']\n",
    "    return pd.DataFrame(sorted(loc_freq.items(), key=lambda x: x[1], reverse=True), columns=['location', 'freq']) \n",
    "\n",
    "loc_freq_df = collect_location()\n",
    "loc_freq_df.shape"
   ]
  },
  {
   "cell_type": "code",
   "execution_count": 7,
   "metadata": {},
   "outputs": [
    {
     "data": {
      "text/html": [
       "<div>\n",
       "<style scoped>\n",
       "    .dataframe tbody tr th:only-of-type {\n",
       "        vertical-align: middle;\n",
       "    }\n",
       "\n",
       "    .dataframe tbody tr th {\n",
       "        vertical-align: top;\n",
       "    }\n",
       "\n",
       "    .dataframe thead th {\n",
       "        text-align: right;\n",
       "    }\n",
       "</style>\n",
       "<table border=\"1\" class=\"dataframe\">\n",
       "  <thead>\n",
       "    <tr style=\"text-align: right;\">\n",
       "      <th></th>\n",
       "      <th>location</th>\n",
       "      <th>freq</th>\n",
       "    </tr>\n",
       "  </thead>\n",
       "  <tbody>\n",
       "    <tr>\n",
       "      <th>0</th>\n",
       "      <td>UNIVERSITY OF CALIFORNIA, BERKELEY</td>\n",
       "      <td>12372</td>\n",
       "    </tr>\n",
       "    <tr>\n",
       "      <th>1</th>\n",
       "      <td>UNIVERSITY OF CALIFORNIA, LOS ANGELES</td>\n",
       "      <td>10382</td>\n",
       "    </tr>\n",
       "    <tr>\n",
       "      <th>2</th>\n",
       "      <td>UNIVERSITY OF WISCONSIN, MADISON</td>\n",
       "      <td>10026</td>\n",
       "    </tr>\n",
       "    <tr>\n",
       "      <th>3</th>\n",
       "      <td>UNIVERSITY OF MINNESOTA, TWIN CITIES</td>\n",
       "      <td>9504</td>\n",
       "    </tr>\n",
       "    <tr>\n",
       "      <th>4</th>\n",
       "      <td>UNIVERSITY OF MICHIGAN, ANN ARBOR</td>\n",
       "      <td>9300</td>\n",
       "    </tr>\n",
       "  </tbody>\n",
       "</table>\n",
       "</div>"
      ],
      "text/plain": [
       "                                location   freq\n",
       "0     UNIVERSITY OF CALIFORNIA, BERKELEY  12372\n",
       "1  UNIVERSITY OF CALIFORNIA, LOS ANGELES  10382\n",
       "2       UNIVERSITY OF WISCONSIN, MADISON  10026\n",
       "3   UNIVERSITY OF MINNESOTA, TWIN CITIES   9504\n",
       "4      UNIVERSITY OF MICHIGAN, ANN ARBOR   9300"
      ]
     },
     "execution_count": 7,
     "metadata": {},
     "output_type": "execute_result"
    }
   ],
   "source": [
    "loc_freq_df.head()"
   ]
  },
  {
   "cell_type": "code",
   "execution_count": 8,
   "metadata": {},
   "outputs": [
    {
     "data": {
      "text/plain": [
       "(25795, 3)"
      ]
     },
     "execution_count": 8,
     "metadata": {},
     "output_type": "execute_result"
    }
   ],
   "source": [
    "mag_affil_df = pd.read_csv(join(MAG_DIR, 'mag/Affiliations.txt'), \n",
    "                           sep='\\t', \n",
    "                           names=['mag_affil_id', 'mag_norm_name', 'mag_dis_name'], \n",
    "                           usecols=[0, 2, 3],\n",
    "                           dtype=str)\n",
    "mag_affil_df.shape"
   ]
  },
  {
   "cell_type": "code",
   "execution_count": 9,
   "metadata": {},
   "outputs": [
    {
     "data": {
      "text/html": [
       "<div>\n",
       "<style scoped>\n",
       "    .dataframe tbody tr th:only-of-type {\n",
       "        vertical-align: middle;\n",
       "    }\n",
       "\n",
       "    .dataframe tbody tr th {\n",
       "        vertical-align: top;\n",
       "    }\n",
       "\n",
       "    .dataframe thead th {\n",
       "        text-align: right;\n",
       "    }\n",
       "</style>\n",
       "<table border=\"1\" class=\"dataframe\">\n",
       "  <thead>\n",
       "    <tr style=\"text-align: right;\">\n",
       "      <th></th>\n",
       "      <th>mag_affil_id</th>\n",
       "      <th>mag_norm_name</th>\n",
       "      <th>mag_dis_name</th>\n",
       "    </tr>\n",
       "  </thead>\n",
       "  <tbody>\n",
       "    <tr>\n",
       "      <th>11099</th>\n",
       "      <td>1309204697</td>\n",
       "      <td>swedish maritime administration</td>\n",
       "      <td>Swedish Maritime Administration</td>\n",
       "    </tr>\n",
       "    <tr>\n",
       "      <th>9682</th>\n",
       "      <td>2802463004</td>\n",
       "      <td>side out foundation</td>\n",
       "      <td>Side-Out Foundation</td>\n",
       "    </tr>\n",
       "    <tr>\n",
       "      <th>18009</th>\n",
       "      <td>2802927161</td>\n",
       "      <td>donka hospital</td>\n",
       "      <td>Donka Hospital</td>\n",
       "    </tr>\n",
       "    <tr>\n",
       "      <th>3259</th>\n",
       "      <td>2799370498</td>\n",
       "      <td>american college of education</td>\n",
       "      <td>American College of Education</td>\n",
       "    </tr>\n",
       "    <tr>\n",
       "      <th>17268</th>\n",
       "      <td>2799458587</td>\n",
       "      <td>burnley college</td>\n",
       "      <td>Burnley College</td>\n",
       "    </tr>\n",
       "  </tbody>\n",
       "</table>\n",
       "</div>"
      ],
      "text/plain": [
       "      mag_affil_id                    mag_norm_name  \\\n",
       "11099   1309204697  swedish maritime administration   \n",
       "9682    2802463004              side out foundation   \n",
       "18009   2802927161                   donka hospital   \n",
       "3259    2799370498    american college of education   \n",
       "17268   2799458587                  burnley college   \n",
       "\n",
       "                          mag_dis_name  \n",
       "11099  Swedish Maritime Administration  \n",
       "9682               Side-Out Foundation  \n",
       "18009                   Donka Hospital  \n",
       "3259     American College of Education  \n",
       "17268                  Burnley College  "
      ]
     },
     "execution_count": 9,
     "metadata": {},
     "output_type": "execute_result"
    }
   ],
   "source": [
    "mag_affil_df.sample(5)"
   ]
  },
  {
   "cell_type": "code",
   "execution_count": 10,
   "metadata": {},
   "outputs": [
    {
     "data": {
      "text/plain": [
       "25794"
      ]
     },
     "execution_count": 10,
     "metadata": {},
     "output_type": "execute_result"
    }
   ],
   "source": [
    "mag_dis_name_id = {a.upper(): b for a, b in zip(mag_affil_df.mag_dis_name, mag_affil_df.mag_affil_id)}\n",
    "len(mag_dis_name_id)"
   ]
  },
  {
   "cell_type": "code",
   "execution_count": 11,
   "metadata": {},
   "outputs": [
    {
     "data": {
      "text/plain": [
       "25750"
      ]
     },
     "execution_count": 11,
     "metadata": {},
     "output_type": "execute_result"
    }
   ],
   "source": [
    "mag_norm_name_id = {a.upper(): b for a, b in zip(mag_affil_df.mag_norm_name, mag_affil_df.mag_affil_id)}\n",
    "len(mag_norm_name_id)"
   ]
  },
  {
   "cell_type": "code",
   "execution_count": 12,
   "metadata": {},
   "outputs": [
    {
     "data": {
      "text/plain": [
       "(27180, 4)"
      ]
     },
     "execution_count": 12,
     "metadata": {},
     "output_type": "execute_result"
    }
   ],
   "source": [
    "loc_alias = {\n",
    "    'UNIVERSITY OF MINNESOTA, TWIN CITIES': 'UNIVERSITY OF MINNESOTA',\n",
    "    'UNIVERSITY OF MICHIGAN, ANN ARBOR': 'UNIVERSITY OF MICHIGAN',\n",
    "    'UNIVERSITY OF WASHINGTON, SEATTLE': 'UNIVERSITY OF WASHINGTON',\n",
    "    'UNIVERSITY OF FLORIDA, GAINESVILLE': 'UNIVERSITY OF FLORIDA',\n",
    "    'OHIO STATE UNIVERSITY, COLUMBUS': 'OHIO STATE UNIVERSITY',\n",
    "    'INDIANA UNIVERSITY, BLOOMINGTON': 'INDIANA UNIVERSITY',\n",
    "    'RUTGERS UNIVERSITY, NEW BRUNSWICK': 'RUTGERS UNIVERSITY',\n",
    "    'UNIVERSITY OF BRITISH COLUMBIA, VANCOUVER': 'UNIVERSITY OF BRITISH COLUMBIA',\n",
    "    'TEACHERS COLLEGE, COLUMBIA UNIVERSITY': 'COLUMBIA UNIVERSITY',\n",
    "    'STATE UNIVERSITY OF NEW YORK, BUFFALO': 'UNIVERSITY AT BUFFALO',\n",
    "    'WASHINGTON UNIVERSITY, SAINT LOUIS': 'WASHINGTON UNIVERSITY IN ST LOUIS',\n",
    "    'VIRGINIA POLYTECHNIC INSTITUTE AND STATE UNIVERSITY': 'VIRGINIA TECH',\n",
    "    'OKLAHOMA STATE UNIVERSITY': 'OKLAHOMA STATE UNIVERSITY–STILLWATER',\n",
    "    'UNIVERSITY OF MISSOURI - COLUMBIA': 'UNIVERSITY OF MISSOURI',\n",
    "    \"UNIVERSITY OF HAWAI'I AT MANOA\": 'UNIVERSITY OF HAWAII AT MANOA',\n",
    "    'STATE UNIVERSITY OF NEW YORK, ALBANY': 'UNIVERSITY AT ALBANY, SUNY',\n",
    "    'STATE UNIVERSITY OF NEW YORK AT BINGHAMTON': 'BINGHAMTON UNIVERSITY',\n",
    "    'UNIVERSITY OF COLORADO ANSCHUTZ MEDICAL CAMPUS, DENVER': 'ANSCHUTZ MEDICAL CAMPUS',\n",
    "    'UNIVERSITE LAVAL (CANADA)': 'LAVAL UNIVERSITY',\n",
    "    'HARVARD MEDICAL SCHOOL': 'HARVARD UNIVERSITY',\n",
    "    'UNIVERSITEIT ANTWERPEN (BELGIUM)': 'UNIVERSITY OF ANTWERP',\n",
    "    'SEMMELWEIS EGYETEM': 'SEMMELWEIS UNIVERSITY',\n",
    "    'RUTGERS THE STATE UNIVERSITY OF NEW JERSEY - NEWARK': 'RUTGERS UNIVERSITY',\n",
    "    'UNIVERSITY OF MISSOURI - SAINT LOUIS': 'UNIVERSITY OF MISSOURI–ST. LOUIS',\n",
    "    'TOULOUSE 3': 'PAUL SABATIER UNIVERSITY',\n",
    "    'NEW SCHOOL UNIVERSITY': 'THE NEW SCHOOL',\n",
    "    'PARIS 4': 'PARIS-SORBONNE UNIVERSITY',\n",
    "    'UNIVERSIDAD POLITECNICA DE VALENCIA (SPAIN)': 'POLYTECHNIC UNIVERSITY OF VALENCIA',\n",
    "    'HEBREW UNIVERSITY, JERUSALEM': 'HEBREW UNIVERSITY OF JERUSALEM',\n",
    "    'UNIVERSITE LYON 1': 'CLAUDE BERNARD UNIVERSITY LYON 1',\n",
    "    'VRIJE UNIVERSITEIT AMSTERDAM': 'VU UNIVERSITY AMSTERDAM',\n",
    "    'UNIVERSITÉ DE BORDEAUX': 'UNIVERSITY OF BORDEAUX',\n",
    "    'UNIVERSITÄT ZÜRICH': 'UNIVERSITY OF ZURICH',\n",
    "    'INSTITUTE OF TRANSPERSONAL PSYCHOLOGY': 'SOFIA UNIVERSITY',\n",
    "    'GEORG-AUGUST-UNIVERSITÄT GÖTTINGEN': 'UNIVERSITY OF GÖTTINGEN',\n",
    "    'UNIVERSIDAD DE CASTILLA - LA MANCHA (SPAIN)': 'UNIVERSITY OF CASTILLA–LA MANCHA',\n",
    "    'KAROLINSKA INSTITUTE': 'KAROLINSKA INSTITUTET',\n",
    "    'UNIVERSITAT DE BARCELONA': 'UNIVERSITY OF BARCELONA',\n",
    "    'EBERHARD KARLS UNIVERSITÄT TÜBINGEN': 'UNIVERSITY OF TÜBINGEN',\n",
    "    'CNRS': 'CENTRE NATIONAL DE LA RECHERCHE SCIENTIFIQUE',\n",
    "    'WEILL CORNELL MEDICAL COLLEGE': 'CORNELL UNIVERSITY',\n",
    "    'UNIVERSITY OF MARYLAND SCHOOL OF MEDICINE': 'UNIVERSITY OF MARYLAND, BALTIMORE',\n",
    "    'UPMC UNIV PARIS 6': 'PIERRE-AND-MARIE-CURIE UNIVERSITY',\n",
    "    'UNIVERSITY OF GEORGIA, ATHENS': 'UNIVERSITY OF GEORGIA',\n",
    "    'UNIVERSITY OF PUERTO RICO, RIO PIEDRAS (PUERTO RICO)': 'UNIVERSITY OF PUERTO RICO, RÍO PIEDRAS',\n",
    "    \"QUEEN'S UNIVERSITY, CANADA\": \"QUEEN'S UNIVERSITY\",\n",
    "    'THE UNIVERSITY OF WESTERN ONTARIO (CANADA)': 'UNIVERSITY OF WESTERN ONTARIO',\n",
    "    'THE UNIVERSITY OF TEXAS SCHOOL OF PUBLIC HEALTH': 'UNIVERSITY OF TEXAS HEALTH SCIENCE CENTER AT HOUSTON',\n",
    "    'THE UNIVERSITY OF TEXAS GRADUATE SCHOOL OF BIOMEDICAL SCIENCES AT HOUSTON': 'UNIVERSITY OF TEXAS HEALTH SCIENCE CENTER AT HOUSTON',\n",
    "    'RUTGERS THE STATE UNIVERSITY OF NEW JERSEY, GRADUATE SCHOOL OF APPLIED AND PROFESSIONAL PSYCHOLOGY': 'RUTGERS UNIVERSITY',\n",
    "    'UNIVERSITY OF MISSOURI-ROLLA': 'UNIVERSITY OF MISSOURI SYSTEM',\n",
    "    'LUDWIG-MAXIMILIANS-UNIVERSITÄT MÜNCHEN': 'LUDWIG MAXIMILIAN UNIVERSITY OF MUNICH',\n",
    "    'UNIVERSITY OF NORTH TEXAS HEALTH SCIENCE CENTER AT FORT WORTH': 'UNIVERSITY OF NORTH TEXAS HEALTH SCIENCE CENTER',\n",
    "    'SACKLER SCHOOL OF GRADUATE BIOMEDICAL SCIENCES (TUFTS UNIVERSITY)': 'TUFTS UNIVERSITY',\n",
    "    'PACIFIC GRADUATE SCHOOL OF PSYCHOLOGY': 'PALO ALTO UNIVERSITY',\n",
    "    'THE UNIVERSITY OF THE ROCKIES': 'UNIVERSITY OF THE ROCKIES',\n",
    "    \"ST. JOHN'S UNIVERSITY (NEW YORK), SCHOOL OF EDUCATION AND HUMAN SERVICES\": \"ST. JOHN'S UNIVERSITY\",\n",
    "    'RHEINISCH-WESTFAELISCHE TECHNISCHE HOCHSCHULE': 'RWTH AACHEN UNIVERSITY',\n",
    "    'FRIEDRICH-WILHELMS-UNIVERSITÄT ZU BERLIN': 'HUMBOLDT UNIVERSITY OF BERLIN',\n",
    "    'TECHNISCHE UNIVERSITÄT DRESDEN': 'DRESDEN UNIVERSITY OF TECHNOLOGY',\n",
    "}\n",
    "\n",
    "def get_at_loc_var(x):\n",
    "    \"\"\"\"\"\"\n",
    "    result = set([\n",
    "        x,\n",
    "        x.replace(', ', '-'),\n",
    "        x.replace(', ', ' AT ').replace('-', ' '),\n",
    "        x.replace(' & ', '&'),\n",
    "        x.replace(', ', ' '),\n",
    "        ' '.join(e for e in x.split() if e != 'THE').replace(' - ', '–'),\n",
    "        x.replace(' AT ', ' '),\n",
    "        x.replace(' AND ', ' & '),\n",
    "        re.sub(r'\\([^)]*\\)', '', x).strip().replace('UNIVERSIDAD DE ', 'UNIVERSITY OF ').replace('UNIVERSIDADE DE ', 'UNIVERSITY OF '),\n",
    "        unidecode.unidecode(x),\n",
    "        x.split(',')[0],\n",
    "        x.replace('-', '–'),\n",
    "        x.replace(',', ' '),\n",
    "        x.replace(' & ', ' AND '),\n",
    "        x.replace(' - ', ' '),\n",
    "        x.replace(' AND ', ' '),\n",
    "        x.replace('IIT ', 'INDIAN INSTITUTE OF TECHNOLOGY ')\n",
    "    ])\n",
    "    return sorted(result, key=lambda x: len(x), reverse=True)\n",
    "\n",
    "def match_with_mag(at_loc):\n",
    "    \"\"\"\"\"\"\n",
    "    x = html.unescape(at_loc).strip().rstrip('.')\n",
    "    if x in loc_alias:\n",
    "        xa = loc_alias[x]\n",
    "        if xa in mag_dis_name_id:\n",
    "            return mag_dis_name_id[xa], xa\n",
    "        if xa in mag_norm_name_id:\n",
    "            return mag_norm_name_id[xa], xa\n",
    "    for e in get_at_loc_var(x):\n",
    "        if e in mag_dis_name_id:\n",
    "            return mag_dis_name_id[e], e\n",
    "        if e in mag_norm_name_id:\n",
    "            return mag_norm_name_id[e], e\n",
    "    for kw in [' SCHOOL ', ' COLLEGE ']:\n",
    "        if kw in x:\n",
    "            for e in get_at_loc_var(x[:x.index(kw)]):\n",
    "                if e in mag_dis_name_id:\n",
    "                    return mag_dis_name_id[e], e\n",
    "                if e in mag_norm_name_id:\n",
    "                    return mag_norm_name_id[e], e\n",
    "    try:\n",
    "        e = re.findall('\\((.*?)\\)', x)[0]\n",
    "        if e in mag_dis_name_id:\n",
    "            return mag_dis_name_id[e], e\n",
    "        if e in mag_norm_name_id:\n",
    "            return mag_norm_name_id[e], e\n",
    "    except:\n",
    "        pass\n",
    "    if ',' in x:\n",
    "        e = x.split(',')[1]\n",
    "        if e in mag_dis_name_id:\n",
    "            return mag_dis_name_id[e], e\n",
    "        if e in mag_norm_name_id:\n",
    "            return mag_norm_name_id[e], e\n",
    "    return '', ''\n",
    "\n",
    "def add_mag_affil():\n",
    "    \"\"\"\"\"\"\n",
    "    a, b = [], []\n",
    "    for loc in loc_freq_df.location:\n",
    "        x, y = match_with_mag(loc)\n",
    "        a.append(x)\n",
    "        b.append(y)\n",
    "    loc_freq_df['mag_affil_id'] = a\n",
    "    loc_freq_df['mag_affil'] = b\n",
    "\n",
    "add_mag_affil()\n",
    "loc_freq_df.shape"
   ]
  },
  {
   "cell_type": "code",
   "execution_count": 13,
   "metadata": {},
   "outputs": [
    {
     "data": {
      "text/plain": [
       "20099"
      ]
     },
     "execution_count": 13,
     "metadata": {},
     "output_type": "execute_result"
    }
   ],
   "source": [
    "(loc_freq_df.mag_affil_id == '').sum()"
   ]
  },
  {
   "cell_type": "code",
   "execution_count": 14,
   "metadata": {},
   "outputs": [
    {
     "data": {
      "text/plain": [
       "66953"
      ]
     },
     "execution_count": 14,
     "metadata": {},
     "output_type": "execute_result"
    }
   ],
   "source": [
    "loc_freq_df[loc_freq_df.mag_affil_id == ''].freq.sum()"
   ]
  },
  {
   "cell_type": "code",
   "execution_count": 15,
   "metadata": {
    "scrolled": false
   },
   "outputs": [
    {
     "data": {
      "text/html": [
       "<div>\n",
       "<style scoped>\n",
       "    .dataframe tbody tr th:only-of-type {\n",
       "        vertical-align: middle;\n",
       "    }\n",
       "\n",
       "    .dataframe tbody tr th {\n",
       "        vertical-align: top;\n",
       "    }\n",
       "\n",
       "    .dataframe thead th {\n",
       "        text-align: right;\n",
       "    }\n",
       "</style>\n",
       "<table border=\"1\" class=\"dataframe\">\n",
       "  <thead>\n",
       "    <tr style=\"text-align: right;\">\n",
       "      <th></th>\n",
       "      <th>location</th>\n",
       "      <th>freq</th>\n",
       "      <th>mag_affil_id</th>\n",
       "      <th>mag_affil</th>\n",
       "    </tr>\n",
       "  </thead>\n",
       "  <tbody>\n",
       "    <tr>\n",
       "      <th>354</th>\n",
       "      <td>UNIVERSITÉ PARIS 8</td>\n",
       "      <td>262</td>\n",
       "      <td></td>\n",
       "      <td></td>\n",
       "    </tr>\n",
       "    <tr>\n",
       "      <th>360</th>\n",
       "      <td>THE UNION INSTITUTE</td>\n",
       "      <td>254</td>\n",
       "      <td></td>\n",
       "      <td></td>\n",
       "    </tr>\n",
       "    <tr>\n",
       "      <th>375</th>\n",
       "      <td>UNIVERSITY OF ILLINOIS</td>\n",
       "      <td>230</td>\n",
       "      <td></td>\n",
       "      <td></td>\n",
       "    </tr>\n",
       "    <tr>\n",
       "      <th>403</th>\n",
       "      <td>UNIVERSIDAD POLITECNICA DE CARTAGENA (SPAIN)</td>\n",
       "      <td>197</td>\n",
       "      <td></td>\n",
       "      <td></td>\n",
       "    </tr>\n",
       "    <tr>\n",
       "      <th>422</th>\n",
       "      <td>POLYTECHNIC UNIVERSITY</td>\n",
       "      <td>182</td>\n",
       "      <td></td>\n",
       "      <td></td>\n",
       "    </tr>\n",
       "    <tr>\n",
       "      <th>423</th>\n",
       "      <td>PARIS 3</td>\n",
       "      <td>181</td>\n",
       "      <td></td>\n",
       "      <td></td>\n",
       "    </tr>\n",
       "    <tr>\n",
       "      <th>435</th>\n",
       "      <td>UNIVERSITÉ PARIS 5</td>\n",
       "      <td>175</td>\n",
       "      <td></td>\n",
       "      <td></td>\n",
       "    </tr>\n",
       "    <tr>\n",
       "      <th>448</th>\n",
       "      <td>UNIVERSITY PARIS 11</td>\n",
       "      <td>168</td>\n",
       "      <td></td>\n",
       "      <td></td>\n",
       "    </tr>\n",
       "    <tr>\n",
       "      <th>456</th>\n",
       "      <td>UNIVERSITY LILLE 1</td>\n",
       "      <td>164</td>\n",
       "      <td></td>\n",
       "      <td></td>\n",
       "    </tr>\n",
       "    <tr>\n",
       "      <th>459</th>\n",
       "      <td>MEDICAL COLLEGE OF GEORGIA</td>\n",
       "      <td>163</td>\n",
       "      <td></td>\n",
       "      <td></td>\n",
       "    </tr>\n",
       "  </tbody>\n",
       "</table>\n",
       "</div>"
      ],
      "text/plain": [
       "                                         location  freq mag_affil_id mag_affil\n",
       "354                            UNIVERSITÉ PARIS 8   262                       \n",
       "360                           THE UNION INSTITUTE   254                       \n",
       "375                        UNIVERSITY OF ILLINOIS   230                       \n",
       "403  UNIVERSIDAD POLITECNICA DE CARTAGENA (SPAIN)   197                       \n",
       "422                        POLYTECHNIC UNIVERSITY   182                       \n",
       "423                                       PARIS 3   181                       \n",
       "435                            UNIVERSITÉ PARIS 5   175                       \n",
       "448                           UNIVERSITY PARIS 11   168                       \n",
       "456                            UNIVERSITY LILLE 1   164                       \n",
       "459                    MEDICAL COLLEGE OF GEORGIA   163                       "
      ]
     },
     "execution_count": 15,
     "metadata": {},
     "output_type": "execute_result"
    }
   ],
   "source": [
    "loc_freq_df[loc_freq_df.mag_affil_id == ''].head(10)"
   ]
  },
  {
   "cell_type": "code",
   "execution_count": 16,
   "metadata": {},
   "outputs": [
    {
     "data": {
      "text/plain": [
       "['DRESDEN UNIVERSITY OF TECHNOLOGY']"
      ]
     },
     "execution_count": 16,
     "metadata": {},
     "output_type": "execute_result"
    }
   ],
   "source": [
    "[k for k in mag_dis_name_id if 'Dresden University of Technology'.upper() in k]"
   ]
  },
  {
   "cell_type": "code",
   "execution_count": 18,
   "metadata": {},
   "outputs": [],
   "source": [
    "loc_freq_df.to_hdf('dataset/locations_df.h5', key='df', mode='w')"
   ]
  },
  {
   "cell_type": "code",
   "execution_count": 19,
   "metadata": {},
   "outputs": [],
   "source": [
    "def update_mag_affil_col():\n",
    "    \"\"\"\"\"\"\n",
    "    loc_to_mag_affil = dict(zip(loc_freq_df.location, loc_freq_df.mag_affil))\n",
    "    loc_to_mag_affil_id = dict(zip(loc_freq_df.location, loc_freq_df.mag_affil_id))\n",
    "    people_df['MAGInstitution'] = people_df.location.apply(lambda x: loc_to_mag_affil.get(x.upper(), ''))\n",
    "    people_df['MAGInstitutionID'] = people_df.location.apply(lambda x: loc_to_mag_affil_id.get(x.upper(), ''))\n",
    "    mentorship_df['MAGInstitution'] = mentorship_df.location.apply(lambda x: loc_to_mag_affil.get(x.upper(), ''))\n",
    "    mentorship_df['MAGInstitutionID'] = mentorship_df.location.apply(lambda x: loc_to_mag_affil_id.get(x.upper(), ''))\n",
    "\n",
    "update_mag_affil_col()"
   ]
  },
  {
   "cell_type": "code",
   "execution_count": 22,
   "metadata": {},
   "outputs": [],
   "source": [
    "people_df.to_hdf('dataset/people_df.h5', key='df', mode='w')"
   ]
  },
  {
   "cell_type": "code",
   "execution_count": 23,
   "metadata": {},
   "outputs": [],
   "source": [
    "mentorship_df.to_hdf('dataset/connect_df.h5', key='df', mode='w')"
   ]
  },
  {
   "cell_type": "code",
   "execution_count": null,
   "metadata": {},
   "outputs": [],
   "source": []
  }
 ],
 "metadata": {
  "kernelspec": {
   "display_name": "Python 3",
   "language": "python",
   "name": "python3"
  },
  "language_info": {
   "codemirror_mode": {
    "name": "ipython",
    "version": 3
   },
   "file_extension": ".py",
   "mimetype": "text/x-python",
   "name": "python",
   "nbconvert_exporter": "python",
   "pygments_lexer": "ipython3",
   "version": "3.6.9"
  },
  "toc": {
   "base_numbering": 1,
   "nav_menu": {},
   "number_sections": true,
   "sideBar": true,
   "skip_h1_title": false,
   "title_cell": "Table of Contents",
   "title_sidebar": "Contents",
   "toc_cell": false,
   "toc_position": {},
   "toc_section_display": true,
   "toc_window_display": false
  }
 },
 "nbformat": 4,
 "nbformat_minor": 4
}
