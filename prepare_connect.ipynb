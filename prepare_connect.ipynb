{
 "cells": [
  {
   "cell_type": "code",
   "execution_count": 1,
   "metadata": {},
   "outputs": [],
   "source": [
    "import pandas as pd\n",
    "\n",
    "from os.path import join\n",
    "\n",
    "DATA_DIR = '/home/qke100/su-data/academic-tree/'"
   ]
  },
  {
   "cell_type": "markdown",
   "metadata": {},
   "source": [
    "## Connect DF"
   ]
  },
  {
   "cell_type": "code",
   "execution_count": 2,
   "metadata": {},
   "outputs": [
    {
     "name": "stdout",
     "output_type": "stream",
     "text": [
      "\"cid\",\"pid1\",\"pid2\",\"relation\",\"location\",\"locid\",\"addedby\",\"dateadded\"\r\n",
      "\"2\",\"2\",\"3\",\"1\",\"University of California, Berkeley\",\"312\",\"david\",\"2005-01-15 17:33:57\"\r\n",
      "\"3\",\"4\",\"3\",\"2\",\"University of California, Berkeley\",\"312\",\"david\",\"2005-01-15 17:35:17\"\r\n",
      "\"5\",\"6\",\"3\",\"1\",\"University of California, Berkeley\",\"312\",\"david\",\"2005-01-15 19:02:54\"\r\n",
      "\"6\",\"18761\",\"9\",\"1\",\"University of California, Berkeley\",\"312\",\"david\",\"2005-01-15 19:06:16\"\r\n",
      "\"7\",\"10\",\"16\",\"2\",\"Washington University, Saint Louis\",\"497\",\"david\",\"2005-01-15 19:06:58\"\r\n"
     ]
    }
   ],
   "source": [
    "! head -6 /home/qke100/su-data/academic-tree/connect.csv"
   ]
  },
  {
   "cell_type": "code",
   "execution_count": 3,
   "metadata": {},
   "outputs": [
    {
     "data": {
      "text/plain": [
       "(1535285, 6)"
      ]
     },
     "execution_count": 3,
     "metadata": {},
     "output_type": "execute_result"
    }
   ],
   "source": [
    "conn_df = pd.read_csv(join(DATA_DIR, 'connect.csv'), sep=',').drop(columns=['addedby', 'dateadded'])\n",
    "conn_df['pid1'] = conn_df['pid1'].astype(str)\n",
    "conn_df['pid2'] = conn_df['pid2'].astype(str)\n",
    "conn_df.shape"
   ]
  },
  {
   "cell_type": "code",
   "execution_count": 4,
   "metadata": {},
   "outputs": [
    {
     "data": {
      "text/plain": [
       "cid          int64\n",
       "pid1        object\n",
       "pid2        object\n",
       "relation     int64\n",
       "location    object\n",
       "locid        int64\n",
       "dtype: object"
      ]
     },
     "execution_count": 4,
     "metadata": {},
     "output_type": "execute_result"
    }
   ],
   "source": [
    "conn_df.dtypes"
   ]
  },
  {
   "cell_type": "code",
   "execution_count": 5,
   "metadata": {},
   "outputs": [
    {
     "data": {
      "text/plain": [
       "(759676, 10)"
      ]
     },
     "execution_count": 5,
     "metadata": {},
     "output_type": "execute_result"
    }
   ],
   "source": [
    "ds_people = pd.read_hdf('dataset/people_df.h5')\n",
    "ds_people.shape"
   ]
  },
  {
   "cell_type": "code",
   "execution_count": 6,
   "metadata": {},
   "outputs": [
    {
     "data": {
      "text/plain": [
       "759676"
      ]
     },
     "execution_count": 6,
     "metadata": {},
     "output_type": "execute_result"
    }
   ],
   "source": [
    "pids = set(ds_people.pid)\n",
    "len(pids)"
   ]
  },
  {
   "cell_type": "code",
   "execution_count": 31,
   "metadata": {},
   "outputs": [
    {
     "data": {
      "text/plain": [
       "(723225, 6)"
      ]
     },
     "execution_count": 31,
     "metadata": {},
     "output_type": "execute_result"
    }
   ],
   "source": [
    "conn_subset = conn_df[(conn_df.pid1.isin(pids)) & (conn_df.pid2.isin(pids))]\n",
    "conn_subset.shape"
   ]
  },
  {
   "cell_type": "code",
   "execution_count": 32,
   "metadata": {},
   "outputs": [
    {
     "data": {
      "text/html": [
       "<div>\n",
       "<style scoped>\n",
       "    .dataframe tbody tr th:only-of-type {\n",
       "        vertical-align: middle;\n",
       "    }\n",
       "\n",
       "    .dataframe tbody tr th {\n",
       "        vertical-align: top;\n",
       "    }\n",
       "\n",
       "    .dataframe thead th {\n",
       "        text-align: right;\n",
       "    }\n",
       "</style>\n",
       "<table border=\"1\" class=\"dataframe\">\n",
       "  <thead>\n",
       "    <tr style=\"text-align: right;\">\n",
       "      <th></th>\n",
       "      <th>cid</th>\n",
       "      <th>pid1</th>\n",
       "      <th>pid2</th>\n",
       "      <th>relation</th>\n",
       "      <th>location</th>\n",
       "      <th>locid</th>\n",
       "    </tr>\n",
       "  </thead>\n",
       "  <tbody>\n",
       "    <tr>\n",
       "      <th>211296</th>\n",
       "      <td>110948</td>\n",
       "      <td>86769</td>\n",
       "      <td>5607</td>\n",
       "      <td>1</td>\n",
       "      <td>Ohio State University, Columbus</td>\n",
       "      <td>223</td>\n",
       "    </tr>\n",
       "    <tr>\n",
       "      <th>301362</th>\n",
       "      <td>110948</td>\n",
       "      <td>86769</td>\n",
       "      <td>5607</td>\n",
       "      <td>1</td>\n",
       "      <td>Ohio State University, Columbus</td>\n",
       "      <td>223</td>\n",
       "    </tr>\n",
       "  </tbody>\n",
       "</table>\n",
       "</div>"
      ],
      "text/plain": [
       "           cid   pid1  pid2  relation                         location  locid\n",
       "211296  110948  86769  5607         1  Ohio State University, Columbus    223\n",
       "301362  110948  86769  5607         1  Ohio State University, Columbus    223"
      ]
     },
     "execution_count": 32,
     "metadata": {},
     "output_type": "execute_result"
    }
   ],
   "source": [
    "conn_subset[conn_subset.cid == 110948]"
   ]
  },
  {
   "cell_type": "code",
   "execution_count": 33,
   "metadata": {},
   "outputs": [
    {
     "data": {
      "text/html": [
       "<div>\n",
       "<style scoped>\n",
       "    .dataframe tbody tr th:only-of-type {\n",
       "        vertical-align: middle;\n",
       "    }\n",
       "\n",
       "    .dataframe tbody tr th {\n",
       "        vertical-align: top;\n",
       "    }\n",
       "\n",
       "    .dataframe thead th {\n",
       "        text-align: right;\n",
       "    }\n",
       "</style>\n",
       "<table border=\"1\" class=\"dataframe\">\n",
       "  <thead>\n",
       "    <tr style=\"text-align: right;\">\n",
       "      <th></th>\n",
       "      <th>cid</th>\n",
       "      <th>pid1</th>\n",
       "      <th>pid2</th>\n",
       "      <th>relation</th>\n",
       "      <th>location</th>\n",
       "      <th>locid</th>\n",
       "    </tr>\n",
       "  </thead>\n",
       "  <tbody>\n",
       "    <tr>\n",
       "      <th>86562</th>\n",
       "      <td>106030</td>\n",
       "      <td>82907</td>\n",
       "      <td>82908</td>\n",
       "      <td>1</td>\n",
       "      <td>IIT Kanpur, IISER Kolkata</td>\n",
       "      <td>18466</td>\n",
       "    </tr>\n",
       "    <tr>\n",
       "      <th>1520475</th>\n",
       "      <td>106030</td>\n",
       "      <td>82907</td>\n",
       "      <td>82908</td>\n",
       "      <td>1</td>\n",
       "      <td>IACS Kolkata</td>\n",
       "      <td>18467</td>\n",
       "    </tr>\n",
       "  </tbody>\n",
       "</table>\n",
       "</div>"
      ],
      "text/plain": [
       "            cid   pid1   pid2  relation                   location  locid\n",
       "86562    106030  82907  82908         1  IIT Kanpur, IISER Kolkata  18466\n",
       "1520475  106030  82907  82908         1               IACS Kolkata  18467"
      ]
     },
     "execution_count": 33,
     "metadata": {},
     "output_type": "execute_result"
    }
   ],
   "source": [
    "conn_subset[conn_subset.cid == 106030]"
   ]
  },
  {
   "cell_type": "code",
   "execution_count": 34,
   "metadata": {},
   "outputs": [
    {
     "data": {
      "text/html": [
       "<div>\n",
       "<style scoped>\n",
       "    .dataframe tbody tr th:only-of-type {\n",
       "        vertical-align: middle;\n",
       "    }\n",
       "\n",
       "    .dataframe tbody tr th {\n",
       "        vertical-align: top;\n",
       "    }\n",
       "\n",
       "    .dataframe thead th {\n",
       "        text-align: right;\n",
       "    }\n",
       "</style>\n",
       "<table border=\"1\" class=\"dataframe\">\n",
       "  <thead>\n",
       "    <tr style=\"text-align: right;\">\n",
       "      <th></th>\n",
       "      <th>cid</th>\n",
       "      <th>pid1</th>\n",
       "      <th>pid2</th>\n",
       "      <th>relation</th>\n",
       "      <th>location</th>\n",
       "      <th>locid</th>\n",
       "    </tr>\n",
       "  </thead>\n",
       "  <tbody>\n",
       "    <tr>\n",
       "      <th>360872</th>\n",
       "      <td>426298</td>\n",
       "      <td>198224</td>\n",
       "      <td>195226</td>\n",
       "      <td>1</td>\n",
       "      <td>University of Nevada, Reno</td>\n",
       "      <td>410</td>\n",
       "    </tr>\n",
       "    <tr>\n",
       "      <th>360873</th>\n",
       "      <td>426298</td>\n",
       "      <td>198223</td>\n",
       "      <td>195767</td>\n",
       "      <td>1</td>\n",
       "      <td>Georgia Institute of Technology</td>\n",
       "      <td>995</td>\n",
       "    </tr>\n",
       "  </tbody>\n",
       "</table>\n",
       "</div>"
      ],
      "text/plain": [
       "           cid    pid1    pid2  relation                         location  \\\n",
       "360872  426298  198224  195226         1       University of Nevada, Reno   \n",
       "360873  426298  198223  195767         1  Georgia Institute of Technology   \n",
       "\n",
       "        locid  \n",
       "360872    410  \n",
       "360873    995  "
      ]
     },
     "execution_count": 34,
     "metadata": {},
     "output_type": "execute_result"
    }
   ],
   "source": [
    "conn_subset[conn_subset.cid == 426298]"
   ]
  },
  {
   "cell_type": "code",
   "execution_count": 35,
   "metadata": {},
   "outputs": [
    {
     "data": {
      "text/plain": [
       "(722896, 6)"
      ]
     },
     "execution_count": 35,
     "metadata": {},
     "output_type": "execute_result"
    }
   ],
   "source": [
    "conn_subset = conn_subset.drop_duplicates(subset=['cid', 'pid1', 'pid2'])\n",
    "conn_subset.shape"
   ]
  },
  {
   "cell_type": "code",
   "execution_count": 36,
   "metadata": {},
   "outputs": [
    {
     "data": {
      "text/plain": [
       "12"
      ]
     },
     "execution_count": 36,
     "metadata": {},
     "output_type": "execute_result"
    }
   ],
   "source": [
    "dup_cids = set(k for k, v in conn_subset.cid.value_counts().items() if v > 1)\n",
    "len(dup_cids)"
   ]
  },
  {
   "cell_type": "code",
   "execution_count": 37,
   "metadata": {},
   "outputs": [
    {
     "data": {
      "text/plain": [
       "(722872, 6)"
      ]
     },
     "execution_count": 37,
     "metadata": {},
     "output_type": "execute_result"
    }
   ],
   "source": [
    "ds_conn = conn_subset[~conn_subset.cid.isin(dup_cids)].copy().reset_index(drop=True)\n",
    "ds_conn.shape"
   ]
  },
  {
   "cell_type": "code",
   "execution_count": 38,
   "metadata": {},
   "outputs": [
    {
     "data": {
      "text/plain": [
       "722872"
      ]
     },
     "execution_count": 38,
     "metadata": {},
     "output_type": "execute_result"
    }
   ],
   "source": [
    "ds_conn.cid.nunique()"
   ]
  },
  {
   "cell_type": "code",
   "execution_count": 41,
   "metadata": {},
   "outputs": [
    {
     "name": "stderr",
     "output_type": "stream",
     "text": [
      "/home/qke100/.local/lib/python3.6/site-packages/pandas/core/generic.py:2449: PerformanceWarning: \n",
      "your performance may suffer as PyTables will pickle object types that it cannot\n",
      "map directly to c-types [inferred_type->mixed,key->block1_values] [items->Index(['pid1', 'pid2', 'location'], dtype='object')]\n",
      "\n",
      "  encoding=encoding,\n"
     ]
    }
   ],
   "source": [
    "ds_conn.to_hdf('dataset/connect_df.h5', key='df', mode='w')"
   ]
  },
  {
   "cell_type": "code",
   "execution_count": 42,
   "metadata": {},
   "outputs": [],
   "source": [
    "ds_conn.to_csv('dataset/connect.csv', index=False)"
   ]
  },
  {
   "cell_type": "code",
   "execution_count": 43,
   "metadata": {},
   "outputs": [
    {
     "data": {
      "text/plain": [
       "724494"
      ]
     },
     "execution_count": 43,
     "metadata": {},
     "output_type": "execute_result"
    }
   ],
   "source": [
    "pids_conn = set(ds_conn.pid1) | set(ds_conn.pid2)\n",
    "len(pids_conn)"
   ]
  },
  {
   "cell_type": "code",
   "execution_count": null,
   "metadata": {},
   "outputs": [],
   "source": []
  }
 ],
 "metadata": {
  "kernelspec": {
   "display_name": "Python 3",
   "language": "python",
   "name": "python3"
  },
  "language_info": {
   "codemirror_mode": {
    "name": "ipython",
    "version": 3
   },
   "file_extension": ".py",
   "mimetype": "text/x-python",
   "name": "python",
   "nbconvert_exporter": "python",
   "pygments_lexer": "ipython3",
   "version": "3.6.9"
  },
  "toc": {
   "base_numbering": 1,
   "nav_menu": {},
   "number_sections": true,
   "sideBar": true,
   "skip_h1_title": false,
   "title_cell": "Table of Contents",
   "title_sidebar": "Contents",
   "toc_cell": false,
   "toc_position": {},
   "toc_section_display": true,
   "toc_window_display": false
  }
 },
 "nbformat": 4,
 "nbformat_minor": 4
}
