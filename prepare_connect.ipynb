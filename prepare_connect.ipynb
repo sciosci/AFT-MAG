{
 "cells": [
  {
   "cell_type": "code",
   "execution_count": 1,
   "metadata": {},
   "outputs": [],
   "source": [
    "import pandas as pd\n",
    "\n",
    "from os.path import join\n",
    "\n",
    "DATA_DIR = 'raw_data/'"
   ]
  },
  {
   "cell_type": "markdown",
   "metadata": {},
   "source": [
    "## Connect DF"
   ]
  },
  {
   "cell_type": "code",
   "execution_count": 2,
   "metadata": {},
   "outputs": [
    {
     "name": "stdout",
     "output_type": "stream",
     "text": [
      "\"cid\",\"pid1\",\"pid2\",\"relation\",\"location\",\"locid\",\"startdate\",\"stopdate\",\"addedby\",\"dateadded\",\"modby\"\r\n",
      "\"2\",\"2\",\"3\",\"1\",\"University of California, Berkeley\",\"312\",\"2000-00-00\",\"2005-00-00\",\"david\",\"2005-01-15 17:33:57\",\"david\"\r\n",
      "\"3\",\"4\",\"3\",\"2\",\"University of California, Berkeley\",\"312\",\"2003-00-00\",\"2006-00-00\",\"david\",\"2005-01-15 17:35:17\",\"david\"\r\n",
      "\"5\",\"6\",\"3\",\"1\",\"University of California, Berkeley\",\"312\",\"2002-00-00\",\"2008-00-00\",\"david\",\"2005-01-15 19:02:54\",\"david\"\r\n",
      "\"6\",\"18761\",\"9\",\"1\",\"University of California, Berkeley\",\"312\",\"0000-00-00\",\"1984-00-00\",\"david\",\"2005-01-15 19:06:16\",\"david\"\r\n",
      "\"7\",\"10\",\"16\",\"2\",\"Washington University, Saint Louis\",\"497\",\"0000-00-00\",\"0000-00-00\",\"david\",\"2005-01-15 19:06:58\",\"david\"\r\n"
     ]
    }
   ],
   "source": [
    "! head -6 raw_data/connect.csv"
   ]
  },
  {
   "cell_type": "code",
   "execution_count": 3,
   "metadata": {},
   "outputs": [
    {
     "data": {
      "text/plain": [
       "(1553290, 8)"
      ]
     },
     "execution_count": 3,
     "metadata": {},
     "output_type": "execute_result"
    }
   ],
   "source": [
    "conn_df = pd.read_csv(join(DATA_DIR, 'connect.csv'), sep=',', dtype=str).drop(\n",
    "    columns=['addedby','dateadded','modby']).fillna('')\n",
    "conn_df.shape"
   ]
  },
  {
   "cell_type": "code",
   "execution_count": 4,
   "metadata": {},
   "outputs": [
    {
     "data": {
      "text/plain": [
       "[('cid', 0),\n",
       " ('pid1', 0),\n",
       " ('pid2', 0),\n",
       " ('relation', 0),\n",
       " ('location', 38958),\n",
       " ('locid', 0),\n",
       " ('startdate', 0),\n",
       " ('stopdate', 0)]"
      ]
     },
     "execution_count": 4,
     "metadata": {},
     "output_type": "execute_result"
    }
   ],
   "source": [
    "[(c, (conn_df[c] == '').sum()) for c in conn_df.columns]"
   ]
  },
  {
   "cell_type": "code",
   "execution_count": 5,
   "metadata": {},
   "outputs": [
    {
     "data": {
      "text/html": [
       "<div>\n",
       "<style scoped>\n",
       "    .dataframe tbody tr th:only-of-type {\n",
       "        vertical-align: middle;\n",
       "    }\n",
       "\n",
       "    .dataframe tbody tr th {\n",
       "        vertical-align: top;\n",
       "    }\n",
       "\n",
       "    .dataframe thead th {\n",
       "        text-align: right;\n",
       "    }\n",
       "</style>\n",
       "<table border=\"1\" class=\"dataframe\">\n",
       "  <thead>\n",
       "    <tr style=\"text-align: right;\">\n",
       "      <th></th>\n",
       "      <th>cid</th>\n",
       "      <th>pid1</th>\n",
       "      <th>pid2</th>\n",
       "      <th>relation</th>\n",
       "      <th>location</th>\n",
       "      <th>locid</th>\n",
       "      <th>startdate</th>\n",
       "      <th>stopdate</th>\n",
       "    </tr>\n",
       "  </thead>\n",
       "  <tbody>\n",
       "    <tr>\n",
       "      <th>1550888</th>\n",
       "      <td>1781404</td>\n",
       "      <td>838757</td>\n",
       "      <td>0</td>\n",
       "      <td>0</td>\n",
       "      <td></td>\n",
       "      <td>1</td>\n",
       "      <td>0000-00-00</td>\n",
       "      <td>0000-00-00</td>\n",
       "    </tr>\n",
       "    <tr>\n",
       "      <th>1515163</th>\n",
       "      <td>1732522</td>\n",
       "      <td>824709</td>\n",
       "      <td>383257</td>\n",
       "      <td>1</td>\n",
       "      <td></td>\n",
       "      <td>1</td>\n",
       "      <td>0000-00-00</td>\n",
       "      <td>0000-00-00</td>\n",
       "    </tr>\n",
       "    <tr>\n",
       "      <th>168986</th>\n",
       "      <td>198971</td>\n",
       "      <td>84269</td>\n",
       "      <td>0</td>\n",
       "      <td>0</td>\n",
       "      <td></td>\n",
       "      <td>1</td>\n",
       "      <td>0000-00-00</td>\n",
       "      <td>0000-00-00</td>\n",
       "    </tr>\n",
       "    <tr>\n",
       "      <th>15282</th>\n",
       "      <td>18851</td>\n",
       "      <td>13705</td>\n",
       "      <td>4248</td>\n",
       "      <td>2</td>\n",
       "      <td></td>\n",
       "      <td>1</td>\n",
       "      <td>0000-00-00</td>\n",
       "      <td>0000-00-00</td>\n",
       "    </tr>\n",
       "    <tr>\n",
       "      <th>1266620</th>\n",
       "      <td>1371007</td>\n",
       "      <td>721003</td>\n",
       "      <td>344580</td>\n",
       "      <td>1</td>\n",
       "      <td></td>\n",
       "      <td>1</td>\n",
       "      <td>0000-00-00</td>\n",
       "      <td>0000-00-00</td>\n",
       "    </tr>\n",
       "  </tbody>\n",
       "</table>\n",
       "</div>"
      ],
      "text/plain": [
       "             cid    pid1    pid2 relation location locid   startdate  \\\n",
       "1550888  1781404  838757       0        0              1  0000-00-00   \n",
       "1515163  1732522  824709  383257        1              1  0000-00-00   \n",
       "168986    198971   84269       0        0              1  0000-00-00   \n",
       "15282      18851   13705    4248        2              1  0000-00-00   \n",
       "1266620  1371007  721003  344580        1              1  0000-00-00   \n",
       "\n",
       "           stopdate  \n",
       "1550888  0000-00-00  \n",
       "1515163  0000-00-00  \n",
       "168986   0000-00-00  \n",
       "15282    0000-00-00  \n",
       "1266620  0000-00-00  "
      ]
     },
     "execution_count": 5,
     "metadata": {},
     "output_type": "execute_result"
    }
   ],
   "source": [
    "conn_df[(conn_df.location == '') & (conn_df.locid != '')].sample(5)"
   ]
  },
  {
   "cell_type": "code",
   "execution_count": 6,
   "metadata": {},
   "outputs": [
    {
     "data": {
      "text/plain": [
       "(774733, 13)"
      ]
     },
     "execution_count": 6,
     "metadata": {},
     "output_type": "execute_result"
    }
   ],
   "source": [
    "ds_people = pd.read_hdf('dataset/people_df.h5')\n",
    "ds_people.shape"
   ]
  },
  {
   "cell_type": "code",
   "execution_count": 8,
   "metadata": {},
   "outputs": [
    {
     "data": {
      "text/html": [
       "<div>\n",
       "<style scoped>\n",
       "    .dataframe tbody tr th:only-of-type {\n",
       "        vertical-align: middle;\n",
       "    }\n",
       "\n",
       "    .dataframe tbody tr th {\n",
       "        vertical-align: top;\n",
       "    }\n",
       "\n",
       "    .dataframe thead th {\n",
       "        text-align: right;\n",
       "    }\n",
       "</style>\n",
       "<table border=\"1\" class=\"dataframe\">\n",
       "  <thead>\n",
       "    <tr style=\"text-align: right;\">\n",
       "      <th></th>\n",
       "      <th>pid</th>\n",
       "      <th>firstname</th>\n",
       "      <th>middlename</th>\n",
       "      <th>lastname</th>\n",
       "      <th>degrees</th>\n",
       "      <th>location</th>\n",
       "      <th>locid</th>\n",
       "      <th>majorarea</th>\n",
       "      <th>orcid</th>\n",
       "      <th>firstname_norm</th>\n",
       "      <th>middlename_norm</th>\n",
       "      <th>lastname_norm</th>\n",
       "      <th>orcid_norm</th>\n",
       "    </tr>\n",
       "  </thead>\n",
       "  <tbody>\n",
       "    <tr>\n",
       "      <th>0</th>\n",
       "      <td>1</td>\n",
       "      <td>Stephen</td>\n",
       "      <td>V.</td>\n",
       "      <td>David</td>\n",
       "      <td>Ph.D.</td>\n",
       "      <td>Oregon Health and Science University</td>\n",
       "      <td>226</td>\n",
       "      <td>neuro,csd,bme</td>\n",
       "      <td>0000-0003-4135-3104</td>\n",
       "      <td>STEPHEN</td>\n",
       "      <td>V</td>\n",
       "      <td>DAVID</td>\n",
       "      <td>0000-0003-4135-3104</td>\n",
       "    </tr>\n",
       "  </tbody>\n",
       "</table>\n",
       "</div>"
      ],
      "text/plain": [
       "  pid firstname middlename lastname degrees  \\\n",
       "0   1   Stephen         V.    David   Ph.D.   \n",
       "\n",
       "                               location locid      majorarea  \\\n",
       "0  Oregon Health and Science University   226  neuro,csd,bme   \n",
       "\n",
       "                 orcid firstname_norm middlename_norm lastname_norm  \\\n",
       "0  0000-0003-4135-3104        STEPHEN               V         DAVID   \n",
       "\n",
       "            orcid_norm  \n",
       "0  0000-0003-4135-3104  "
      ]
     },
     "execution_count": 8,
     "metadata": {},
     "output_type": "execute_result"
    }
   ],
   "source": [
    "ds_people.head(1)"
   ]
  },
  {
   "cell_type": "code",
   "execution_count": 9,
   "metadata": {},
   "outputs": [
    {
     "data": {
      "text/plain": [
       "774733"
      ]
     },
     "execution_count": 9,
     "metadata": {},
     "output_type": "execute_result"
    }
   ],
   "source": [
    "pids = set(ds_people.pid)\n",
    "len(pids)"
   ]
  },
  {
   "cell_type": "code",
   "execution_count": 10,
   "metadata": {},
   "outputs": [
    {
     "data": {
      "text/plain": [
       "(743490, 8)"
      ]
     },
     "execution_count": 10,
     "metadata": {},
     "output_type": "execute_result"
    }
   ],
   "source": [
    "ds_conn = conn_df[(conn_df.pid1.isin(pids)) & (conn_df.pid2.isin(pids))].copy().reset_index(drop=True)\n",
    "ds_conn.shape"
   ]
  },
  {
   "cell_type": "code",
   "execution_count": 11,
   "metadata": {},
   "outputs": [
    {
     "data": {
      "text/plain": [
       "743186"
      ]
     },
     "execution_count": 11,
     "metadata": {},
     "output_type": "execute_result"
    }
   ],
   "source": [
    "ds_conn.cid.nunique()"
   ]
  },
  {
   "cell_type": "code",
   "execution_count": 12,
   "metadata": {},
   "outputs": [
    {
     "data": {
      "text/plain": [
       "112190     2\n",
       "123561     2\n",
       "117375     2\n",
       "108957     2\n",
       "117806     2\n",
       "          ..\n",
       "348727     1\n",
       "927261     1\n",
       "692492     1\n",
       "1632993    1\n",
       "777568     1\n",
       "Name: cid, Length: 743186, dtype: int64"
      ]
     },
     "execution_count": 12,
     "metadata": {},
     "output_type": "execute_result"
    }
   ],
   "source": [
    "ds_conn.cid.value_counts()"
   ]
  },
  {
   "cell_type": "code",
   "execution_count": 13,
   "metadata": {},
   "outputs": [
    {
     "data": {
      "text/html": [
       "<div>\n",
       "<style scoped>\n",
       "    .dataframe tbody tr th:only-of-type {\n",
       "        vertical-align: middle;\n",
       "    }\n",
       "\n",
       "    .dataframe tbody tr th {\n",
       "        vertical-align: top;\n",
       "    }\n",
       "\n",
       "    .dataframe thead th {\n",
       "        text-align: right;\n",
       "    }\n",
       "</style>\n",
       "<table border=\"1\" class=\"dataframe\">\n",
       "  <thead>\n",
       "    <tr style=\"text-align: right;\">\n",
       "      <th></th>\n",
       "      <th>cid</th>\n",
       "      <th>pid1</th>\n",
       "      <th>pid2</th>\n",
       "      <th>relation</th>\n",
       "      <th>location</th>\n",
       "      <th>locid</th>\n",
       "      <th>startdate</th>\n",
       "      <th>stopdate</th>\n",
       "    </tr>\n",
       "  </thead>\n",
       "  <tbody>\n",
       "    <tr>\n",
       "      <th>110853</th>\n",
       "      <td>106829</td>\n",
       "      <td>83509</td>\n",
       "      <td>60134</td>\n",
       "      <td>1</td>\n",
       "      <td>University of Arkansas</td>\n",
       "      <td>1026</td>\n",
       "      <td>0000-00-00</td>\n",
       "      <td>2014-00-00</td>\n",
       "    </tr>\n",
       "    <tr>\n",
       "      <th>146208</th>\n",
       "      <td>106829</td>\n",
       "      <td>83509</td>\n",
       "      <td>60134</td>\n",
       "      <td>1</td>\n",
       "      <td>University of Arkansas</td>\n",
       "      <td>1026</td>\n",
       "      <td>0000-00-00</td>\n",
       "      <td>2014-00-00</td>\n",
       "    </tr>\n",
       "  </tbody>\n",
       "</table>\n",
       "</div>"
      ],
      "text/plain": [
       "           cid   pid1   pid2 relation                location locid  \\\n",
       "110853  106829  83509  60134        1  University of Arkansas  1026   \n",
       "146208  106829  83509  60134        1  University of Arkansas  1026   \n",
       "\n",
       "         startdate    stopdate  \n",
       "110853  0000-00-00  2014-00-00  \n",
       "146208  0000-00-00  2014-00-00  "
      ]
     },
     "execution_count": 13,
     "metadata": {},
     "output_type": "execute_result"
    }
   ],
   "source": [
    "ds_conn[ds_conn.cid == '106829']"
   ]
  },
  {
   "cell_type": "code",
   "execution_count": 14,
   "metadata": {},
   "outputs": [
    {
     "data": {
      "text/html": [
       "<div>\n",
       "<style scoped>\n",
       "    .dataframe tbody tr th:only-of-type {\n",
       "        vertical-align: middle;\n",
       "    }\n",
       "\n",
       "    .dataframe tbody tr th {\n",
       "        vertical-align: top;\n",
       "    }\n",
       "\n",
       "    .dataframe thead th {\n",
       "        text-align: right;\n",
       "    }\n",
       "</style>\n",
       "<table border=\"1\" class=\"dataframe\">\n",
       "  <thead>\n",
       "    <tr style=\"text-align: right;\">\n",
       "      <th></th>\n",
       "      <th>cid</th>\n",
       "      <th>pid1</th>\n",
       "      <th>pid2</th>\n",
       "      <th>relation</th>\n",
       "      <th>location</th>\n",
       "      <th>locid</th>\n",
       "      <th>startdate</th>\n",
       "      <th>stopdate</th>\n",
       "    </tr>\n",
       "  </thead>\n",
       "  <tbody>\n",
       "    <tr>\n",
       "      <th>92806</th>\n",
       "      <td>114032</td>\n",
       "      <td>16179</td>\n",
       "      <td>6140</td>\n",
       "      <td>2</td>\n",
       "      <td>Université de Montréal, and Centre de Recherch...</td>\n",
       "      <td>6236</td>\n",
       "      <td>2014-00-00</td>\n",
       "      <td>2016-00-00</td>\n",
       "    </tr>\n",
       "    <tr>\n",
       "      <th>118356</th>\n",
       "      <td>114032</td>\n",
       "      <td>16179</td>\n",
       "      <td>6140</td>\n",
       "      <td>2</td>\n",
       "      <td>Université de Montréal, and Centre de Recherch...</td>\n",
       "      <td>6236</td>\n",
       "      <td>2014-00-00</td>\n",
       "      <td>2016-00-00</td>\n",
       "    </tr>\n",
       "  </tbody>\n",
       "</table>\n",
       "</div>"
      ],
      "text/plain": [
       "           cid   pid1  pid2 relation  \\\n",
       "92806   114032  16179  6140        2   \n",
       "118356  114032  16179  6140        2   \n",
       "\n",
       "                                                 location locid   startdate  \\\n",
       "92806   Université de Montréal, and Centre de Recherch...  6236  2014-00-00   \n",
       "118356  Université de Montréal, and Centre de Recherch...  6236  2014-00-00   \n",
       "\n",
       "          stopdate  \n",
       "92806   2016-00-00  \n",
       "118356  2016-00-00  "
      ]
     },
     "execution_count": 14,
     "metadata": {},
     "output_type": "execute_result"
    }
   ],
   "source": [
    "ds_conn[ds_conn.cid == '114032']"
   ]
  },
  {
   "cell_type": "code",
   "execution_count": 15,
   "metadata": {},
   "outputs": [
    {
     "data": {
      "text/plain": [
       "(743196, 8)"
      ]
     },
     "execution_count": 15,
     "metadata": {},
     "output_type": "execute_result"
    }
   ],
   "source": [
    "ds_conn = ds_conn.drop_duplicates().copy().reset_index(drop=True)\n",
    "ds_conn.shape"
   ]
  },
  {
   "cell_type": "code",
   "execution_count": 16,
   "metadata": {},
   "outputs": [
    {
     "data": {
      "text/plain": [
       "1396680    2\n",
       "1568223    2\n",
       "1702880    2\n",
       "426298     2\n",
       "1455639    2\n",
       "          ..\n",
       "409498     1\n",
       "496757     1\n",
       "1606834    1\n",
       "61991      1\n",
       "777568     1\n",
       "Name: cid, Length: 743186, dtype: int64"
      ]
     },
     "execution_count": 16,
     "metadata": {},
     "output_type": "execute_result"
    }
   ],
   "source": [
    "ds_conn.cid.value_counts()"
   ]
  },
  {
   "cell_type": "code",
   "execution_count": 17,
   "metadata": {},
   "outputs": [
    {
     "data": {
      "text/html": [
       "<div>\n",
       "<style scoped>\n",
       "    .dataframe tbody tr th:only-of-type {\n",
       "        vertical-align: middle;\n",
       "    }\n",
       "\n",
       "    .dataframe tbody tr th {\n",
       "        vertical-align: top;\n",
       "    }\n",
       "\n",
       "    .dataframe thead th {\n",
       "        text-align: right;\n",
       "    }\n",
       "</style>\n",
       "<table border=\"1\" class=\"dataframe\">\n",
       "  <thead>\n",
       "    <tr style=\"text-align: right;\">\n",
       "      <th></th>\n",
       "      <th>cid</th>\n",
       "      <th>pid1</th>\n",
       "      <th>pid2</th>\n",
       "      <th>relation</th>\n",
       "      <th>location</th>\n",
       "      <th>locid</th>\n",
       "      <th>startdate</th>\n",
       "      <th>stopdate</th>\n",
       "    </tr>\n",
       "  </thead>\n",
       "  <tbody>\n",
       "    <tr>\n",
       "      <th>712355</th>\n",
       "      <td>1702880</td>\n",
       "      <td>816978</td>\n",
       "      <td>351350</td>\n",
       "      <td>1</td>\n",
       "      <td>Texas A &amp; M University</td>\n",
       "      <td>5832</td>\n",
       "      <td>2019-00-00</td>\n",
       "      <td>0000-00-00</td>\n",
       "    </tr>\n",
       "    <tr>\n",
       "      <th>713402</th>\n",
       "      <td>1702880</td>\n",
       "      <td>816977</td>\n",
       "      <td>817781</td>\n",
       "      <td>1</td>\n",
       "      <td>Rheinische Friedrich-Wilhelms-Universität Bonn</td>\n",
       "      <td>3182</td>\n",
       "      <td>0000-00-00</td>\n",
       "      <td>1999-00-00</td>\n",
       "    </tr>\n",
       "  </tbody>\n",
       "</table>\n",
       "</div>"
      ],
      "text/plain": [
       "            cid    pid1    pid2 relation  \\\n",
       "712355  1702880  816978  351350        1   \n",
       "713402  1702880  816977  817781        1   \n",
       "\n",
       "                                              location locid   startdate  \\\n",
       "712355                          Texas A & M University  5832  2019-00-00   \n",
       "713402  Rheinische Friedrich-Wilhelms-Universität Bonn  3182  0000-00-00   \n",
       "\n",
       "          stopdate  \n",
       "712355  0000-00-00  \n",
       "713402  1999-00-00  "
      ]
     },
     "execution_count": 17,
     "metadata": {},
     "output_type": "execute_result"
    }
   ],
   "source": [
    "ds_conn[ds_conn.cid == '1702880']"
   ]
  },
  {
   "cell_type": "code",
   "execution_count": 18,
   "metadata": {},
   "outputs": [
    {
     "data": {
      "text/plain": [
       "10"
      ]
     },
     "execution_count": 18,
     "metadata": {},
     "output_type": "execute_result"
    }
   ],
   "source": [
    "dup_cids = set(k for k, v in ds_conn.cid.value_counts().items() if v > 1)\n",
    "len(dup_cids)"
   ]
  },
  {
   "cell_type": "code",
   "execution_count": 19,
   "metadata": {},
   "outputs": [
    {
     "data": {
      "text/plain": [
       "(743176, 8)"
      ]
     },
     "execution_count": 19,
     "metadata": {},
     "output_type": "execute_result"
    }
   ],
   "source": [
    "ds_conn = ds_conn[~ds_conn.cid.isin(dup_cids)].copy().reset_index(drop=True)\n",
    "ds_conn.shape"
   ]
  },
  {
   "cell_type": "code",
   "execution_count": 20,
   "metadata": {},
   "outputs": [
    {
     "data": {
      "text/plain": [
       "743176"
      ]
     },
     "execution_count": 20,
     "metadata": {},
     "output_type": "execute_result"
    }
   ],
   "source": [
    "ds_conn.cid.nunique()"
   ]
  },
  {
   "cell_type": "code",
   "execution_count": 21,
   "metadata": {},
   "outputs": [
    {
     "data": {
      "text/plain": [
       "738989"
      ]
     },
     "execution_count": 21,
     "metadata": {},
     "output_type": "execute_result"
    }
   ],
   "source": [
    "len(set(ds_conn.pid1) | set(ds_conn.pid2))"
   ]
  },
  {
   "cell_type": "code",
   "execution_count": 22,
   "metadata": {},
   "outputs": [
    {
     "data": {
      "text/plain": [
       "(743176, 9)"
      ]
     },
     "execution_count": 22,
     "metadata": {},
     "output_type": "execute_result"
    }
   ],
   "source": [
    "def norm_startdate(x):\n",
    "    \"\"\"\"\"\"\n",
    "    parts = x.split('-')\n",
    "    assert len(parts) == 3\n",
    "    if parts[0] == '0000':\n",
    "        return -1\n",
    "    yr = int(parts[0])\n",
    "    if yr < 1000 or yr > 2050:\n",
    "        return -1\n",
    "    return yr\n",
    "\n",
    "ds_conn['startyear'] = ds_conn.startdate.apply(norm_startdate)\n",
    "ds_conn.shape"
   ]
  },
  {
   "cell_type": "code",
   "execution_count": 23,
   "metadata": {},
   "outputs": [
    {
     "data": {
      "text/plain": [
       "count    134960.000000\n",
       "mean       2000.628416\n",
       "std          28.194588\n",
       "min        1015.000000\n",
       "25%        1997.000000\n",
       "50%        2007.000000\n",
       "75%        2013.000000\n",
       "max        2023.000000\n",
       "Name: startyear, dtype: float64"
      ]
     },
     "execution_count": 23,
     "metadata": {},
     "output_type": "execute_result"
    }
   ],
   "source": [
    "ds_conn[ds_conn.startyear != -1].startyear.describe()"
   ]
  },
  {
   "cell_type": "code",
   "execution_count": 24,
   "metadata": {},
   "outputs": [
    {
     "data": {
      "text/plain": [
       "(743176, 10)"
      ]
     },
     "execution_count": 24,
     "metadata": {},
     "output_type": "execute_result"
    }
   ],
   "source": [
    "def norm_stopdate(x):\n",
    "    \"\"\"\"\"\"\n",
    "    parts = x.split('-')\n",
    "    assert len(parts) == 3\n",
    "    if parts[0] == '0000':\n",
    "        return -1\n",
    "    yr = int(parts[0])\n",
    "    if yr > 2030:\n",
    "        return -1\n",
    "    return yr\n",
    "\n",
    "ds_conn['stopyear'] = ds_conn.stopdate.apply(norm_stopdate)\n",
    "ds_conn.shape"
   ]
  },
  {
   "cell_type": "code",
   "execution_count": 25,
   "metadata": {},
   "outputs": [
    {
     "data": {
      "text/plain": [
       "count    611925.000000\n",
       "mean       2002.177025\n",
       "std          24.246215\n",
       "min        1001.000000\n",
       "25%        2002.000000\n",
       "50%        2007.000000\n",
       "75%        2011.000000\n",
       "max        2030.000000\n",
       "Name: stopyear, dtype: float64"
      ]
     },
     "execution_count": 25,
     "metadata": {},
     "output_type": "execute_result"
    }
   ],
   "source": [
    "ds_conn[ds_conn.stopyear != -1].stopyear.describe()"
   ]
  },
  {
   "cell_type": "code",
   "execution_count": 26,
   "metadata": {},
   "outputs": [
    {
     "data": {
      "text/plain": [
       "715183    1001\n",
       "555797    1006\n",
       "41050     1008\n",
       "562833    1010\n",
       "84146     1012\n",
       "          ... \n",
       "734457    2026\n",
       "734458    2026\n",
       "9804      2026\n",
       "734460    2026\n",
       "120082    2030\n",
       "Name: stopyear, Length: 611925, dtype: int64"
      ]
     },
     "execution_count": 26,
     "metadata": {},
     "output_type": "execute_result"
    }
   ],
   "source": [
    "ds_conn[ds_conn.stopyear != -1].stopyear.sort_values()"
   ]
  },
  {
   "cell_type": "code",
   "execution_count": 27,
   "metadata": {},
   "outputs": [
    {
     "data": {
      "text/html": [
       "<div>\n",
       "<style scoped>\n",
       "    .dataframe tbody tr th:only-of-type {\n",
       "        vertical-align: middle;\n",
       "    }\n",
       "\n",
       "    .dataframe tbody tr th {\n",
       "        vertical-align: top;\n",
       "    }\n",
       "\n",
       "    .dataframe thead th {\n",
       "        text-align: right;\n",
       "    }\n",
       "</style>\n",
       "<table border=\"1\" class=\"dataframe\">\n",
       "  <thead>\n",
       "    <tr style=\"text-align: right;\">\n",
       "      <th></th>\n",
       "      <th>cid</th>\n",
       "      <th>pid1</th>\n",
       "      <th>pid2</th>\n",
       "      <th>relation</th>\n",
       "      <th>location</th>\n",
       "      <th>locid</th>\n",
       "      <th>startdate</th>\n",
       "      <th>stopdate</th>\n",
       "      <th>startyear</th>\n",
       "      <th>stopyear</th>\n",
       "    </tr>\n",
       "  </thead>\n",
       "  <tbody>\n",
       "    <tr>\n",
       "      <th>120082</th>\n",
       "      <td>264293</td>\n",
       "      <td>92149</td>\n",
       "      <td>12374</td>\n",
       "      <td>4</td>\n",
       "      <td>Karolinska Institute</td>\n",
       "      <td>123</td>\n",
       "      <td>1960-00-00</td>\n",
       "      <td>2030-00-00</td>\n",
       "      <td>1960</td>\n",
       "      <td>2030</td>\n",
       "    </tr>\n",
       "  </tbody>\n",
       "</table>\n",
       "</div>"
      ],
      "text/plain": [
       "           cid   pid1   pid2 relation              location locid   startdate  \\\n",
       "120082  264293  92149  12374        4  Karolinska Institute   123  1960-00-00   \n",
       "\n",
       "          stopdate  startyear  stopyear  \n",
       "120082  2030-00-00       1960      2030  "
      ]
     },
     "execution_count": 27,
     "metadata": {},
     "output_type": "execute_result"
    }
   ],
   "source": [
    "ds_conn[ds_conn.stopyear == 2030]"
   ]
  },
  {
   "cell_type": "code",
   "execution_count": 28,
   "metadata": {},
   "outputs": [],
   "source": [
    "ds_conn.to_hdf('dataset/connect_df.h5', key='df', mode='w')"
   ]
  },
  {
   "cell_type": "code",
   "execution_count": null,
   "metadata": {},
   "outputs": [],
   "source": []
  }
 ],
 "metadata": {
  "kernelspec": {
   "display_name": "Python 3",
   "language": "python",
   "name": "python3"
  },
  "language_info": {
   "codemirror_mode": {
    "name": "ipython",
    "version": 3
   },
   "file_extension": ".py",
   "mimetype": "text/x-python",
   "name": "python",
   "nbconvert_exporter": "python",
   "pygments_lexer": "ipython3",
   "version": "3.6.9"
  },
  "toc": {
   "base_numbering": 1,
   "nav_menu": {},
   "number_sections": true,
   "sideBar": true,
   "skip_h1_title": false,
   "title_cell": "Table of Contents",
   "title_sidebar": "Contents",
   "toc_cell": false,
   "toc_position": {},
   "toc_section_display": true,
   "toc_window_display": false
  }
 },
 "nbformat": 4,
 "nbformat_minor": 4
}
