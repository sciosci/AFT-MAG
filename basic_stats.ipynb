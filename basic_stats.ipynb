{
 "cells": [
  {
   "cell_type": "code",
   "execution_count": 1,
   "metadata": {},
   "outputs": [],
   "source": [
    "%matplotlib inline\n",
    "\n",
    "import pandas as pd\n",
    "import matplotlib as mpl\n",
    "import matplotlib.pyplot as plt\n",
    "import seaborn as sns; sns.set_style('ticks')\n",
    "\n",
    "from collections import Counter"
   ]
  },
  {
   "cell_type": "markdown",
   "metadata": {},
   "source": [
    "## Research area"
   ]
  },
  {
   "cell_type": "code",
   "execution_count": 2,
   "metadata": {},
   "outputs": [
    {
     "data": {
      "text/plain": [
       "(774733, 9)"
      ]
     },
     "execution_count": 2,
     "metadata": {},
     "output_type": "execute_result"
    }
   ],
   "source": [
    "researcher_df = pd.read_csv('dataset/researcher.csv', dtype=str).fillna('')\n",
    "researcher_df.shape"
   ]
  },
  {
   "cell_type": "code",
   "execution_count": 3,
   "metadata": {},
   "outputs": [
    {
     "data": {
      "text/html": [
       "<div>\n",
       "<style scoped>\n",
       "    .dataframe tbody tr th:only-of-type {\n",
       "        vertical-align: middle;\n",
       "    }\n",
       "\n",
       "    .dataframe tbody tr th {\n",
       "        vertical-align: top;\n",
       "    }\n",
       "\n",
       "    .dataframe thead th {\n",
       "        text-align: right;\n",
       "    }\n",
       "</style>\n",
       "<table border=\"1\" class=\"dataframe\">\n",
       "  <thead>\n",
       "    <tr style=\"text-align: right;\">\n",
       "      <th></th>\n",
       "      <th>PID</th>\n",
       "      <th>FirstName</th>\n",
       "      <th>MiddleName</th>\n",
       "      <th>LastName</th>\n",
       "      <th>Institution</th>\n",
       "      <th>InstitutionMAGID</th>\n",
       "      <th>ResearchArea</th>\n",
       "      <th>ORCID</th>\n",
       "      <th>MAGAuthorID</th>\n",
       "    </tr>\n",
       "  </thead>\n",
       "  <tbody>\n",
       "    <tr>\n",
       "      <th>0</th>\n",
       "      <td>1</td>\n",
       "      <td>STEPHEN</td>\n",
       "      <td>V</td>\n",
       "      <td>DAVID</td>\n",
       "      <td>Oregon Health and Science University</td>\n",
       "      <td>165690674</td>\n",
       "      <td>neuro,csd,bme</td>\n",
       "      <td>0000-0003-4135-3104</td>\n",
       "      <td>2171827615</td>\n",
       "    </tr>\n",
       "  </tbody>\n",
       "</table>\n",
       "</div>"
      ],
      "text/plain": [
       "  PID FirstName MiddleName LastName                           Institution  \\\n",
       "0   1   STEPHEN          V    DAVID  Oregon Health and Science University   \n",
       "\n",
       "  InstitutionMAGID   ResearchArea                ORCID MAGAuthorID  \n",
       "0        165690674  neuro,csd,bme  0000-0003-4135-3104  2171827615  "
      ]
     },
     "execution_count": 3,
     "metadata": {},
     "output_type": "execute_result"
    }
   ],
   "source": [
    "researcher_df.head(1)"
   ]
  },
  {
   "cell_type": "code",
   "execution_count": 4,
   "metadata": {},
   "outputs": [
    {
     "data": {
      "text/plain": [
       "(112, 3)"
      ]
     },
     "execution_count": 4,
     "metadata": {},
     "output_type": "execute_result"
    }
   ],
   "source": [
    "def count_column(df, col, sep, fractional=False):\n",
    "    \"\"\"\"\"\"\n",
    "    result = {}\n",
    "    for e in df[col]:\n",
    "        es = e.split(sep)\n",
    "        w = 1 / len(es) if fractional else 1\n",
    "        for a in es:\n",
    "            result[a] = result.get(a, 0) + w\n",
    "    return result\n",
    "\n",
    "def count_major_area():\n",
    "    \"\"\"\"\"\"\n",
    "    cnt_1 = count_column(researcher_df, 'ResearchArea', ',')\n",
    "    cnt_2 = count_column(researcher_df[researcher_df.MAGAuthorID != ''], 'ResearchArea', ',')\n",
    "    rows = []\n",
    "    for k, v in sorted(cnt_1.items(), key=lambda x: x[1], reverse=True):\n",
    "        rows.append([k, v, cnt_2.get(k, 0)])\n",
    "    df = pd.DataFrame(rows, columns=['area', 'num_researchers', 'num_researchers_matched'])\n",
    "    return df\n",
    "\n",
    "area_df = count_major_area()\n",
    "area_df.shape"
   ]
  },
  {
   "cell_type": "code",
   "execution_count": 5,
   "metadata": {},
   "outputs": [],
   "source": [
    "area_df['pct_matched'] = area_df.num_researchers_matched / area_df.num_researchers * 100\n",
    "area_df['pct_researchers'] = area_df.num_researchers / area_df.num_researchers.sum() * 100\n",
    "area_df['pct_researchers_matched'] = area_df.num_researchers_matched / area_df.num_researchers_matched.sum() * 100"
   ]
  },
  {
   "cell_type": "code",
   "execution_count": 6,
   "metadata": {},
   "outputs": [
    {
     "name": "stdout",
     "output_type": "stream",
     "text": [
      "\\begin{tabular}{lrrrr}\n",
      "\\toprule\n",
      "            area &  num\\_researchers &  pct\\_researchers &  num\\_researchers\\_matched &  pct\\_matched \\\\\n",
      "\\midrule\n",
      "           neuro &           135756 &             16.7 &                    93769 &         69.1 \\\\\n",
      "       chemistry &           104450 &             12.9 &                    85585 &         81.9 \\\\\n",
      "           etree &            56898 &              7.0 &                    45004 &         79.1 \\\\\n",
      "            educ &            56580 &              7.0 &                    17978 &         31.8 \\\\\n",
      "         physics &            49582 &              6.1 &                    37714 &         76.1 \\\\\n",
      "            math &            35651 &              4.4 &                    22707 &         63.7 \\\\\n",
      "      literature &            28257 &              3.5 &                     7449 &         26.4 \\\\\n",
      "       sociology &            25453 &              3.1 &                    12618 &         49.6 \\\\\n",
      "            econ &            23497 &              2.9 &                    12841 &         54.6 \\\\\n",
      " computerscience &            22399 &              2.8 &                    18315 &         81.8 \\\\\n",
      "         cellbio &            20970 &              2.6 &                    18087 &         86.3 \\\\\n",
      "         polisci &            18914 &              2.3 &                     8654 &         45.8 \\\\\n",
      "        theology &            17448 &              2.1 &                     3726 &         21.4 \\\\\n",
      "    microbiology &            17230 &              2.1 &                    14759 &         85.7 \\\\\n",
      "            phil &            17035 &              2.1 &                     6253 &         36.7 \\\\\n",
      "            ling &            13952 &              1.7 &                     6685 &         47.9 \\\\\n",
      "         nursing &            13825 &              1.7 &                     6207 &         44.9 \\\\\n",
      "          phtree &            13637 &              1.7 &                     8986 &         65.9 \\\\\n",
      "    anthropology &            13471 &              1.7 &                     6185 &         45.9 \\\\\n",
      "            evol &            13417 &              1.7 &                    10494 &         78.2 \\\\\n",
      "\\bottomrule\n",
      "\\end{tabular}\n",
      "\n"
     ]
    }
   ],
   "source": [
    "print(area_df[\n",
    "    ['area', 'num_researchers', 'pct_researchers', 'num_researchers_matched', 'pct_matched']\n",
    "].head(20).to_latex(index=False, float_format='{:0.1f}'.format))"
   ]
  },
  {
   "cell_type": "markdown",
   "metadata": {},
   "source": [
    "## Mentorship"
   ]
  },
  {
   "cell_type": "code",
   "execution_count": 7,
   "metadata": {},
   "outputs": [
    {
     "data": {
      "text/plain": [
       "(743176, 8)"
      ]
     },
     "execution_count": 7,
     "metadata": {},
     "output_type": "execute_result"
    }
   ],
   "source": [
    "mentorship_df = pd.read_csv('dataset/mentorship.csv', dtype=str)\n",
    "mentorship_df.shape"
   ]
  },
  {
   "cell_type": "code",
   "execution_count": 8,
   "metadata": {},
   "outputs": [
    {
     "data": {
      "text/html": [
       "<div>\n",
       "<style scoped>\n",
       "    .dataframe tbody tr th:only-of-type {\n",
       "        vertical-align: middle;\n",
       "    }\n",
       "\n",
       "    .dataframe tbody tr th {\n",
       "        vertical-align: top;\n",
       "    }\n",
       "\n",
       "    .dataframe thead th {\n",
       "        text-align: right;\n",
       "    }\n",
       "</style>\n",
       "<table border=\"1\" class=\"dataframe\">\n",
       "  <thead>\n",
       "    <tr style=\"text-align: right;\">\n",
       "      <th></th>\n",
       "      <th>CID</th>\n",
       "      <th>MenteeID</th>\n",
       "      <th>MentorID</th>\n",
       "      <th>MentorshipType</th>\n",
       "      <th>Institution</th>\n",
       "      <th>InstitutionMAGID</th>\n",
       "      <th>StartYear</th>\n",
       "      <th>StopYear</th>\n",
       "    </tr>\n",
       "  </thead>\n",
       "  <tbody>\n",
       "    <tr>\n",
       "      <th>0</th>\n",
       "      <td>2</td>\n",
       "      <td>2</td>\n",
       "      <td>3</td>\n",
       "      <td>1</td>\n",
       "      <td>University of California, Berkeley</td>\n",
       "      <td>95457486</td>\n",
       "      <td>2000</td>\n",
       "      <td>2005</td>\n",
       "    </tr>\n",
       "  </tbody>\n",
       "</table>\n",
       "</div>"
      ],
      "text/plain": [
       "  CID MenteeID MentorID MentorshipType                         Institution  \\\n",
       "0   2        2        3              1  University of California, Berkeley   \n",
       "\n",
       "  InstitutionMAGID StartYear StopYear  \n",
       "0         95457486      2000     2005  "
      ]
     },
     "execution_count": 8,
     "metadata": {},
     "output_type": "execute_result"
    }
   ],
   "source": [
    "mentorship_df.head(1)"
   ]
  },
  {
   "cell_type": "code",
   "execution_count": 16,
   "metadata": {},
   "outputs": [
    {
     "data": {
      "text/plain": [
       "1    630439\n",
       "2     68652\n",
       "0     18850\n",
       "4     17833\n",
       "3      7402\n",
       "Name: MentorshipType, dtype: int64"
      ]
     },
     "execution_count": 16,
     "metadata": {},
     "output_type": "execute_result"
    }
   ],
   "source": [
    "mentorship_df.MentorshipType.value_counts(dropna=False)"
   ]
  },
  {
   "cell_type": "code",
   "execution_count": null,
   "metadata": {},
   "outputs": [],
   "source": []
  }
 ],
 "metadata": {
  "kernelspec": {
   "display_name": "Python 3",
   "language": "python",
   "name": "python3"
  },
  "language_info": {
   "codemirror_mode": {
    "name": "ipython",
    "version": 3
   },
   "file_extension": ".py",
   "mimetype": "text/x-python",
   "name": "python",
   "nbconvert_exporter": "python",
   "pygments_lexer": "ipython3",
   "version": "3.6.9"
  },
  "toc": {
   "base_numbering": 1,
   "nav_menu": {},
   "number_sections": true,
   "sideBar": true,
   "skip_h1_title": false,
   "title_cell": "Table of Contents",
   "title_sidebar": "Contents",
   "toc_cell": false,
   "toc_position": {},
   "toc_section_display": true,
   "toc_window_display": false
  }
 },
 "nbformat": 4,
 "nbformat_minor": 4
}
