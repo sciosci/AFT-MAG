{
 "cells": [
  {
   "cell_type": "code",
   "execution_count": 12,
   "metadata": {},
   "outputs": [],
   "source": [
    "import csv\n",
    "import gzip\n",
    "import html\n",
    "import pandas as pd\n",
    "import simplejson as json\n",
    "\n",
    "from os.path import join\n",
    "\n",
    "MAG_DIR = '/home/qke100/ke-data/dataset-MAG/'"
   ]
  },
  {
   "cell_type": "code",
   "execution_count": 2,
   "metadata": {},
   "outputs": [
    {
     "data": {
      "text/plain": [
       "(774733, 18)"
      ]
     },
     "execution_count": 2,
     "metadata": {},
     "output_type": "execute_result"
    }
   ],
   "source": [
    "people_df = pd.read_hdf('results/people_df.h5')\n",
    "people_df.shape"
   ]
  },
  {
   "cell_type": "code",
   "execution_count": 3,
   "metadata": {},
   "outputs": [
    {
     "data": {
      "text/html": [
       "<div>\n",
       "<style scoped>\n",
       "    .dataframe tbody tr th:only-of-type {\n",
       "        vertical-align: middle;\n",
       "    }\n",
       "\n",
       "    .dataframe tbody tr th {\n",
       "        vertical-align: top;\n",
       "    }\n",
       "\n",
       "    .dataframe thead th {\n",
       "        text-align: right;\n",
       "    }\n",
       "</style>\n",
       "<table border=\"1\" class=\"dataframe\">\n",
       "  <thead>\n",
       "    <tr style=\"text-align: right;\">\n",
       "      <th></th>\n",
       "      <th>pid</th>\n",
       "      <th>firstname</th>\n",
       "      <th>middlename</th>\n",
       "      <th>lastname</th>\n",
       "      <th>degrees</th>\n",
       "      <th>location</th>\n",
       "      <th>locid</th>\n",
       "      <th>majorarea</th>\n",
       "      <th>orcid</th>\n",
       "      <th>firstname_norm</th>\n",
       "      <th>middlename_norm</th>\n",
       "      <th>lastname_norm</th>\n",
       "      <th>orcid_norm</th>\n",
       "      <th>MAGInstitution</th>\n",
       "      <th>MAGInstitutionID</th>\n",
       "      <th>magaid_coauthorship</th>\n",
       "      <th>magaid_name_insti</th>\n",
       "      <th>magaid</th>\n",
       "    </tr>\n",
       "  </thead>\n",
       "  <tbody>\n",
       "    <tr>\n",
       "      <th>0</th>\n",
       "      <td>1</td>\n",
       "      <td>Stephen</td>\n",
       "      <td>V.</td>\n",
       "      <td>David</td>\n",
       "      <td>Ph.D.</td>\n",
       "      <td>Oregon Health and Science University</td>\n",
       "      <td>226</td>\n",
       "      <td>neuro,csd,bme</td>\n",
       "      <td>0000-0003-4135-3104</td>\n",
       "      <td>STEPHEN</td>\n",
       "      <td>V</td>\n",
       "      <td>DAVID</td>\n",
       "      <td>0000-0003-4135-3104</td>\n",
       "      <td>OREGON HEALTH &amp; SCIENCE UNIVERSITY</td>\n",
       "      <td>165690674</td>\n",
       "      <td>2171827615</td>\n",
       "      <td></td>\n",
       "      <td>2171827615</td>\n",
       "    </tr>\n",
       "  </tbody>\n",
       "</table>\n",
       "</div>"
      ],
      "text/plain": [
       "  pid firstname middlename lastname degrees  \\\n",
       "0   1   Stephen         V.    David   Ph.D.   \n",
       "\n",
       "                               location locid      majorarea  \\\n",
       "0  Oregon Health and Science University   226  neuro,csd,bme   \n",
       "\n",
       "                 orcid firstname_norm middlename_norm lastname_norm  \\\n",
       "0  0000-0003-4135-3104        STEPHEN               V         DAVID   \n",
       "\n",
       "            orcid_norm                      MAGInstitution MAGInstitutionID  \\\n",
       "0  0000-0003-4135-3104  OREGON HEALTH & SCIENCE UNIVERSITY        165690674   \n",
       "\n",
       "  magaid_coauthorship magaid_name_insti      magaid  \n",
       "0          2171827615                    2171827615  "
      ]
     },
     "execution_count": 3,
     "metadata": {},
     "output_type": "execute_result"
    }
   ],
   "source": [
    "people_df.head(1)"
   ]
  },
  {
   "cell_type": "markdown",
   "metadata": {},
   "source": [
    "## MAG authorship"
   ]
  },
  {
   "cell_type": "code",
   "execution_count": 4,
   "metadata": {},
   "outputs": [
    {
     "name": "stdout",
     "output_type": "stream",
     "text": [
      "491678\n"
     ]
    },
    {
     "data": {
      "text/plain": [
       "491678"
      ]
     },
     "execution_count": 4,
     "metadata": {},
     "output_type": "execute_result"
    }
   ],
   "source": [
    "def load_mag_author_pub(mag_aids=None):\n",
    "    \"\"\"Return list of MAG paper IDs of given MAG author IDs\"\"\"\n",
    "    if type(mag_aids) is list:\n",
    "        mag_aids = set(mag_aids)\n",
    "    print(len(mag_aids))\n",
    "    result = {}\n",
    "    for line in open(join(MAG_DIR, 'authorid_to_paperid.json')):\n",
    "        aid, pubs = json.loads(line)\n",
    "        if mag_aids is None or aid in mag_aids:\n",
    "            result[aid] = pubs\n",
    "    return result\n",
    "\n",
    "mag_aid_to_pubs = load_mag_author_pub(set(e for e in people_df.magaid if e != ''))\n",
    "len(mag_aid_to_pubs)"
   ]
  },
  {
   "cell_type": "code",
   "execution_count": 5,
   "metadata": {},
   "outputs": [],
   "source": [
    "def write_authorship():\n",
    "    \"\"\"\"\"\"\n",
    "    with open('dataset/authorship.csv', 'w') as fout:\n",
    "        writer = csv.writer(fout, delimiter=',', quotechar='\"', quoting=csv.QUOTE_MINIMAL)\n",
    "        writer.writerow(['PID', 'MAGPaperID'])\n",
    "        for pid, magaid in zip(people_df.pid, people_df.magaid):\n",
    "            if magaid != '':\n",
    "                for p in mag_aid_to_pubs[magaid]:\n",
    "                    writer.writerow([pid, p])\n",
    "\n",
    "write_authorship()"
   ]
  },
  {
   "cell_type": "markdown",
   "metadata": {},
   "source": [
    "## MAG paper ID"
   ]
  },
  {
   "cell_type": "code",
   "execution_count": 6,
   "metadata": {},
   "outputs": [
    {
     "data": {
      "text/plain": [
       "(26378069, 2)"
      ]
     },
     "execution_count": 6,
     "metadata": {},
     "output_type": "execute_result"
    }
   ],
   "source": [
    "authorship_df = pd.read_csv('dataset/authorship.csv', dtype=str)\n",
    "authorship_df.shape"
   ]
  },
  {
   "cell_type": "code",
   "execution_count": 9,
   "metadata": {},
   "outputs": [
    {
     "name": "stdout",
     "output_type": "stream",
     "text": [
      "16942415\n"
     ]
    },
    {
     "data": {
      "text/plain": [
       "(16942415, 2)"
      ]
     },
     "execution_count": 9,
     "metadata": {},
     "output_type": "execute_result"
    }
   ],
   "source": [
    "def get_paper_meta_df():\n",
    "    \"\"\"\"\"\"\n",
    "    mag_pubids = set(authorship_df.MAGPaperID)\n",
    "    print(len(mag_pubids))\n",
    "    result = {}\n",
    "    fin = gzip.open(join(MAG_DIR, '202009/mag/Papers.txt.gz'), 'rt')\n",
    "    for line in fin:\n",
    "        fields = line.rstrip('\\n').split('\\t')\n",
    "        pubid, doi = fields[0], fields[2].lower()\n",
    "        if pubid in mag_pubids:\n",
    "            result[pubid] = doi\n",
    "    fin.close()\n",
    "    return pd.DataFrame(list(result.items()), columns=['magpubid', 'doi'])\n",
    "\n",
    "mag_paper_meta_df = get_paper_meta_df()\n",
    "mag_paper_meta_df.shape"
   ]
  },
  {
   "cell_type": "code",
   "execution_count": 10,
   "metadata": {},
   "outputs": [
    {
     "data": {
      "text/plain": [
       "3328480"
      ]
     },
     "execution_count": 10,
     "metadata": {},
     "output_type": "execute_result"
    }
   ],
   "source": [
    "(mag_paper_meta_df.doi == '').sum()"
   ]
  },
  {
   "cell_type": "code",
   "execution_count": 13,
   "metadata": {},
   "outputs": [
    {
     "name": "stdout",
     "output_type": "stream",
     "text": [
      "13479211\n",
      "5148898\n"
     ]
    },
    {
     "data": {
      "text/plain": [
       "(16942415, 3)"
      ]
     },
     "execution_count": 13,
     "metadata": {},
     "output_type": "execute_result"
    }
   ],
   "source": [
    "def clean_doi(x):\n",
    "    \"\"\"\"\"\"\n",
    "    xs = html.unescape(x.strip().lower())\n",
    "    for s in ['https://doi.org/', 'http://doi.org/']:\n",
    "        if xs.startswith(s):\n",
    "            xs = xs[len(s):]\n",
    "            break\n",
    "    return xs.replace('//', '/')\n",
    "\n",
    "def add_pmid_from_doi():\n",
    "    \"\"\"Add PubMed ID based on DOI\"\"\"\n",
    "    dois = set(e for e in mag_paper_meta_df.doi if e != '')\n",
    "    print(len(dois))\n",
    "    result = {}\n",
    "    for line in open('pmid_doi.json'):\n",
    "        pmid, doi = json.loads(line)\n",
    "        doi = clean_doi(doi)\n",
    "        if doi != '' and doi in dois:\n",
    "            result[doi] = pmid\n",
    "    print(len(result))\n",
    "    mag_paper_meta_df['pmid'] = mag_paper_meta_df.doi.apply(lambda x: result.get(x, ''))\n",
    "\n",
    "add_pmid_from_doi()\n",
    "mag_paper_meta_df.shape"
   ]
  },
  {
   "cell_type": "code",
   "execution_count": 14,
   "metadata": {},
   "outputs": [],
   "source": [
    "mag_paper_meta_df.to_csv('dataset/paper.csv', header=['MAGPaperID', 'DOI', 'PMID'], index=False)"
   ]
  },
  {
   "cell_type": "code",
   "execution_count": null,
   "metadata": {},
   "outputs": [],
   "source": []
  }
 ],
 "metadata": {
  "kernelspec": {
   "display_name": "Python 3",
   "language": "python",
   "name": "python3"
  },
  "language_info": {
   "codemirror_mode": {
    "name": "ipython",
    "version": 3
   },
   "file_extension": ".py",
   "mimetype": "text/x-python",
   "name": "python",
   "nbconvert_exporter": "python",
   "pygments_lexer": "ipython3",
   "version": "3.6.9"
  },
  "toc": {
   "base_numbering": 1,
   "nav_menu": {},
   "number_sections": true,
   "sideBar": true,
   "skip_h1_title": false,
   "title_cell": "Table of Contents",
   "title_sidebar": "Contents",
   "toc_cell": false,
   "toc_position": {},
   "toc_section_display": true,
   "toc_window_display": false
  }
 },
 "nbformat": 4,
 "nbformat_minor": 4
}
