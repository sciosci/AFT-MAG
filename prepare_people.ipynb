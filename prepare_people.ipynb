{
 "cells": [
  {
   "cell_type": "code",
   "execution_count": 1,
   "metadata": {},
   "outputs": [],
   "source": [
    "import csv\n",
    "import pandas as pd\n",
    "\n",
    "from os.path import join\n",
    "\n",
    "DATA_DIR = '/home/qke100/su-data/academic-tree/'"
   ]
  },
  {
   "cell_type": "markdown",
   "metadata": {},
   "source": [
    "## People DF"
   ]
  },
  {
   "cell_type": "code",
   "execution_count": 4,
   "metadata": {},
   "outputs": [
    {
     "name": "stdout",
     "output_type": "stream",
     "text": [
      "\"pid\",\"firstname\",\"middlename\",\"lastname\",\"degrees\",\"location\",\"locid\",\"area\",\"majorarea\",\"award\",\"hindex\",\"orcid_id\",\"s2id\",\"homepage\",\"addedby\",\"dateadded\"\r\n",
      "\"1\",\"Stephen\",\"V.\",\"David\",\"Ph.D.\",\"Oregon Health and Science University\",\"226\",\"auditory system, attention\",\"neuro,csd,bme\",\"\",\"30\",\"0000-0003-4135-3104\",\"2321659\",\"http://hearingbrain.org/\",\"david\",\"2005-01-14 15:50:37\"\r\n",
      "\"3\",\"Jack\",\"L.\",\"Gallant\",\"\",\"University of California, Berkeley\",\"312\",\"Systems\",\"neuro,psych\",\"\",\"NULL\",\"NULL\",\"NULL\",\"http://gallantlab.org\",\"david\",\"2005-01-14 15:51:51\"\r\n",
      "\"667145\",\"Christian\",\"T.\",\"Totten\",\"Ph.D.\",\"University of Florida, Gainesville\",\"380\",\"Environmental Engineering\",\"etree,environment\",\"NULL\",\"NULL\",\"NULL\",\"NULL\",\"\",\"pq\",\"2016-07-23 11:14:13\"\r\n",
      "\"5\",\"Kendrick\",\"Norris\",\"Kay\",\"Ph.D.\",\"University of Minnesota, Twin Cities\",\"406\",\"visual system, fMRI, computational methods, neural network models\",\"neuro\",\"\",\"NULL\",\"\",\"NULL\",\"http://cvnlab.net\",\"david\",\"2005-01-15 18:20:41\"\r\n",
      "\"6\",\"Ryan\",\"\",\"Prenger\",\"\",\"Baidu\",\"33232\",\"visual system\",\"neuro\",\"\",\"NULL\",\"\",\"NULL\",\"\",\"david\",\"2005-01-15 18:23:32\"\r\n"
     ]
    }
   ],
   "source": [
    "! head -6 /home/qke100/su-data/academic-tree/people.csv"
   ]
  },
  {
   "cell_type": "code",
   "execution_count": 5,
   "metadata": {},
   "outputs": [
    {
     "data": {
      "text/plain": [
       "(760831, 7)"
      ]
     },
     "execution_count": 5,
     "metadata": {},
     "output_type": "execute_result"
    }
   ],
   "source": [
    "def load_author_df():\n",
    "    \"\"\"\"\"\"\n",
    "    result = []\n",
    "    with open(join(DATA_DIR, 'people.csv')) as fin:\n",
    "        reader = csv.reader(fin, delimiter=',')\n",
    "        next(reader, None)\n",
    "        for row in reader:\n",
    "            result.append(list(row[:5]) + [row[8]] + [row[11]])\n",
    "    col = ['pid', 'firstname', 'middlename', 'lastname', 'degrees', 'majorarea', 'orcid']\n",
    "    df = pd.DataFrame(sorted(result, key=lambda x: int(x[0])), columns=col)\n",
    "    for c in col[1:]:\n",
    "        df[c] = df[c].apply(lambda x: '' if x == 'NULL' else x)\n",
    "    return df\n",
    "\n",
    "people_df = load_author_df()\n",
    "people_df.shape"
   ]
  },
  {
   "cell_type": "code",
   "execution_count": 6,
   "metadata": {},
   "outputs": [
    {
     "data": {
      "text/html": [
       "<div>\n",
       "<style scoped>\n",
       "    .dataframe tbody tr th:only-of-type {\n",
       "        vertical-align: middle;\n",
       "    }\n",
       "\n",
       "    .dataframe tbody tr th {\n",
       "        vertical-align: top;\n",
       "    }\n",
       "\n",
       "    .dataframe thead th {\n",
       "        text-align: right;\n",
       "    }\n",
       "</style>\n",
       "<table border=\"1\" class=\"dataframe\">\n",
       "  <thead>\n",
       "    <tr style=\"text-align: right;\">\n",
       "      <th></th>\n",
       "      <th>pid</th>\n",
       "      <th>firstname</th>\n",
       "      <th>middlename</th>\n",
       "      <th>lastname</th>\n",
       "      <th>degrees</th>\n",
       "      <th>majorarea</th>\n",
       "      <th>orcid</th>\n",
       "    </tr>\n",
       "  </thead>\n",
       "  <tbody>\n",
       "    <tr>\n",
       "      <th>0</th>\n",
       "      <td>1</td>\n",
       "      <td>Stephen</td>\n",
       "      <td>V.</td>\n",
       "      <td>David</td>\n",
       "      <td>Ph.D.</td>\n",
       "      <td>neuro,csd,bme</td>\n",
       "      <td>0000-0003-4135-3104</td>\n",
       "    </tr>\n",
       "    <tr>\n",
       "      <th>1</th>\n",
       "      <td>2</td>\n",
       "      <td>Benjamin</td>\n",
       "      <td>Y.</td>\n",
       "      <td>Hayden</td>\n",
       "      <td></td>\n",
       "      <td>neuro</td>\n",
       "      <td>0000-0002-7678-4281</td>\n",
       "    </tr>\n",
       "    <tr>\n",
       "      <th>2</th>\n",
       "      <td>3</td>\n",
       "      <td>Jack</td>\n",
       "      <td>L.</td>\n",
       "      <td>Gallant</td>\n",
       "      <td></td>\n",
       "      <td>neuro,psych</td>\n",
       "      <td></td>\n",
       "    </tr>\n",
       "    <tr>\n",
       "      <th>3</th>\n",
       "      <td>4</td>\n",
       "      <td>Benjamin</td>\n",
       "      <td></td>\n",
       "      <td>Willmore</td>\n",
       "      <td>Ph.D.</td>\n",
       "      <td>neuro</td>\n",
       "      <td></td>\n",
       "    </tr>\n",
       "    <tr>\n",
       "      <th>4</th>\n",
       "      <td>5</td>\n",
       "      <td>Kendrick</td>\n",
       "      <td>Norris</td>\n",
       "      <td>Kay</td>\n",
       "      <td>Ph.D.</td>\n",
       "      <td>neuro</td>\n",
       "      <td></td>\n",
       "    </tr>\n",
       "  </tbody>\n",
       "</table>\n",
       "</div>"
      ],
      "text/plain": [
       "  pid firstname middlename  lastname degrees      majorarea  \\\n",
       "0   1   Stephen         V.     David   Ph.D.  neuro,csd,bme   \n",
       "1   2  Benjamin         Y.    Hayden                  neuro   \n",
       "2   3      Jack         L.   Gallant            neuro,psych   \n",
       "3   4  Benjamin             Willmore   Ph.D.          neuro   \n",
       "4   5  Kendrick     Norris       Kay   Ph.D.          neuro   \n",
       "\n",
       "                 orcid  \n",
       "0  0000-0003-4135-3104  \n",
       "1  0000-0002-7678-4281  \n",
       "2                       \n",
       "3                       \n",
       "4                       "
      ]
     },
     "execution_count": 6,
     "metadata": {},
     "output_type": "execute_result"
    }
   ],
   "source": [
    "people_df.head()"
   ]
  },
  {
   "cell_type": "code",
   "execution_count": 7,
   "metadata": {},
   "outputs": [
    {
     "data": {
      "text/plain": [
       "[('pid', 0),\n",
       " ('firstname', 478),\n",
       " ('middlename', 352574),\n",
       " ('lastname', 897),\n",
       " ('degrees', 303948),\n",
       " ('majorarea', 1),\n",
       " ('orcid', 759414)]"
      ]
     },
     "execution_count": 7,
     "metadata": {},
     "output_type": "execute_result"
    }
   ],
   "source": [
    "[(c, (people_df[c] == '').sum()) for c in people_df.columns]"
   ]
  },
  {
   "cell_type": "code",
   "execution_count": 8,
   "metadata": {},
   "outputs": [
    {
     "data": {
      "text/plain": [
       "[('pid', 0),\n",
       " ('firstname', 0),\n",
       " ('middlename', 0),\n",
       " ('lastname', 0),\n",
       " ('degrees', 0),\n",
       " ('majorarea', 0),\n",
       " ('orcid', 0)]"
      ]
     },
     "execution_count": 8,
     "metadata": {},
     "output_type": "execute_result"
    }
   ],
   "source": [
    "[(c, people_df[c].isna().sum()) for c in people_df.columns]"
   ]
  },
  {
   "cell_type": "code",
   "execution_count": 9,
   "metadata": {},
   "outputs": [
    {
     "data": {
      "text/plain": [
       "760829"
      ]
     },
     "execution_count": 9,
     "metadata": {},
     "output_type": "execute_result"
    }
   ],
   "source": [
    "people_df.pid.nunique()"
   ]
  },
  {
   "cell_type": "code",
   "execution_count": 10,
   "metadata": {},
   "outputs": [
    {
     "data": {
      "text/plain": [
       "829309    2\n",
       "825932    2\n",
       "337569    1\n",
       "733721    1\n",
       "478591    1\n",
       "         ..\n",
       "752780    1\n",
       "479576    1\n",
       "184344    1\n",
       "220516    1\n",
       "485288    1\n",
       "Name: pid, Length: 760829, dtype: int64"
      ]
     },
     "execution_count": 10,
     "metadata": {},
     "output_type": "execute_result"
    }
   ],
   "source": [
    "people_df.pid.value_counts()"
   ]
  },
  {
   "cell_type": "code",
   "execution_count": 11,
   "metadata": {},
   "outputs": [
    {
     "data": {
      "text/html": [
       "<div>\n",
       "<style scoped>\n",
       "    .dataframe tbody tr th:only-of-type {\n",
       "        vertical-align: middle;\n",
       "    }\n",
       "\n",
       "    .dataframe tbody tr th {\n",
       "        vertical-align: top;\n",
       "    }\n",
       "\n",
       "    .dataframe thead th {\n",
       "        text-align: right;\n",
       "    }\n",
       "</style>\n",
       "<table border=\"1\" class=\"dataframe\">\n",
       "  <thead>\n",
       "    <tr style=\"text-align: right;\">\n",
       "      <th></th>\n",
       "      <th>pid</th>\n",
       "      <th>firstname</th>\n",
       "      <th>middlename</th>\n",
       "      <th>lastname</th>\n",
       "      <th>degrees</th>\n",
       "      <th>majorarea</th>\n",
       "      <th>orcid</th>\n",
       "    </tr>\n",
       "  </thead>\n",
       "  <tbody>\n",
       "    <tr>\n",
       "      <th>760721</th>\n",
       "      <td>829309</td>\n",
       "      <td>Aart</td>\n",
       "      <td>Jan</td>\n",
       "      <td>Eeuwe</td>\n",
       "      <td></td>\n",
       "      <td>plantbio</td>\n",
       "      <td></td>\n",
       "    </tr>\n",
       "    <tr>\n",
       "      <th>760722</th>\n",
       "      <td>829309</td>\n",
       "      <td>Adam</td>\n",
       "      <td>H</td>\n",
       "      <td>Ridgewell</td>\n",
       "      <td></td>\n",
       "      <td>neuro</td>\n",
       "      <td></td>\n",
       "    </tr>\n",
       "  </tbody>\n",
       "</table>\n",
       "</div>"
      ],
      "text/plain": [
       "           pid firstname middlename   lastname degrees majorarea orcid\n",
       "760721  829309      Aart        Jan      Eeuwe          plantbio      \n",
       "760722  829309      Adam          H  Ridgewell             neuro      "
      ]
     },
     "execution_count": 11,
     "metadata": {},
     "output_type": "execute_result"
    }
   ],
   "source": [
    "people_df[people_df.pid == '829309']"
   ]
  },
  {
   "cell_type": "code",
   "execution_count": 12,
   "metadata": {},
   "outputs": [
    {
     "data": {
      "text/html": [
       "<div>\n",
       "<style scoped>\n",
       "    .dataframe tbody tr th:only-of-type {\n",
       "        vertical-align: middle;\n",
       "    }\n",
       "\n",
       "    .dataframe tbody tr th {\n",
       "        vertical-align: top;\n",
       "    }\n",
       "\n",
       "    .dataframe thead th {\n",
       "        text-align: right;\n",
       "    }\n",
       "</style>\n",
       "<table border=\"1\" class=\"dataframe\">\n",
       "  <thead>\n",
       "    <tr style=\"text-align: right;\">\n",
       "      <th></th>\n",
       "      <th>pid</th>\n",
       "      <th>firstname</th>\n",
       "      <th>middlename</th>\n",
       "      <th>lastname</th>\n",
       "      <th>degrees</th>\n",
       "      <th>majorarea</th>\n",
       "      <th>orcid</th>\n",
       "    </tr>\n",
       "  </thead>\n",
       "  <tbody>\n",
       "    <tr>\n",
       "      <th>760166</th>\n",
       "      <td>825932</td>\n",
       "      <td>Jeung-Yoon</td>\n",
       "      <td>(Elizabeth)</td>\n",
       "      <td>Choi</td>\n",
       "      <td></td>\n",
       "      <td>neuro</td>\n",
       "      <td></td>\n",
       "    </tr>\n",
       "    <tr>\n",
       "      <th>760167</th>\n",
       "      <td>825932</td>\n",
       "      <td>Jeung-Yoon</td>\n",
       "      <td>(Elizabeth)</td>\n",
       "      <td>Choi</td>\n",
       "      <td></td>\n",
       "      <td>etree</td>\n",
       "      <td></td>\n",
       "    </tr>\n",
       "  </tbody>\n",
       "</table>\n",
       "</div>"
      ],
      "text/plain": [
       "           pid   firstname   middlename lastname degrees majorarea orcid\n",
       "760166  825932  Jeung-Yoon  (Elizabeth)     Choi             neuro      \n",
       "760167  825932  Jeung-Yoon  (Elizabeth)     Choi             etree      "
      ]
     },
     "execution_count": 12,
     "metadata": {},
     "output_type": "execute_result"
    }
   ],
   "source": [
    "people_df[people_df.pid == '825932']"
   ]
  },
  {
   "cell_type": "code",
   "execution_count": 16,
   "metadata": {},
   "outputs": [
    {
     "data": {
      "text/plain": [
       "(759676, 7)"
      ]
     },
     "execution_count": 16,
     "metadata": {},
     "output_type": "execute_result"
    }
   ],
   "source": [
    "ds_people = people_df[\n",
    "    (people_df.firstname != '')\n",
    "    & (people_df.lastname != '')\n",
    "    & (people_df.pid != '829309')\n",
    "].drop_duplicates(subset=['pid', 'firstname', 'middlename', 'lastname']).copy().reset_index(drop=True)\n",
    "ds_people.shape"
   ]
  },
  {
   "cell_type": "code",
   "execution_count": 17,
   "metadata": {},
   "outputs": [
    {
     "data": {
      "text/html": [
       "<div>\n",
       "<style scoped>\n",
       "    .dataframe tbody tr th:only-of-type {\n",
       "        vertical-align: middle;\n",
       "    }\n",
       "\n",
       "    .dataframe tbody tr th {\n",
       "        vertical-align: top;\n",
       "    }\n",
       "\n",
       "    .dataframe thead th {\n",
       "        text-align: right;\n",
       "    }\n",
       "</style>\n",
       "<table border=\"1\" class=\"dataframe\">\n",
       "  <thead>\n",
       "    <tr style=\"text-align: right;\">\n",
       "      <th></th>\n",
       "      <th>pid</th>\n",
       "      <th>firstname</th>\n",
       "      <th>middlename</th>\n",
       "      <th>lastname</th>\n",
       "      <th>degrees</th>\n",
       "      <th>majorarea</th>\n",
       "      <th>orcid</th>\n",
       "    </tr>\n",
       "  </thead>\n",
       "  <tbody>\n",
       "    <tr>\n",
       "      <th>759025</th>\n",
       "      <td>825932</td>\n",
       "      <td>Jeung-Yoon</td>\n",
       "      <td>(Elizabeth)</td>\n",
       "      <td>Choi</td>\n",
       "      <td></td>\n",
       "      <td>neuro</td>\n",
       "      <td></td>\n",
       "    </tr>\n",
       "  </tbody>\n",
       "</table>\n",
       "</div>"
      ],
      "text/plain": [
       "           pid   firstname   middlename lastname degrees majorarea orcid\n",
       "759025  825932  Jeung-Yoon  (Elizabeth)     Choi             neuro      "
      ]
     },
     "execution_count": 17,
     "metadata": {},
     "output_type": "execute_result"
    }
   ],
   "source": [
    "ds_people[ds_people.pid == '825932']"
   ]
  },
  {
   "cell_type": "code",
   "execution_count": 18,
   "metadata": {},
   "outputs": [],
   "source": [
    "ds_people.at[759025, 'majorarea'] = 'neuro,etree' # combine the two major areas for 825932"
   ]
  },
  {
   "cell_type": "code",
   "execution_count": 19,
   "metadata": {},
   "outputs": [
    {
     "data": {
      "text/html": [
       "<div>\n",
       "<style scoped>\n",
       "    .dataframe tbody tr th:only-of-type {\n",
       "        vertical-align: middle;\n",
       "    }\n",
       "\n",
       "    .dataframe tbody tr th {\n",
       "        vertical-align: top;\n",
       "    }\n",
       "\n",
       "    .dataframe thead th {\n",
       "        text-align: right;\n",
       "    }\n",
       "</style>\n",
       "<table border=\"1\" class=\"dataframe\">\n",
       "  <thead>\n",
       "    <tr style=\"text-align: right;\">\n",
       "      <th></th>\n",
       "      <th>pid</th>\n",
       "      <th>firstname</th>\n",
       "      <th>middlename</th>\n",
       "      <th>lastname</th>\n",
       "      <th>degrees</th>\n",
       "      <th>majorarea</th>\n",
       "      <th>orcid</th>\n",
       "    </tr>\n",
       "  </thead>\n",
       "  <tbody>\n",
       "    <tr>\n",
       "      <th>759025</th>\n",
       "      <td>825932</td>\n",
       "      <td>Jeung-Yoon</td>\n",
       "      <td>(Elizabeth)</td>\n",
       "      <td>Choi</td>\n",
       "      <td></td>\n",
       "      <td>neuro,etree</td>\n",
       "      <td></td>\n",
       "    </tr>\n",
       "  </tbody>\n",
       "</table>\n",
       "</div>"
      ],
      "text/plain": [
       "           pid   firstname   middlename lastname degrees    majorarea orcid\n",
       "759025  825932  Jeung-Yoon  (Elizabeth)     Choi          neuro,etree      "
      ]
     },
     "execution_count": 19,
     "metadata": {},
     "output_type": "execute_result"
    }
   ],
   "source": [
    "ds_people[ds_people.pid == '825932']"
   ]
  },
  {
   "cell_type": "code",
   "execution_count": 20,
   "metadata": {},
   "outputs": [
    {
     "data": {
      "text/plain": [
       "759676"
      ]
     },
     "execution_count": 20,
     "metadata": {},
     "output_type": "execute_result"
    }
   ],
   "source": [
    "ds_people.pid.nunique()"
   ]
  },
  {
   "cell_type": "code",
   "execution_count": 21,
   "metadata": {},
   "outputs": [
    {
     "data": {
      "text/plain": [
       "651454    1\n",
       "765952    1\n",
       "733721    1\n",
       "478591    1\n",
       "602727    1\n",
       "         ..\n",
       "672750    1\n",
       "319178    1\n",
       "526908    1\n",
       "213794    1\n",
       "485288    1\n",
       "Name: pid, Length: 759676, dtype: int64"
      ]
     },
     "execution_count": 21,
     "metadata": {},
     "output_type": "execute_result"
    }
   ],
   "source": [
    "ds_people.pid.value_counts()"
   ]
  },
  {
   "cell_type": "markdown",
   "metadata": {},
   "source": [
    "### ORCID"
   ]
  },
  {
   "cell_type": "code",
   "execution_count": 43,
   "metadata": {},
   "outputs": [
    {
     "name": "stdout",
     "output_type": "stream",
     "text": [
      "===== AGVG75 =====\n",
      "===== A-8474-2013 =====\n",
      "===== J-5755-2014 =====\n",
      "===== https://www.ncbi.nlm.nih.gov/sites/myncbi/fletcher.white.1/bibliography/40234758/public/?sort=date&direction=descending =====\n",
      "===== Katherine M. Mathis =====\n",
      "===== <div itemscope itemtype=\"https://schema.org/Person\"><a itemprop=\"sameAs\" content=\"https://orcid.org/0000-0002-9254-5360\" href=\"https://orcid.org/0000-0002-9254-5360\" target=\"orcid.widget\" rel=\"noopener noreferrer\" style=\"vertical-align:top;\"><img src=\"htt =====\n",
      "===== SANTIAGOID =====\n",
      "===== 0002-4068-1168 =====\n",
      "===== B-5365-2009 =====\n",
      "===== 0000-0001-8507-256 =====\n",
      "===== C-4348-2013 =====\n",
      "===== my-orcid =====\n",
      "===== 0000-0001-6779-247 =====\n"
     ]
    }
   ],
   "source": [
    "orcid_dict = {\n",
    "    '000-0003-2721-3770': '0000-0003-2721-3770',\n",
    "    '0000000246091337': '0000-0002-4609-1337',\n",
    "    '0000-00019801-2963': '0000-0001-9801-2963',\n",
    "    '00000003-2983-6330': '0000-0003-2983-6330',\n",
    "    '0000000348394400': '0000-0003-4839-4400',\n",
    "    '0000–0002–8587–4115': '0000-0002-8587-4115',\n",
    "}\n",
    "\n",
    "def clean_orcid(x):\n",
    "    \"\"\"\"\"\"\n",
    "    if x == '':\n",
    "        return x\n",
    "    xs = x.replace('\\u200b', '').strip(' \",')\n",
    "    for s in ['https://orcid.org/', 'http://orcid.org/', 'orcid.org/']:\n",
    "        if xs.startswith(s):\n",
    "            xs = xs[len(s):].strip()\n",
    "            break\n",
    "    parts = xs.split('-')\n",
    "    if len(xs) == 19 and len(parts) == 4 and all(len(e) == 4 for e in parts):\n",
    "        return xs\n",
    "    if xs in orcid_dict:\n",
    "        return orcid_dict[xs]\n",
    "    print('=====', xs, '=====')\n",
    "    return ''\n",
    "\n",
    "ds_people['orcid_norm'] = ds_people.orcid.apply(clean_orcid)"
   ]
  },
  {
   "cell_type": "code",
   "execution_count": 45,
   "metadata": {},
   "outputs": [
    {
     "data": {
      "text/plain": [
       "(1416, 1403)"
      ]
     },
     "execution_count": 45,
     "metadata": {},
     "output_type": "execute_result"
    }
   ],
   "source": [
    "(ds_people.orcid != '').sum(), (ds_people.orcid_norm != '').sum()"
   ]
  },
  {
   "cell_type": "markdown",
   "metadata": {},
   "source": [
    "### Gender"
   ]
  },
  {
   "cell_type": "code",
   "execution_count": 53,
   "metadata": {},
   "outputs": [],
   "source": [
    "def norm_firstname(x):\n",
    "    \"\"\"\"\"\"\n",
    "    xs = x.strip()\n",
    "    parts = xs.split()\n",
    "    if len(parts) == 1:\n",
    "        return xs\n",
    "    if parts[0] in {'Sir', 'Dr', 'Dr.'}:\n",
    "        return ' '.join(parts[1:])\n",
    "    return xs\n",
    "\n",
    "ds_people['firstname_norm'] = ds_people.firstname.apply(norm_firstname)"
   ]
  },
  {
   "cell_type": "code",
   "execution_count": 54,
   "metadata": {},
   "outputs": [],
   "source": [
    "pd.Series(ds_people['firstname_norm'].unique()).to_csv(\n",
    "    'ORCID_career_flows/data_processing/BayesCCM/inference/at_first.csv', index=False, header=['First'])"
   ]
  },
  {
   "cell_type": "code",
   "execution_count": null,
   "metadata": {},
   "outputs": [],
   "source": [
    "# run in the terminal\n",
    "# cd ORCID_career_flows/data_processing/BayesCCM/inference/api\n",
    "# python3\n",
    "import cct\n",
    "\n",
    "PATH_TO_CSV = '../at_first.csv'\n",
    "PATH_TO_SAVE = PATH_TO_CSV.split('.csv')[0]+'_CC.csv'\n",
    "data_with_cct = cct.evaluate_cct(PATH_TO_CSV, PATH_TO_SAVE)\n",
    "data_with_cct.head(20)"
   ]
  },
  {
   "cell_type": "code",
   "execution_count": 55,
   "metadata": {},
   "outputs": [
    {
     "data": {
      "text/plain": [
       "(93433, 2)"
      ]
     },
     "execution_count": 55,
     "metadata": {},
     "output_type": "execute_result"
    }
   ],
   "source": [
    "first_cc = pd.read_csv('ORCID_career_flows/data_processing/BayesCCM/inference/at_first_CC.csv')\n",
    "first_cc.shape"
   ]
  },
  {
   "cell_type": "code",
   "execution_count": 56,
   "metadata": {},
   "outputs": [
    {
     "data": {
      "text/html": [
       "<div>\n",
       "<style scoped>\n",
       "    .dataframe tbody tr th:only-of-type {\n",
       "        vertical-align: middle;\n",
       "    }\n",
       "\n",
       "    .dataframe tbody tr th {\n",
       "        vertical-align: top;\n",
       "    }\n",
       "\n",
       "    .dataframe thead th {\n",
       "        text-align: right;\n",
       "    }\n",
       "</style>\n",
       "<table border=\"1\" class=\"dataframe\">\n",
       "  <thead>\n",
       "    <tr style=\"text-align: right;\">\n",
       "      <th></th>\n",
       "      <th>First</th>\n",
       "      <th>CulturalConsensus</th>\n",
       "    </tr>\n",
       "  </thead>\n",
       "  <tbody>\n",
       "    <tr>\n",
       "      <th>22571</th>\n",
       "      <td>yichin</td>\n",
       "      <td>NaN</td>\n",
       "    </tr>\n",
       "    <tr>\n",
       "      <th>13918</th>\n",
       "      <td>gu</td>\n",
       "      <td>2.331997e-05</td>\n",
       "    </tr>\n",
       "    <tr>\n",
       "      <th>42422</th>\n",
       "      <td>soo-jung</td>\n",
       "      <td>NaN</td>\n",
       "    </tr>\n",
       "    <tr>\n",
       "      <th>83493</th>\n",
       "      <td>maria-ana</td>\n",
       "      <td>NaN</td>\n",
       "    </tr>\n",
       "    <tr>\n",
       "      <th>81521</th>\n",
       "      <td>enge</td>\n",
       "      <td>NaN</td>\n",
       "    </tr>\n",
       "    <tr>\n",
       "      <th>15579</th>\n",
       "      <td>vladímir</td>\n",
       "      <td>NaN</td>\n",
       "    </tr>\n",
       "    <tr>\n",
       "      <th>43672</th>\n",
       "      <td>hsueh-yun</td>\n",
       "      <td>NaN</td>\n",
       "    </tr>\n",
       "    <tr>\n",
       "      <th>66184</th>\n",
       "      <td>ezemenari</td>\n",
       "      <td>NaN</td>\n",
       "    </tr>\n",
       "    <tr>\n",
       "      <th>92312</th>\n",
       "      <td>obdulio</td>\n",
       "      <td>1.000000e-10</td>\n",
       "    </tr>\n",
       "    <tr>\n",
       "      <th>48621</th>\n",
       "      <td>zhongmou</td>\n",
       "      <td>NaN</td>\n",
       "    </tr>\n",
       "  </tbody>\n",
       "</table>\n",
       "</div>"
      ],
      "text/plain": [
       "           First  CulturalConsensus\n",
       "22571     yichin                NaN\n",
       "13918         gu       2.331997e-05\n",
       "42422   soo-jung                NaN\n",
       "83493  maria-ana                NaN\n",
       "81521       enge                NaN\n",
       "15579   vladímir                NaN\n",
       "43672  hsueh-yun                NaN\n",
       "66184  ezemenari                NaN\n",
       "92312    obdulio       1.000000e-10\n",
       "48621   zhongmou                NaN"
      ]
     },
     "execution_count": 56,
     "metadata": {},
     "output_type": "execute_result"
    }
   ],
   "source": [
    "first_cc.sample(10)"
   ]
  },
  {
   "cell_type": "code",
   "execution_count": 60,
   "metadata": {},
   "outputs": [
    {
     "data": {
      "text/plain": [
       "<AxesSubplot:>"
      ]
     },
     "execution_count": 60,
     "metadata": {},
     "output_type": "execute_result"
    },
    {
     "data": {
      "image/png": "[encoded data removed]",
      "text/plain": [
       "<Figure size 432x288 with 1 Axes>"
      ]
     },
     "metadata": {
      "needs_background": "light"
     },
     "output_type": "display_data"
    }
   ],
   "source": [
    "first_cc.CulturalConsensus.hist()"
   ]
  },
  {
   "cell_type": "code",
   "execution_count": 61,
   "metadata": {},
   "outputs": [
    {
     "data": {
      "text/plain": [
       "33370"
      ]
     },
     "execution_count": 61,
     "metadata": {},
     "output_type": "execute_result"
    }
   ],
   "source": [
    "first_gender = {\n",
    "    a: 'M' if b < .1 else 'F' for a, b in zip(first_cc.First, first_cc.CulturalConsensus)\n",
    "    if pd.notna(b) and (b < .1 or b > .9)}\n",
    "len(first_gender)"
   ]
  },
  {
   "cell_type": "code",
   "execution_count": 62,
   "metadata": {},
   "outputs": [],
   "source": [
    "ds_people['gender'] = ds_people.firstname_norm.apply(lambda x: first_gender.get(x.lower(), None))"
   ]
  },
  {
   "cell_type": "code",
   "execution_count": 65,
   "metadata": {},
   "outputs": [
    {
     "data": {
      "text/plain": [
       "0.889514740494632"
      ]
     },
     "execution_count": 65,
     "metadata": {},
     "output_type": "execute_result"
    }
   ],
   "source": [
    "ds_people.gender.notna().sum() / ds_people.shape[0]"
   ]
  },
  {
   "cell_type": "code",
   "execution_count": 66,
   "metadata": {},
   "outputs": [
    {
     "name": "stderr",
     "output_type": "stream",
     "text": [
      "/home/qke100/.local/lib/python3.6/site-packages/pandas/core/generic.py:2449: PerformanceWarning: \n",
      "your performance may suffer as PyTables will pickle object types that it cannot\n",
      "map directly to c-types [inferred_type->mixed,key->block0_values] [items->Index(['pid', 'firstname', 'middlename', 'lastname', 'degrees', 'majorarea',\n",
      "       'orcid', 'orcid_norm', 'firstname_norm', 'gender'],\n",
      "      dtype='object')]\n",
      "\n",
      "  encoding=encoding,\n"
     ]
    }
   ],
   "source": [
    "ds_people.to_hdf('dataset/people_df.h5', key='df', mode='w')"
   ]
  },
  {
   "cell_type": "code",
   "execution_count": 67,
   "metadata": {},
   "outputs": [
    {
     "data": {
      "text/html": [
       "<div>\n",
       "<style scoped>\n",
       "    .dataframe tbody tr th:only-of-type {\n",
       "        vertical-align: middle;\n",
       "    }\n",
       "\n",
       "    .dataframe tbody tr th {\n",
       "        vertical-align: top;\n",
       "    }\n",
       "\n",
       "    .dataframe thead th {\n",
       "        text-align: right;\n",
       "    }\n",
       "</style>\n",
       "<table border=\"1\" class=\"dataframe\">\n",
       "  <thead>\n",
       "    <tr style=\"text-align: right;\">\n",
       "      <th></th>\n",
       "      <th>pid</th>\n",
       "      <th>firstname</th>\n",
       "      <th>middlename</th>\n",
       "      <th>lastname</th>\n",
       "      <th>degrees</th>\n",
       "      <th>majorarea</th>\n",
       "      <th>orcid</th>\n",
       "      <th>orcid_norm</th>\n",
       "      <th>firstname_norm</th>\n",
       "      <th>gender</th>\n",
       "    </tr>\n",
       "  </thead>\n",
       "  <tbody>\n",
       "    <tr>\n",
       "      <th>0</th>\n",
       "      <td>1</td>\n",
       "      <td>Stephen</td>\n",
       "      <td>V.</td>\n",
       "      <td>David</td>\n",
       "      <td>Ph.D.</td>\n",
       "      <td>neuro,csd,bme</td>\n",
       "      <td>0000-0003-4135-3104</td>\n",
       "      <td>0000-0003-4135-3104</td>\n",
       "      <td>Stephen</td>\n",
       "      <td>M</td>\n",
       "    </tr>\n",
       "    <tr>\n",
       "      <th>1</th>\n",
       "      <td>2</td>\n",
       "      <td>Benjamin</td>\n",
       "      <td>Y.</td>\n",
       "      <td>Hayden</td>\n",
       "      <td></td>\n",
       "      <td>neuro</td>\n",
       "      <td>0000-0002-7678-4281</td>\n",
       "      <td>0000-0002-7678-4281</td>\n",
       "      <td>Benjamin</td>\n",
       "      <td>M</td>\n",
       "    </tr>\n",
       "    <tr>\n",
       "      <th>2</th>\n",
       "      <td>3</td>\n",
       "      <td>Jack</td>\n",
       "      <td>L.</td>\n",
       "      <td>Gallant</td>\n",
       "      <td></td>\n",
       "      <td>neuro,psych</td>\n",
       "      <td></td>\n",
       "      <td></td>\n",
       "      <td>Jack</td>\n",
       "      <td>M</td>\n",
       "    </tr>\n",
       "    <tr>\n",
       "      <th>3</th>\n",
       "      <td>4</td>\n",
       "      <td>Benjamin</td>\n",
       "      <td></td>\n",
       "      <td>Willmore</td>\n",
       "      <td>Ph.D.</td>\n",
       "      <td>neuro</td>\n",
       "      <td></td>\n",
       "      <td></td>\n",
       "      <td>Benjamin</td>\n",
       "      <td>M</td>\n",
       "    </tr>\n",
       "    <tr>\n",
       "      <th>4</th>\n",
       "      <td>5</td>\n",
       "      <td>Kendrick</td>\n",
       "      <td>Norris</td>\n",
       "      <td>Kay</td>\n",
       "      <td>Ph.D.</td>\n",
       "      <td>neuro</td>\n",
       "      <td></td>\n",
       "      <td></td>\n",
       "      <td>Kendrick</td>\n",
       "      <td>M</td>\n",
       "    </tr>\n",
       "  </tbody>\n",
       "</table>\n",
       "</div>"
      ],
      "text/plain": [
       "  pid firstname middlename  lastname degrees      majorarea  \\\n",
       "0   1   Stephen         V.     David   Ph.D.  neuro,csd,bme   \n",
       "1   2  Benjamin         Y.    Hayden                  neuro   \n",
       "2   3      Jack         L.   Gallant            neuro,psych   \n",
       "3   4  Benjamin             Willmore   Ph.D.          neuro   \n",
       "4   5  Kendrick     Norris       Kay   Ph.D.          neuro   \n",
       "\n",
       "                 orcid           orcid_norm firstname_norm gender  \n",
       "0  0000-0003-4135-3104  0000-0003-4135-3104        Stephen      M  \n",
       "1  0000-0002-7678-4281  0000-0002-7678-4281       Benjamin      M  \n",
       "2                                                     Jack      M  \n",
       "3                                                 Benjamin      M  \n",
       "4                                                 Kendrick      M  "
      ]
     },
     "execution_count": 67,
     "metadata": {},
     "output_type": "execute_result"
    }
   ],
   "source": [
    "ds_people.head()"
   ]
  }
 ],
 "metadata": {
  "kernelspec": {
   "display_name": "Python 3",
   "language": "python",
   "name": "python3"
  },
  "language_info": {
   "codemirror_mode": {
    "name": "ipython",
    "version": 3
   },
   "file_extension": ".py",
   "mimetype": "text/x-python",
   "name": "python",
   "nbconvert_exporter": "python",
   "pygments_lexer": "ipython3",
   "version": "3.6.9"
  },
  "toc": {
   "base_numbering": 1,
   "nav_menu": {},
   "number_sections": true,
   "sideBar": true,
   "skip_h1_title": false,
   "title_cell": "Table of Contents",
   "title_sidebar": "Contents",
   "toc_cell": false,
   "toc_position": {},
   "toc_section_display": true,
   "toc_window_display": false
  }
 },
 "nbformat": 4,
 "nbformat_minor": 4
}
