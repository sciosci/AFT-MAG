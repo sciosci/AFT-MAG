{
 "cells": [
  {
   "cell_type": "code",
   "execution_count": 34,
   "metadata": {},
   "outputs": [],
   "source": [
    "%matplotlib inline\n",
    "\n",
    "import pandas as pd\n",
    "import pickle\n",
    "import random\n",
    "import simplejson as json\n",
    "import unidecode\n",
    "import matplotlib as mpl\n",
    "import matplotlib.pyplot as plt\n",
    "import seaborn as sns; sns.set_style('ticks')\n",
    "\n",
    "from collections import Counter, defaultdict\n",
    "from itertools import chain, combinations, product\n",
    "from os.path import join\n",
    "\n",
    "MAG_DIR = '/home/qke100/ke-data/dataset-MAG/'"
   ]
  },
  {
   "cell_type": "code",
   "execution_count": 2,
   "metadata": {},
   "outputs": [],
   "source": [
    "def get_at_name_var(first, middle, last):\n",
    "    \"\"\"Return name variation\"\"\"\n",
    "    result = {'full': (first, middle, last)}\n",
    "    if len(first) > 1:\n",
    "        if len(middle) > 1:\n",
    "            result['mid_init'] = (first, middle[:1], last)\n",
    "        if len(middle) > 0:\n",
    "            result['no_mid'] = (first, '', last)\n",
    "    return result"
   ]
  },
  {
   "cell_type": "code",
   "execution_count": 3,
   "metadata": {},
   "outputs": [],
   "source": [
    "def get_mag_name_var(first, middle, last):\n",
    "    \"\"\"Return name variation\"\"\"\n",
    "    first = ' '.join(first.replace('.', ' ').split())\n",
    "    middle = ' '.join(middle.replace('.', ' ').split())\n",
    "    fu = unidecode.unidecode(first)\n",
    "    mu = unidecode.unidecode(middle)\n",
    "    lu = unidecode.unidecode(last)\n",
    "    result = {'full': (first, middle, last)}    \n",
    "    if len(first) > 1:\n",
    "        if len(middle) > 1:\n",
    "            result['mid_init'] = (first, middle[:1], last)\n",
    "        if len(middle) > 0:\n",
    "            result['no_mid'] = (first, '', last)\n",
    "    return result"
   ]
  },
  {
   "cell_type": "code",
   "execution_count": 4,
   "metadata": {},
   "outputs": [
    {
     "data": {
      "text/plain": [
       "{'full': ('ALAN', 'S I', 'ZINOBER'),\n",
       " 'mid_init': ('ALAN', 'S', 'ZINOBER'),\n",
       " 'no_mid': ('ALAN', '', 'ZINOBER')}"
      ]
     },
     "execution_count": 4,
     "metadata": {},
     "output_type": "execute_result"
    }
   ],
   "source": [
    "get_mag_name_var(\"ALAN\", \"S. I.\", \"ZINOBER\")"
   ]
  },
  {
   "cell_type": "code",
   "execution_count": 5,
   "metadata": {},
   "outputs": [
    {
     "data": {
      "text/plain": [
       "(774733, 15)"
      ]
     },
     "execution_count": 5,
     "metadata": {},
     "output_type": "execute_result"
    }
   ],
   "source": [
    "people_df = pd.read_hdf('results/people_df.h5')\n",
    "people_df.shape"
   ]
  },
  {
   "cell_type": "code",
   "execution_count": 6,
   "metadata": {},
   "outputs": [
    {
     "data": {
      "text/html": [
       "<div>\n",
       "<style scoped>\n",
       "    .dataframe tbody tr th:only-of-type {\n",
       "        vertical-align: middle;\n",
       "    }\n",
       "\n",
       "    .dataframe tbody tr th {\n",
       "        vertical-align: top;\n",
       "    }\n",
       "\n",
       "    .dataframe thead th {\n",
       "        text-align: right;\n",
       "    }\n",
       "</style>\n",
       "<table border=\"1\" class=\"dataframe\">\n",
       "  <thead>\n",
       "    <tr style=\"text-align: right;\">\n",
       "      <th></th>\n",
       "      <th>pid</th>\n",
       "      <th>firstname</th>\n",
       "      <th>middlename</th>\n",
       "      <th>lastname</th>\n",
       "      <th>degrees</th>\n",
       "      <th>location</th>\n",
       "      <th>locid</th>\n",
       "      <th>majorarea</th>\n",
       "      <th>orcid</th>\n",
       "      <th>firstname_norm</th>\n",
       "      <th>middlename_norm</th>\n",
       "      <th>lastname_norm</th>\n",
       "      <th>orcid_norm</th>\n",
       "      <th>MAGInstitution</th>\n",
       "      <th>MAGInstitutionID</th>\n",
       "    </tr>\n",
       "  </thead>\n",
       "  <tbody>\n",
       "    <tr>\n",
       "      <th>311353</th>\n",
       "      <td>342366</td>\n",
       "      <td>Marlene</td>\n",
       "      <td></td>\n",
       "      <td>Spencer</td>\n",
       "      <td>Ph.D.</td>\n",
       "      <td>University of Alberta</td>\n",
       "      <td>353</td>\n",
       "      <td>educ</td>\n",
       "      <td></td>\n",
       "      <td>MARLENE</td>\n",
       "      <td></td>\n",
       "      <td>SPENCER</td>\n",
       "      <td></td>\n",
       "      <td>UNIVERSITY OF ALBERTA</td>\n",
       "      <td>154425047</td>\n",
       "    </tr>\n",
       "  </tbody>\n",
       "</table>\n",
       "</div>"
      ],
      "text/plain": [
       "           pid firstname middlename lastname degrees               location  \\\n",
       "311353  342366   Marlene             Spencer   Ph.D.  University of Alberta   \n",
       "\n",
       "       locid majorarea orcid firstname_norm middlename_norm lastname_norm  \\\n",
       "311353   353      educ              MARLENE                       SPENCER   \n",
       "\n",
       "       orcid_norm         MAGInstitution MAGInstitutionID  \n",
       "311353             UNIVERSITY OF ALBERTA        154425047  "
      ]
     },
     "execution_count": 6,
     "metadata": {},
     "output_type": "execute_result"
    }
   ],
   "source": [
    "people_df.sample(1)"
   ]
  },
  {
   "cell_type": "code",
   "execution_count": 7,
   "metadata": {},
   "outputs": [
    {
     "data": {
      "text/plain": [
       "774733"
      ]
     },
     "execution_count": 7,
     "metadata": {},
     "output_type": "execute_result"
    }
   ],
   "source": [
    "pid_to_name_var = {\n",
    "    pid: get_at_name_var(x, y, z)\n",
    "    for x, y, z, pid in zip(*[people_df[c] for c in ['firstname_norm','middlename_norm','lastname_norm','pid']])}\n",
    "len(pid_to_name_var)"
   ]
  },
  {
   "cell_type": "code",
   "execution_count": 8,
   "metadata": {},
   "outputs": [
    {
     "data": {
      "text/plain": [
       "{'full': ('STEPHEN', 'V', 'DAVID'), 'no_mid': ('STEPHEN', '', 'DAVID')}"
      ]
     },
     "execution_count": 8,
     "metadata": {},
     "output_type": "execute_result"
    }
   ],
   "source": [
    "pid_to_name_var['1']"
   ]
  },
  {
   "cell_type": "markdown",
   "metadata": {},
   "source": [
    "## Combinations of name pair"
   ]
  },
  {
   "cell_type": "code",
   "execution_count": 9,
   "metadata": {},
   "outputs": [
    {
     "data": {
      "text/plain": [
       "(743176, 12)"
      ]
     },
     "execution_count": 9,
     "metadata": {},
     "output_type": "execute_result"
    }
   ],
   "source": [
    "conn_df = pd.read_hdf('results/connect_df.h5')\n",
    "conn_df.shape"
   ]
  },
  {
   "cell_type": "code",
   "execution_count": 10,
   "metadata": {},
   "outputs": [
    {
     "data": {
      "text/html": [
       "<div>\n",
       "<style scoped>\n",
       "    .dataframe tbody tr th:only-of-type {\n",
       "        vertical-align: middle;\n",
       "    }\n",
       "\n",
       "    .dataframe tbody tr th {\n",
       "        vertical-align: top;\n",
       "    }\n",
       "\n",
       "    .dataframe thead th {\n",
       "        text-align: right;\n",
       "    }\n",
       "</style>\n",
       "<table border=\"1\" class=\"dataframe\">\n",
       "  <thead>\n",
       "    <tr style=\"text-align: right;\">\n",
       "      <th></th>\n",
       "      <th>cid</th>\n",
       "      <th>pid1</th>\n",
       "      <th>pid2</th>\n",
       "      <th>relation</th>\n",
       "      <th>location</th>\n",
       "      <th>locid</th>\n",
       "      <th>startdate</th>\n",
       "      <th>stopdate</th>\n",
       "      <th>startyear</th>\n",
       "      <th>stopyear</th>\n",
       "      <th>MAGInstitution</th>\n",
       "      <th>MAGInstitutionID</th>\n",
       "    </tr>\n",
       "  </thead>\n",
       "  <tbody>\n",
       "    <tr>\n",
       "      <th>384146</th>\n",
       "      <td>867235</td>\n",
       "      <td>440590</td>\n",
       "      <td>438252</td>\n",
       "      <td>1</td>\n",
       "      <td>Capella University</td>\n",
       "      <td>1938</td>\n",
       "      <td>0000-00-00</td>\n",
       "      <td>2013-00-00</td>\n",
       "      <td>-1</td>\n",
       "      <td>2013</td>\n",
       "      <td>CAPELLA UNIVERSITY</td>\n",
       "      <td>193424650</td>\n",
       "    </tr>\n",
       "  </tbody>\n",
       "</table>\n",
       "</div>"
      ],
      "text/plain": [
       "           cid    pid1    pid2 relation            location locid   startdate  \\\n",
       "384146  867235  440590  438252        1  Capella University  1938  0000-00-00   \n",
       "\n",
       "          stopdate  startyear  stopyear      MAGInstitution MAGInstitutionID  \n",
       "384146  2013-00-00         -1      2013  CAPELLA UNIVERSITY        193424650  "
      ]
     },
     "execution_count": 10,
     "metadata": {},
     "output_type": "execute_result"
    }
   ],
   "source": [
    "conn_df.sample(1)"
   ]
  },
  {
   "cell_type": "code",
   "execution_count": 11,
   "metadata": {},
   "outputs": [
    {
     "data": {
      "text/plain": [
       "(1909647, 8)"
      ]
     },
     "execution_count": 11,
     "metadata": {},
     "output_type": "execute_result"
    }
   ],
   "source": [
    "def get_name_pairs():\n",
    "    \"\"\"\"\"\"\n",
    "    result = []\n",
    "    for cid, pid1, pid2 in zip(conn_df.cid, conn_df.pid1, conn_df.pid2):\n",
    "        names_1 = pid_to_name_var[pid1]\n",
    "        names_2 = pid_to_name_var[pid2]\n",
    "        for sub_id, (k1, k2) in enumerate(product(names_1.keys(), names_2.keys()), 1):\n",
    "            row = [cid, pid1, pid2, '%s_%d' % (cid, sub_id), names_1[k1], names_2[k2], k1, k2]\n",
    "            result.append(row)\n",
    "    col = ['cid', 'pid1', 'pid2', 'vid', 'name1', 'name2', 'name1VarCode', 'name2VarCode']\n",
    "    return pd.DataFrame(result, columns=col)\n",
    "\n",
    "conn_name_df = get_name_pairs()\n",
    "conn_name_df.shape"
   ]
  },
  {
   "cell_type": "code",
   "execution_count": 12,
   "metadata": {},
   "outputs": [
    {
     "data": {
      "text/html": [
       "<div>\n",
       "<style scoped>\n",
       "    .dataframe tbody tr th:only-of-type {\n",
       "        vertical-align: middle;\n",
       "    }\n",
       "\n",
       "    .dataframe tbody tr th {\n",
       "        vertical-align: top;\n",
       "    }\n",
       "\n",
       "    .dataframe thead th {\n",
       "        text-align: right;\n",
       "    }\n",
       "</style>\n",
       "<table border=\"1\" class=\"dataframe\">\n",
       "  <thead>\n",
       "    <tr style=\"text-align: right;\">\n",
       "      <th></th>\n",
       "      <th>cid</th>\n",
       "      <th>pid1</th>\n",
       "      <th>pid2</th>\n",
       "      <th>vid</th>\n",
       "      <th>name1</th>\n",
       "      <th>name2</th>\n",
       "      <th>name1VarCode</th>\n",
       "      <th>name2VarCode</th>\n",
       "    </tr>\n",
       "  </thead>\n",
       "  <tbody>\n",
       "    <tr>\n",
       "      <th>0</th>\n",
       "      <td>2</td>\n",
       "      <td>2</td>\n",
       "      <td>3</td>\n",
       "      <td>2_1</td>\n",
       "      <td>(BENJAMIN, Y, HAYDEN)</td>\n",
       "      <td>(JACK, L, GALLANT)</td>\n",
       "      <td>full</td>\n",
       "      <td>full</td>\n",
       "    </tr>\n",
       "    <tr>\n",
       "      <th>1</th>\n",
       "      <td>2</td>\n",
       "      <td>2</td>\n",
       "      <td>3</td>\n",
       "      <td>2_2</td>\n",
       "      <td>(BENJAMIN, Y, HAYDEN)</td>\n",
       "      <td>(JACK, , GALLANT)</td>\n",
       "      <td>full</td>\n",
       "      <td>no_mid</td>\n",
       "    </tr>\n",
       "    <tr>\n",
       "      <th>2</th>\n",
       "      <td>2</td>\n",
       "      <td>2</td>\n",
       "      <td>3</td>\n",
       "      <td>2_3</td>\n",
       "      <td>(BENJAMIN, , HAYDEN)</td>\n",
       "      <td>(JACK, L, GALLANT)</td>\n",
       "      <td>no_mid</td>\n",
       "      <td>full</td>\n",
       "    </tr>\n",
       "    <tr>\n",
       "      <th>3</th>\n",
       "      <td>2</td>\n",
       "      <td>2</td>\n",
       "      <td>3</td>\n",
       "      <td>2_4</td>\n",
       "      <td>(BENJAMIN, , HAYDEN)</td>\n",
       "      <td>(JACK, , GALLANT)</td>\n",
       "      <td>no_mid</td>\n",
       "      <td>no_mid</td>\n",
       "    </tr>\n",
       "  </tbody>\n",
       "</table>\n",
       "</div>"
      ],
      "text/plain": [
       "  cid pid1 pid2  vid                  name1               name2 name1VarCode  \\\n",
       "0   2    2    3  2_1  (BENJAMIN, Y, HAYDEN)  (JACK, L, GALLANT)         full   \n",
       "1   2    2    3  2_2  (BENJAMIN, Y, HAYDEN)   (JACK, , GALLANT)         full   \n",
       "2   2    2    3  2_3   (BENJAMIN, , HAYDEN)  (JACK, L, GALLANT)       no_mid   \n",
       "3   2    2    3  2_4   (BENJAMIN, , HAYDEN)   (JACK, , GALLANT)       no_mid   \n",
       "\n",
       "  name2VarCode  \n",
       "0         full  \n",
       "1       no_mid  \n",
       "2         full  \n",
       "3       no_mid  "
      ]
     },
     "execution_count": 12,
     "metadata": {},
     "output_type": "execute_result"
    }
   ],
   "source": [
    "conn_name_df[conn_name_df.cid == '2']"
   ]
  },
  {
   "cell_type": "markdown",
   "metadata": {},
   "source": [
    "## Match by coauthorship\n",
    "\n",
    "Scan MAG papers where both authors are in the author list:"
   ]
  },
  {
   "cell_type": "code",
   "execution_count": 13,
   "metadata": {},
   "outputs": [
    {
     "data": {
      "text/plain": [
       "1903186"
      ]
     },
     "execution_count": 13,
     "metadata": {},
     "output_type": "execute_result"
    }
   ],
   "source": [
    "at_name_pair_to_vids = conn_name_df.groupby(['name1', 'name2'])['vid'].apply(list).to_dict()\n",
    "len(at_name_pair_to_vids)"
   ]
  },
  {
   "cell_type": "code",
   "execution_count": 14,
   "metadata": {},
   "outputs": [
    {
     "data": {
      "text/plain": [
       "['2_1']"
      ]
     },
     "execution_count": 14,
     "metadata": {},
     "output_type": "execute_result"
    }
   ],
   "source": [
    "at_name_pair_to_vids[('BENJAMIN', 'Y', 'HAYDEN'), ('JACK', 'L', 'GALLANT')]"
   ]
  },
  {
   "cell_type": "code",
   "execution_count": 15,
   "metadata": {},
   "outputs": [
    {
     "data": {
      "text/plain": [
       "6361"
      ]
     },
     "execution_count": 15,
     "metadata": {},
     "output_type": "execute_result"
    }
   ],
   "source": [
    "sum(len(v) > 1 for v in at_name_pair_to_vids.values())"
   ]
  },
  {
   "cell_type": "code",
   "execution_count": 16,
   "metadata": {},
   "outputs": [
    {
     "data": {
      "text/plain": [
       "(('A', 'CATALINA', 'VELEZ-ORTEGA'), ('GREGORY', '', 'FROLENKOV'))"
      ]
     },
     "execution_count": 16,
     "metadata": {},
     "output_type": "execute_result"
    }
   ],
   "source": [
    "[k for k, v in at_name_pair_to_vids.items() if len(v) > 1][0]"
   ]
  },
  {
   "cell_type": "code",
   "execution_count": 17,
   "metadata": {},
   "outputs": [
    {
     "data": {
      "text/plain": [
       "['1367057_1', '1596204_1']"
      ]
     },
     "execution_count": 17,
     "metadata": {},
     "output_type": "execute_result"
    }
   ],
   "source": [
    "at_name_pair_to_vids[('A', 'CATALINA', 'VELEZ-ORTEGA'), ('GREGORY', '', 'FROLENKOV')]"
   ]
  },
  {
   "cell_type": "code",
   "execution_count": 18,
   "metadata": {},
   "outputs": [],
   "source": [
    "def get_mag_author_name(mag_authors):\n",
    "    \"\"\"\"\"\"\n",
    "    already = set()\n",
    "    author_names = []\n",
    "    for seq, author_info, affil_info in mag_authors:\n",
    "        if seq in already: # authors may have multiple affiliations\n",
    "            continue\n",
    "        already.add(seq)\n",
    "        names = set()\n",
    "        for name in [author_info[2:5], author_info[6:9], author_info[10:13]]:\n",
    "            names.add(tuple(name))\n",
    "        name_dt = defaultdict(set)\n",
    "        for name in names:\n",
    "            for k, v in get_mag_name_var(*name).items():\n",
    "                name_dt[k].add(v)\n",
    "        author_names.append((seq, author_info[0], name_dt))\n",
    "    return author_names"
   ]
  },
  {
   "cell_type": "code",
   "execution_count": 19,
   "metadata": {},
   "outputs": [
    {
     "data": {
      "text/plain": [
       "[(1, '2142249029', defaultdict(set, {'full': {('PRANAY', '', 'CHAUDHURI')}})),\n",
       " (2, '2113592602', defaultdict(set, {'full': {('HUSSEIN', '', 'THOMPSON')}}))]"
      ]
     },
     "execution_count": 19,
     "metadata": {},
     "output_type": "execute_result"
    }
   ],
   "source": [
    "get_mag_author_name([\n",
    "    [1, ['2142249029', 'Pranay Chaudhuri', 'PRANAY', '', 'CHAUDHURI', 'pranay chaudhuri', 'PRANAY', '', 'CHAUDHURI', 'Pranay Chaudhuri', 'PRANAY', '', 'CHAUDHURI'], ['', '']], \n",
    "    [2, ['2113592602', 'Hussein Thompson', 'HUSSEIN', '', 'THOMPSON', 'hussein thompson', 'HUSSEIN', '', 'THOMPSON', 'Hussein Thompson', 'HUSSEIN', '', 'THOMPSON'], ['', '']]\n",
    "])"
   ]
  },
  {
   "cell_type": "code",
   "execution_count": 20,
   "metadata": {},
   "outputs": [],
   "source": [
    "name_var_codes = ['full', 'mid_init', 'no_mid']\n",
    "\n",
    "def update_dict(data_dict, key, val_ele):\n",
    "    \"\"\"\"\"\"\n",
    "    if key not in data_dict:\n",
    "        data_dict[key] = []\n",
    "    data_dict[key].append(val_ele)\n",
    "\n",
    "def match_each_paper(mag_pid, mag_authors, match_result):\n",
    "    \"\"\"\"\"\"\n",
    "    author_names = get_mag_author_name(mag_authors)\n",
    "    for a1, a2 in combinations(author_names, 2):\n",
    "        names_1, names_2 = a1[2], a2[2]\n",
    "        codes_1 = [k for k in name_var_codes if k in names_1]\n",
    "        codes_2 = [k for k in name_var_codes if k in names_2]\n",
    "        for k1, k2 in product(codes_1, codes_2):\n",
    "            nv_1 = names_1[k1]\n",
    "            nv_2 = names_2[k2]\n",
    "            for v_1, v_2 in product(nv_1, nv_2):\n",
    "                key = (v_1, v_2)\n",
    "                if key in at_name_pair_to_vids:\n",
    "                    update_dict(match_result, key, (mag_pid, (a1[0], a1[1], k1), (a2[0], a2[1], k2)))\n",
    "                    break\n",
    "\n",
    "def match_mag(mag_inpath, sample_prob=None):\n",
    "    \"\"\"\"\"\"\n",
    "    result = {}\n",
    "    for idx, line in enumerate(open(mag_inpath), 1):\n",
    "        if idx % 1000000 == 0:\n",
    "            print('%d: %d' % (idx, len(result)), end='')\n",
    "            print('\\r', end='')\n",
    "        if sample_prob is None or random.random() < sample_prob:\n",
    "            mag_pid, mag_authors = json.loads(line)\n",
    "            match_each_paper(mag_pid, mag_authors, result)\n",
    "    return result"
   ]
  },
  {
   "cell_type": "code",
   "execution_count": 21,
   "metadata": {},
   "outputs": [
    {
     "name": "stdout",
     "output_type": "stream",
     "text": [
      "4000000: 60741\r"
     ]
    },
    {
     "data": {
      "text/plain": [
       "63094"
      ]
     },
     "execution_count": 21,
     "metadata": {},
     "output_type": "execute_result"
    }
   ],
   "source": [
    "# match conference papers\n",
    "match_result_conf = match_mag(join(MAG_DIR, 'paper_author_Conference_parsed.json'))\n",
    "len(match_result_conf)"
   ]
  },
  {
   "cell_type": "code",
   "execution_count": 22,
   "metadata": {},
   "outputs": [
    {
     "name": "stdout",
     "output_type": "stream",
     "text": [
      "86000000: 732600\r"
     ]
    },
    {
     "data": {
      "text/plain": [
       "734217"
      ]
     },
     "execution_count": 22,
     "metadata": {},
     "output_type": "execute_result"
    }
   ],
   "source": [
    "# match journal papers\n",
    "match_result_jnl = match_mag(join(MAG_DIR, 'paper_author_Journal_parsed.json'))\n",
    "len(match_result_jnl)"
   ]
  },
  {
   "cell_type": "code",
   "execution_count": 23,
   "metadata": {},
   "outputs": [
    {
     "name": "stdout",
     "output_type": "stream",
     "text": [
      "91000000: 261389\r"
     ]
    },
    {
     "data": {
      "text/plain": [
       "262168"
      ]
     },
     "execution_count": 23,
     "metadata": {},
     "output_type": "execute_result"
    }
   ],
   "source": [
    "# match papers of unknown doc type\n",
    "match_result_ = match_mag(join(MAG_DIR, 'paper_author__parsed.json'))\n",
    "len(match_result_)"
   ]
  },
  {
   "cell_type": "code",
   "execution_count": 24,
   "metadata": {},
   "outputs": [
    {
     "data": {
      "text/plain": [
       "[('1982956265', (2, '2082172561', 'full'), (4, '2110165986', 'full')),\n",
       " ('2028047007', (2, '2082172561', 'full'), (3, '2110165986', 'full')),\n",
       " ('2099224730', (1, '2082172561', 'full'), (2, '2110165986', 'full')),\n",
       " ('2114854701', (1, '2082172561', 'full'), (2, '2110165986', 'full')),\n",
       " ('2128412813', (1, '2082172561', 'full'), (2, '2110165986', 'full')),\n",
       " ('2592168570', (2, '2082172561', 'full'), (3, '2110165986', 'full'))]"
      ]
     },
     "execution_count": 24,
     "metadata": {},
     "output_type": "execute_result"
    }
   ],
   "source": [
    "match_result_jnl[('BENJAMIN', 'Y', 'HAYDEN'), ('JACK', 'L', 'GALLANT')]"
   ]
  },
  {
   "cell_type": "code",
   "execution_count": 28,
   "metadata": {},
   "outputs": [],
   "source": [
    "def write_matched_results():\n",
    "    \"\"\"\"\"\"\n",
    "    data = [\n",
    "        (match_result_conf, 'author_match_coauthorship_Conference.pickle'), \n",
    "        (match_result_jnl, 'author_match_coauthorship_Journal.pickle'), \n",
    "        (match_result_, 'author_match_coauthorship_.pickle')]\n",
    "    for res, out_path in data:\n",
    "        with open('results/' + out_path, 'wb') as fout:\n",
    "            pickle.dump(res, fout)\n",
    "\n",
    "write_matched_results()"
   ]
  },
  {
   "cell_type": "code",
   "execution_count": 29,
   "metadata": {},
   "outputs": [
    {
     "data": {
      "text/plain": [
       "(5036525, 13)"
      ]
     },
     "execution_count": 29,
     "metadata": {},
     "output_type": "execute_result"
    }
   ],
   "source": [
    "def get_conn_coauthorship():\n",
    "    \"\"\"Return co-authored papers of mentorship\"\"\"\n",
    "    rows = []\n",
    "    columns = ['cid', 'pid1', 'pid2', 'vid', 'name1', 'name2']\n",
    "    for e in zip(*[conn_name_df[c] for c in columns]):\n",
    "        key = (e[4], e[5])\n",
    "        row = list(e)\n",
    "        if len(at_name_pair_to_vids[key]) == 1:\n",
    "            for match_result in [match_result_conf, match_result_jnl, match_result_]:\n",
    "                if key in match_result:\n",
    "                    for pid, a_1, a_2 in match_result[key]:\n",
    "                        rows.append(row + [pid] + list(a_1) + list(a_2))\n",
    "    col = columns + ['mag_paperid', \n",
    "                     'mag_seq_1', 'mag_aid_1', 'mag_name_var_1', \n",
    "                     'mag_seq_2', 'mag_aid_2', 'mag_name_var_2']\n",
    "    return pd.DataFrame(rows, columns=col)\n",
    "\n",
    "matched_coauthorship_df = get_conn_coauthorship()\n",
    "matched_coauthorship_df.shape"
   ]
  },
  {
   "cell_type": "code",
   "execution_count": 30,
   "metadata": {
    "scrolled": true
   },
   "outputs": [
    {
     "data": {
      "text/html": [
       "<div>\n",
       "<style scoped>\n",
       "    .dataframe tbody tr th:only-of-type {\n",
       "        vertical-align: middle;\n",
       "    }\n",
       "\n",
       "    .dataframe tbody tr th {\n",
       "        vertical-align: top;\n",
       "    }\n",
       "\n",
       "    .dataframe thead th {\n",
       "        text-align: right;\n",
       "    }\n",
       "</style>\n",
       "<table border=\"1\" class=\"dataframe\">\n",
       "  <thead>\n",
       "    <tr style=\"text-align: right;\">\n",
       "      <th></th>\n",
       "      <th>cid</th>\n",
       "      <th>pid1</th>\n",
       "      <th>pid2</th>\n",
       "      <th>vid</th>\n",
       "      <th>name1</th>\n",
       "      <th>name2</th>\n",
       "      <th>mag_paperid</th>\n",
       "      <th>mag_seq_1</th>\n",
       "      <th>mag_aid_1</th>\n",
       "      <th>mag_name_var_1</th>\n",
       "      <th>mag_seq_2</th>\n",
       "      <th>mag_aid_2</th>\n",
       "      <th>mag_name_var_2</th>\n",
       "    </tr>\n",
       "  </thead>\n",
       "  <tbody>\n",
       "    <tr>\n",
       "      <th>0</th>\n",
       "      <td>2</td>\n",
       "      <td>2</td>\n",
       "      <td>3</td>\n",
       "      <td>2_1</td>\n",
       "      <td>(BENJAMIN, Y, HAYDEN)</td>\n",
       "      <td>(JACK, L, GALLANT)</td>\n",
       "      <td>1982956265</td>\n",
       "      <td>2</td>\n",
       "      <td>2082172561</td>\n",
       "      <td>full</td>\n",
       "      <td>4</td>\n",
       "      <td>2110165986</td>\n",
       "      <td>full</td>\n",
       "    </tr>\n",
       "    <tr>\n",
       "      <th>1</th>\n",
       "      <td>2</td>\n",
       "      <td>2</td>\n",
       "      <td>3</td>\n",
       "      <td>2_1</td>\n",
       "      <td>(BENJAMIN, Y, HAYDEN)</td>\n",
       "      <td>(JACK, L, GALLANT)</td>\n",
       "      <td>2028047007</td>\n",
       "      <td>2</td>\n",
       "      <td>2082172561</td>\n",
       "      <td>full</td>\n",
       "      <td>3</td>\n",
       "      <td>2110165986</td>\n",
       "      <td>full</td>\n",
       "    </tr>\n",
       "    <tr>\n",
       "      <th>2</th>\n",
       "      <td>2</td>\n",
       "      <td>2</td>\n",
       "      <td>3</td>\n",
       "      <td>2_1</td>\n",
       "      <td>(BENJAMIN, Y, HAYDEN)</td>\n",
       "      <td>(JACK, L, GALLANT)</td>\n",
       "      <td>2099224730</td>\n",
       "      <td>1</td>\n",
       "      <td>2082172561</td>\n",
       "      <td>full</td>\n",
       "      <td>2</td>\n",
       "      <td>2110165986</td>\n",
       "      <td>full</td>\n",
       "    </tr>\n",
       "    <tr>\n",
       "      <th>3</th>\n",
       "      <td>2</td>\n",
       "      <td>2</td>\n",
       "      <td>3</td>\n",
       "      <td>2_1</td>\n",
       "      <td>(BENJAMIN, Y, HAYDEN)</td>\n",
       "      <td>(JACK, L, GALLANT)</td>\n",
       "      <td>2114854701</td>\n",
       "      <td>1</td>\n",
       "      <td>2082172561</td>\n",
       "      <td>full</td>\n",
       "      <td>2</td>\n",
       "      <td>2110165986</td>\n",
       "      <td>full</td>\n",
       "    </tr>\n",
       "    <tr>\n",
       "      <th>4</th>\n",
       "      <td>2</td>\n",
       "      <td>2</td>\n",
       "      <td>3</td>\n",
       "      <td>2_1</td>\n",
       "      <td>(BENJAMIN, Y, HAYDEN)</td>\n",
       "      <td>(JACK, L, GALLANT)</td>\n",
       "      <td>2128412813</td>\n",
       "      <td>1</td>\n",
       "      <td>2082172561</td>\n",
       "      <td>full</td>\n",
       "      <td>2</td>\n",
       "      <td>2110165986</td>\n",
       "      <td>full</td>\n",
       "    </tr>\n",
       "    <tr>\n",
       "      <th>5</th>\n",
       "      <td>2</td>\n",
       "      <td>2</td>\n",
       "      <td>3</td>\n",
       "      <td>2_1</td>\n",
       "      <td>(BENJAMIN, Y, HAYDEN)</td>\n",
       "      <td>(JACK, L, GALLANT)</td>\n",
       "      <td>2592168570</td>\n",
       "      <td>2</td>\n",
       "      <td>2082172561</td>\n",
       "      <td>full</td>\n",
       "      <td>3</td>\n",
       "      <td>2110165986</td>\n",
       "      <td>full</td>\n",
       "    </tr>\n",
       "    <tr>\n",
       "      <th>6</th>\n",
       "      <td>2</td>\n",
       "      <td>2</td>\n",
       "      <td>3</td>\n",
       "      <td>2_1</td>\n",
       "      <td>(BENJAMIN, Y, HAYDEN)</td>\n",
       "      <td>(JACK, L, GALLANT)</td>\n",
       "      <td>2183468202</td>\n",
       "      <td>1</td>\n",
       "      <td>2082172561</td>\n",
       "      <td>full</td>\n",
       "      <td>2</td>\n",
       "      <td>2110165986</td>\n",
       "      <td>full</td>\n",
       "    </tr>\n",
       "    <tr>\n",
       "      <th>7</th>\n",
       "      <td>2</td>\n",
       "      <td>2</td>\n",
       "      <td>3</td>\n",
       "      <td>2_2</td>\n",
       "      <td>(BENJAMIN, Y, HAYDEN)</td>\n",
       "      <td>(JACK, , GALLANT)</td>\n",
       "      <td>1982956265</td>\n",
       "      <td>2</td>\n",
       "      <td>2082172561</td>\n",
       "      <td>full</td>\n",
       "      <td>4</td>\n",
       "      <td>2110165986</td>\n",
       "      <td>no_mid</td>\n",
       "    </tr>\n",
       "    <tr>\n",
       "      <th>8</th>\n",
       "      <td>2</td>\n",
       "      <td>2</td>\n",
       "      <td>3</td>\n",
       "      <td>2_2</td>\n",
       "      <td>(BENJAMIN, Y, HAYDEN)</td>\n",
       "      <td>(JACK, , GALLANT)</td>\n",
       "      <td>2028047007</td>\n",
       "      <td>2</td>\n",
       "      <td>2082172561</td>\n",
       "      <td>full</td>\n",
       "      <td>3</td>\n",
       "      <td>2110165986</td>\n",
       "      <td>no_mid</td>\n",
       "    </tr>\n",
       "    <tr>\n",
       "      <th>9</th>\n",
       "      <td>2</td>\n",
       "      <td>2</td>\n",
       "      <td>3</td>\n",
       "      <td>2_2</td>\n",
       "      <td>(BENJAMIN, Y, HAYDEN)</td>\n",
       "      <td>(JACK, , GALLANT)</td>\n",
       "      <td>2099224730</td>\n",
       "      <td>1</td>\n",
       "      <td>2082172561</td>\n",
       "      <td>full</td>\n",
       "      <td>2</td>\n",
       "      <td>2110165986</td>\n",
       "      <td>no_mid</td>\n",
       "    </tr>\n",
       "    <tr>\n",
       "      <th>10</th>\n",
       "      <td>2</td>\n",
       "      <td>2</td>\n",
       "      <td>3</td>\n",
       "      <td>2_2</td>\n",
       "      <td>(BENJAMIN, Y, HAYDEN)</td>\n",
       "      <td>(JACK, , GALLANT)</td>\n",
       "      <td>2114854701</td>\n",
       "      <td>1</td>\n",
       "      <td>2082172561</td>\n",
       "      <td>full</td>\n",
       "      <td>2</td>\n",
       "      <td>2110165986</td>\n",
       "      <td>no_mid</td>\n",
       "    </tr>\n",
       "    <tr>\n",
       "      <th>11</th>\n",
       "      <td>2</td>\n",
       "      <td>2</td>\n",
       "      <td>3</td>\n",
       "      <td>2_2</td>\n",
       "      <td>(BENJAMIN, Y, HAYDEN)</td>\n",
       "      <td>(JACK, , GALLANT)</td>\n",
       "      <td>2128412813</td>\n",
       "      <td>1</td>\n",
       "      <td>2082172561</td>\n",
       "      <td>full</td>\n",
       "      <td>2</td>\n",
       "      <td>2110165986</td>\n",
       "      <td>no_mid</td>\n",
       "    </tr>\n",
       "    <tr>\n",
       "      <th>12</th>\n",
       "      <td>2</td>\n",
       "      <td>2</td>\n",
       "      <td>3</td>\n",
       "      <td>2_2</td>\n",
       "      <td>(BENJAMIN, Y, HAYDEN)</td>\n",
       "      <td>(JACK, , GALLANT)</td>\n",
       "      <td>2592168570</td>\n",
       "      <td>2</td>\n",
       "      <td>2082172561</td>\n",
       "      <td>full</td>\n",
       "      <td>3</td>\n",
       "      <td>2110165986</td>\n",
       "      <td>no_mid</td>\n",
       "    </tr>\n",
       "    <tr>\n",
       "      <th>13</th>\n",
       "      <td>2</td>\n",
       "      <td>2</td>\n",
       "      <td>3</td>\n",
       "      <td>2_2</td>\n",
       "      <td>(BENJAMIN, Y, HAYDEN)</td>\n",
       "      <td>(JACK, , GALLANT)</td>\n",
       "      <td>2183468202</td>\n",
       "      <td>1</td>\n",
       "      <td>2082172561</td>\n",
       "      <td>full</td>\n",
       "      <td>2</td>\n",
       "      <td>2110165986</td>\n",
       "      <td>no_mid</td>\n",
       "    </tr>\n",
       "    <tr>\n",
       "      <th>14</th>\n",
       "      <td>2</td>\n",
       "      <td>2</td>\n",
       "      <td>3</td>\n",
       "      <td>2_3</td>\n",
       "      <td>(BENJAMIN, , HAYDEN)</td>\n",
       "      <td>(JACK, L, GALLANT)</td>\n",
       "      <td>1982956265</td>\n",
       "      <td>2</td>\n",
       "      <td>2082172561</td>\n",
       "      <td>no_mid</td>\n",
       "      <td>4</td>\n",
       "      <td>2110165986</td>\n",
       "      <td>full</td>\n",
       "    </tr>\n",
       "    <tr>\n",
       "      <th>15</th>\n",
       "      <td>2</td>\n",
       "      <td>2</td>\n",
       "      <td>3</td>\n",
       "      <td>2_3</td>\n",
       "      <td>(BENJAMIN, , HAYDEN)</td>\n",
       "      <td>(JACK, L, GALLANT)</td>\n",
       "      <td>2028047007</td>\n",
       "      <td>2</td>\n",
       "      <td>2082172561</td>\n",
       "      <td>no_mid</td>\n",
       "      <td>3</td>\n",
       "      <td>2110165986</td>\n",
       "      <td>full</td>\n",
       "    </tr>\n",
       "    <tr>\n",
       "      <th>16</th>\n",
       "      <td>2</td>\n",
       "      <td>2</td>\n",
       "      <td>3</td>\n",
       "      <td>2_3</td>\n",
       "      <td>(BENJAMIN, , HAYDEN)</td>\n",
       "      <td>(JACK, L, GALLANT)</td>\n",
       "      <td>2099224730</td>\n",
       "      <td>1</td>\n",
       "      <td>2082172561</td>\n",
       "      <td>no_mid</td>\n",
       "      <td>2</td>\n",
       "      <td>2110165986</td>\n",
       "      <td>full</td>\n",
       "    </tr>\n",
       "    <tr>\n",
       "      <th>17</th>\n",
       "      <td>2</td>\n",
       "      <td>2</td>\n",
       "      <td>3</td>\n",
       "      <td>2_3</td>\n",
       "      <td>(BENJAMIN, , HAYDEN)</td>\n",
       "      <td>(JACK, L, GALLANT)</td>\n",
       "      <td>2114854701</td>\n",
       "      <td>1</td>\n",
       "      <td>2082172561</td>\n",
       "      <td>no_mid</td>\n",
       "      <td>2</td>\n",
       "      <td>2110165986</td>\n",
       "      <td>full</td>\n",
       "    </tr>\n",
       "    <tr>\n",
       "      <th>18</th>\n",
       "      <td>2</td>\n",
       "      <td>2</td>\n",
       "      <td>3</td>\n",
       "      <td>2_3</td>\n",
       "      <td>(BENJAMIN, , HAYDEN)</td>\n",
       "      <td>(JACK, L, GALLANT)</td>\n",
       "      <td>2128412813</td>\n",
       "      <td>1</td>\n",
       "      <td>2082172561</td>\n",
       "      <td>no_mid</td>\n",
       "      <td>2</td>\n",
       "      <td>2110165986</td>\n",
       "      <td>full</td>\n",
       "    </tr>\n",
       "    <tr>\n",
       "      <th>19</th>\n",
       "      <td>2</td>\n",
       "      <td>2</td>\n",
       "      <td>3</td>\n",
       "      <td>2_3</td>\n",
       "      <td>(BENJAMIN, , HAYDEN)</td>\n",
       "      <td>(JACK, L, GALLANT)</td>\n",
       "      <td>2592168570</td>\n",
       "      <td>2</td>\n",
       "      <td>2082172561</td>\n",
       "      <td>no_mid</td>\n",
       "      <td>3</td>\n",
       "      <td>2110165986</td>\n",
       "      <td>full</td>\n",
       "    </tr>\n",
       "    <tr>\n",
       "      <th>20</th>\n",
       "      <td>2</td>\n",
       "      <td>2</td>\n",
       "      <td>3</td>\n",
       "      <td>2_3</td>\n",
       "      <td>(BENJAMIN, , HAYDEN)</td>\n",
       "      <td>(JACK, L, GALLANT)</td>\n",
       "      <td>2183468202</td>\n",
       "      <td>1</td>\n",
       "      <td>2082172561</td>\n",
       "      <td>no_mid</td>\n",
       "      <td>2</td>\n",
       "      <td>2110165986</td>\n",
       "      <td>full</td>\n",
       "    </tr>\n",
       "    <tr>\n",
       "      <th>21</th>\n",
       "      <td>2</td>\n",
       "      <td>2</td>\n",
       "      <td>3</td>\n",
       "      <td>2_4</td>\n",
       "      <td>(BENJAMIN, , HAYDEN)</td>\n",
       "      <td>(JACK, , GALLANT)</td>\n",
       "      <td>1982956265</td>\n",
       "      <td>2</td>\n",
       "      <td>2082172561</td>\n",
       "      <td>no_mid</td>\n",
       "      <td>4</td>\n",
       "      <td>2110165986</td>\n",
       "      <td>no_mid</td>\n",
       "    </tr>\n",
       "    <tr>\n",
       "      <th>22</th>\n",
       "      <td>2</td>\n",
       "      <td>2</td>\n",
       "      <td>3</td>\n",
       "      <td>2_4</td>\n",
       "      <td>(BENJAMIN, , HAYDEN)</td>\n",
       "      <td>(JACK, , GALLANT)</td>\n",
       "      <td>2028047007</td>\n",
       "      <td>2</td>\n",
       "      <td>2082172561</td>\n",
       "      <td>no_mid</td>\n",
       "      <td>3</td>\n",
       "      <td>2110165986</td>\n",
       "      <td>no_mid</td>\n",
       "    </tr>\n",
       "    <tr>\n",
       "      <th>23</th>\n",
       "      <td>2</td>\n",
       "      <td>2</td>\n",
       "      <td>3</td>\n",
       "      <td>2_4</td>\n",
       "      <td>(BENJAMIN, , HAYDEN)</td>\n",
       "      <td>(JACK, , GALLANT)</td>\n",
       "      <td>2099224730</td>\n",
       "      <td>1</td>\n",
       "      <td>2082172561</td>\n",
       "      <td>no_mid</td>\n",
       "      <td>2</td>\n",
       "      <td>2110165986</td>\n",
       "      <td>no_mid</td>\n",
       "    </tr>\n",
       "    <tr>\n",
       "      <th>24</th>\n",
       "      <td>2</td>\n",
       "      <td>2</td>\n",
       "      <td>3</td>\n",
       "      <td>2_4</td>\n",
       "      <td>(BENJAMIN, , HAYDEN)</td>\n",
       "      <td>(JACK, , GALLANT)</td>\n",
       "      <td>2114854701</td>\n",
       "      <td>1</td>\n",
       "      <td>2082172561</td>\n",
       "      <td>no_mid</td>\n",
       "      <td>2</td>\n",
       "      <td>2110165986</td>\n",
       "      <td>no_mid</td>\n",
       "    </tr>\n",
       "    <tr>\n",
       "      <th>25</th>\n",
       "      <td>2</td>\n",
       "      <td>2</td>\n",
       "      <td>3</td>\n",
       "      <td>2_4</td>\n",
       "      <td>(BENJAMIN, , HAYDEN)</td>\n",
       "      <td>(JACK, , GALLANT)</td>\n",
       "      <td>2128412813</td>\n",
       "      <td>1</td>\n",
       "      <td>2082172561</td>\n",
       "      <td>no_mid</td>\n",
       "      <td>2</td>\n",
       "      <td>2110165986</td>\n",
       "      <td>no_mid</td>\n",
       "    </tr>\n",
       "    <tr>\n",
       "      <th>26</th>\n",
       "      <td>2</td>\n",
       "      <td>2</td>\n",
       "      <td>3</td>\n",
       "      <td>2_4</td>\n",
       "      <td>(BENJAMIN, , HAYDEN)</td>\n",
       "      <td>(JACK, , GALLANT)</td>\n",
       "      <td>2592168570</td>\n",
       "      <td>2</td>\n",
       "      <td>2082172561</td>\n",
       "      <td>no_mid</td>\n",
       "      <td>3</td>\n",
       "      <td>2110165986</td>\n",
       "      <td>no_mid</td>\n",
       "    </tr>\n",
       "    <tr>\n",
       "      <th>27</th>\n",
       "      <td>2</td>\n",
       "      <td>2</td>\n",
       "      <td>3</td>\n",
       "      <td>2_4</td>\n",
       "      <td>(BENJAMIN, , HAYDEN)</td>\n",
       "      <td>(JACK, , GALLANT)</td>\n",
       "      <td>2183468202</td>\n",
       "      <td>1</td>\n",
       "      <td>2082172561</td>\n",
       "      <td>no_mid</td>\n",
       "      <td>2</td>\n",
       "      <td>2110165986</td>\n",
       "      <td>no_mid</td>\n",
       "    </tr>\n",
       "  </tbody>\n",
       "</table>\n",
       "</div>"
      ],
      "text/plain": [
       "   cid pid1 pid2  vid                  name1               name2 mag_paperid  \\\n",
       "0    2    2    3  2_1  (BENJAMIN, Y, HAYDEN)  (JACK, L, GALLANT)  1982956265   \n",
       "1    2    2    3  2_1  (BENJAMIN, Y, HAYDEN)  (JACK, L, GALLANT)  2028047007   \n",
       "2    2    2    3  2_1  (BENJAMIN, Y, HAYDEN)  (JACK, L, GALLANT)  2099224730   \n",
       "3    2    2    3  2_1  (BENJAMIN, Y, HAYDEN)  (JACK, L, GALLANT)  2114854701   \n",
       "4    2    2    3  2_1  (BENJAMIN, Y, HAYDEN)  (JACK, L, GALLANT)  2128412813   \n",
       "5    2    2    3  2_1  (BENJAMIN, Y, HAYDEN)  (JACK, L, GALLANT)  2592168570   \n",
       "6    2    2    3  2_1  (BENJAMIN, Y, HAYDEN)  (JACK, L, GALLANT)  2183468202   \n",
       "7    2    2    3  2_2  (BENJAMIN, Y, HAYDEN)   (JACK, , GALLANT)  1982956265   \n",
       "8    2    2    3  2_2  (BENJAMIN, Y, HAYDEN)   (JACK, , GALLANT)  2028047007   \n",
       "9    2    2    3  2_2  (BENJAMIN, Y, HAYDEN)   (JACK, , GALLANT)  2099224730   \n",
       "10   2    2    3  2_2  (BENJAMIN, Y, HAYDEN)   (JACK, , GALLANT)  2114854701   \n",
       "11   2    2    3  2_2  (BENJAMIN, Y, HAYDEN)   (JACK, , GALLANT)  2128412813   \n",
       "12   2    2    3  2_2  (BENJAMIN, Y, HAYDEN)   (JACK, , GALLANT)  2592168570   \n",
       "13   2    2    3  2_2  (BENJAMIN, Y, HAYDEN)   (JACK, , GALLANT)  2183468202   \n",
       "14   2    2    3  2_3   (BENJAMIN, , HAYDEN)  (JACK, L, GALLANT)  1982956265   \n",
       "15   2    2    3  2_3   (BENJAMIN, , HAYDEN)  (JACK, L, GALLANT)  2028047007   \n",
       "16   2    2    3  2_3   (BENJAMIN, , HAYDEN)  (JACK, L, GALLANT)  2099224730   \n",
       "17   2    2    3  2_3   (BENJAMIN, , HAYDEN)  (JACK, L, GALLANT)  2114854701   \n",
       "18   2    2    3  2_3   (BENJAMIN, , HAYDEN)  (JACK, L, GALLANT)  2128412813   \n",
       "19   2    2    3  2_3   (BENJAMIN, , HAYDEN)  (JACK, L, GALLANT)  2592168570   \n",
       "20   2    2    3  2_3   (BENJAMIN, , HAYDEN)  (JACK, L, GALLANT)  2183468202   \n",
       "21   2    2    3  2_4   (BENJAMIN, , HAYDEN)   (JACK, , GALLANT)  1982956265   \n",
       "22   2    2    3  2_4   (BENJAMIN, , HAYDEN)   (JACK, , GALLANT)  2028047007   \n",
       "23   2    2    3  2_4   (BENJAMIN, , HAYDEN)   (JACK, , GALLANT)  2099224730   \n",
       "24   2    2    3  2_4   (BENJAMIN, , HAYDEN)   (JACK, , GALLANT)  2114854701   \n",
       "25   2    2    3  2_4   (BENJAMIN, , HAYDEN)   (JACK, , GALLANT)  2128412813   \n",
       "26   2    2    3  2_4   (BENJAMIN, , HAYDEN)   (JACK, , GALLANT)  2592168570   \n",
       "27   2    2    3  2_4   (BENJAMIN, , HAYDEN)   (JACK, , GALLANT)  2183468202   \n",
       "\n",
       "    mag_seq_1   mag_aid_1 mag_name_var_1  mag_seq_2   mag_aid_2 mag_name_var_2  \n",
       "0           2  2082172561           full          4  2110165986           full  \n",
       "1           2  2082172561           full          3  2110165986           full  \n",
       "2           1  2082172561           full          2  2110165986           full  \n",
       "3           1  2082172561           full          2  2110165986           full  \n",
       "4           1  2082172561           full          2  2110165986           full  \n",
       "5           2  2082172561           full          3  2110165986           full  \n",
       "6           1  2082172561           full          2  2110165986           full  \n",
       "7           2  2082172561           full          4  2110165986         no_mid  \n",
       "8           2  2082172561           full          3  2110165986         no_mid  \n",
       "9           1  2082172561           full          2  2110165986         no_mid  \n",
       "10          1  2082172561           full          2  2110165986         no_mid  \n",
       "11          1  2082172561           full          2  2110165986         no_mid  \n",
       "12          2  2082172561           full          3  2110165986         no_mid  \n",
       "13          1  2082172561           full          2  2110165986         no_mid  \n",
       "14          2  2082172561         no_mid          4  2110165986           full  \n",
       "15          2  2082172561         no_mid          3  2110165986           full  \n",
       "16          1  2082172561         no_mid          2  2110165986           full  \n",
       "17          1  2082172561         no_mid          2  2110165986           full  \n",
       "18          1  2082172561         no_mid          2  2110165986           full  \n",
       "19          2  2082172561         no_mid          3  2110165986           full  \n",
       "20          1  2082172561         no_mid          2  2110165986           full  \n",
       "21          2  2082172561         no_mid          4  2110165986         no_mid  \n",
       "22          2  2082172561         no_mid          3  2110165986         no_mid  \n",
       "23          1  2082172561         no_mid          2  2110165986         no_mid  \n",
       "24          1  2082172561         no_mid          2  2110165986         no_mid  \n",
       "25          1  2082172561         no_mid          2  2110165986         no_mid  \n",
       "26          2  2082172561         no_mid          3  2110165986         no_mid  \n",
       "27          1  2082172561         no_mid          2  2110165986         no_mid  "
      ]
     },
     "execution_count": 30,
     "metadata": {},
     "output_type": "execute_result"
    }
   ],
   "source": [
    "matched_coauthorship_df[matched_coauthorship_df.cid == '2']"
   ]
  },
  {
   "cell_type": "code",
   "execution_count": 31,
   "metadata": {},
   "outputs": [
    {
     "data": {
      "text/plain": [
       "359238"
      ]
     },
     "execution_count": 31,
     "metadata": {},
     "output_type": "execute_result"
    }
   ],
   "source": [
    "def get_pid_mag_aid():\n",
    "    \"\"\"\"\"\"\n",
    "    result = {}\n",
    "    columns = ['pid1', 'pid2', 'mag_aid_1', 'mag_aid_2']\n",
    "    for pid1, pid2, mag_aid_1, mag_aid_2 in zip(*[matched_coauthorship_df[c] for c in columns]):\n",
    "        for pid, aid in [(pid1, mag_aid_1), (pid2, mag_aid_2)]:\n",
    "            if pid not in result:\n",
    "                result[pid] = {}\n",
    "            result[pid][aid] = result[pid].get(aid, 0) + 1\n",
    "    return result\n",
    "\n",
    "pid_to_mag_aid = get_pid_mag_aid()\n",
    "len(pid_to_mag_aid)"
   ]
  },
  {
   "cell_type": "code",
   "execution_count": 32,
   "metadata": {},
   "outputs": [
    {
     "data": {
      "text/plain": [
       "295630"
      ]
     },
     "execution_count": 32,
     "metadata": {},
     "output_type": "execute_result"
    }
   ],
   "source": [
    "sum(len(v) == 1 for v in pid_to_mag_aid.values())"
   ]
  },
  {
   "cell_type": "code",
   "execution_count": 46,
   "metadata": {},
   "outputs": [
    {
     "name": "stdout",
     "output_type": "stream",
     "text": [
      "0.9666079738397686\n"
     ]
    },
    {
     "data": {
      "image/png": "[encoded data removed]",
      "text/plain": [
       "<Figure size 432x288 with 1 Axes>"
      ]
     },
     "metadata": {},
     "output_type": "display_data"
    }
   ],
   "source": [
    "def plot_frac(save=False):\n",
    "    \"\"\"\"\"\"\n",
    "    frac = pd.Series([max(v.values()) / sum(v.values()) for v in pid_to_mag_aid.values() if len(v) > 1])\n",
    "    ax = frac.plot.hist(bins=15, grid=False)\n",
    "    ax.set(xlim=[0,1], xlabel='Fraction of papers', ylabel='Number of researchers')\n",
    "    print((frac >= .5).mean())\n",
    "    if save:\n",
    "        plt.savefig('fig/matching_by_coauthorship_frac.pdf', bbox_inches='tight')\n",
    "\n",
    "plot_frac()"
   ]
  },
  {
   "cell_type": "code",
   "execution_count": 47,
   "metadata": {},
   "outputs": [
    {
     "data": {
      "text/plain": [
       "(774733, 16)"
      ]
     },
     "execution_count": 47,
     "metadata": {},
     "output_type": "execute_result"
    }
   ],
   "source": [
    "def add_matched_result_coauthorship():\n",
    "    \"\"\"\"\"\"\n",
    "    result = {}\n",
    "    for pid, aids in pid_to_mag_aid.items():\n",
    "        mv = max(aids.values())\n",
    "        mk = [k for k, v in aids.items() if v == mv]\n",
    "        if len(mk) == 1:\n",
    "            result[pid] = mk[0]\n",
    "    people_df['magaid_coauthorship'] = people_df.pid.apply(lambda x: result.get(x, ''))\n",
    "\n",
    "add_matched_result_coauthorship()\n",
    "people_df.shape"
   ]
  },
  {
   "cell_type": "code",
   "execution_count": 48,
   "metadata": {},
   "outputs": [
    {
     "data": {
      "text/plain": [
       "353377"
      ]
     },
     "execution_count": 48,
     "metadata": {},
     "output_type": "execute_result"
    }
   ],
   "source": [
    "(people_df.magaid_coauthorship != '').sum()"
   ]
  },
  {
   "cell_type": "markdown",
   "metadata": {},
   "source": [
    "## Match by name and institution"
   ]
  },
  {
   "cell_type": "code",
   "execution_count": 49,
   "metadata": {},
   "outputs": [
    {
     "data": {
      "text/plain": [
       "723706"
      ]
     },
     "execution_count": 49,
     "metadata": {},
     "output_type": "execute_result"
    }
   ],
   "source": [
    "def collect_loc():\n",
    "    \"\"\"\"\"\"\n",
    "    result = defaultdict(set)\n",
    "    for pid, affid in zip(*[people_df[c] for c in ['pid', 'MAGInstitutionID']]):\n",
    "        if affid != '':\n",
    "            result[pid].add(affid)\n",
    "    for pid1, pid2, affid in zip(*[conn_df[c] for c in ['pid1', 'pid2', 'MAGInstitutionID']]):\n",
    "        if affid != '':\n",
    "            result[pid1].add(affid)\n",
    "            result[pid2].add(affid)\n",
    "    return result\n",
    "\n",
    "pid_to_mag_affid = collect_loc()\n",
    "len(pid_to_mag_affid)"
   ]
  },
  {
   "cell_type": "code",
   "execution_count": 50,
   "metadata": {},
   "outputs": [
    {
     "data": {
      "text/plain": [
       "{'1298060332', '136199984', '165690674', '32971472', '66946132', '95457486'}"
      ]
     },
     "execution_count": 50,
     "metadata": {},
     "output_type": "execute_result"
    }
   ],
   "source": [
    "pid_to_mag_affid['1']"
   ]
  },
  {
   "cell_type": "code",
   "execution_count": 51,
   "metadata": {},
   "outputs": [
    {
     "data": {
      "text/plain": [
       "{'full': ('STEPHEN', 'V', 'DAVID'), 'no_mid': ('STEPHEN', '', 'DAVID')}"
      ]
     },
     "execution_count": 51,
     "metadata": {},
     "output_type": "execute_result"
    }
   ],
   "source": [
    "pid_to_name_var['1']"
   ]
  },
  {
   "cell_type": "code",
   "execution_count": 52,
   "metadata": {},
   "outputs": [
    {
     "data": {
      "text/plain": [
       "723706"
      ]
     },
     "execution_count": 52,
     "metadata": {},
     "output_type": "execute_result"
    }
   ],
   "source": [
    "def get_name_inst_pair():\n",
    "    \"\"\"\"\"\"\n",
    "    result = defaultdict(set)\n",
    "    for x, y, z, pid in zip(*[people_df[c] for c in ['firstname_norm','middlename_norm','lastname_norm','pid']]):\n",
    "        affids = pid_to_mag_affid[pid]\n",
    "        name_var = pid_to_name_var[pid]\n",
    "        for v in name_var.values():\n",
    "            for affid in affids:\n",
    "                result[pid].add(tuple(chain(v, (affid,))))\n",
    "    return result\n",
    "\n",
    "pid_to_name_inst_id = get_name_inst_pair()\n",
    "len(pid_to_name_inst_id)"
   ]
  },
  {
   "cell_type": "code",
   "execution_count": 56,
   "metadata": {},
   "outputs": [
    {
     "data": {
      "text/html": [
       "<div>\n",
       "<style scoped>\n",
       "    .dataframe tbody tr th:only-of-type {\n",
       "        vertical-align: middle;\n",
       "    }\n",
       "\n",
       "    .dataframe tbody tr th {\n",
       "        vertical-align: top;\n",
       "    }\n",
       "\n",
       "    .dataframe thead th {\n",
       "        text-align: right;\n",
       "    }\n",
       "</style>\n",
       "<table border=\"1\" class=\"dataframe\">\n",
       "  <thead>\n",
       "    <tr style=\"text-align: right;\">\n",
       "      <th></th>\n",
       "      <th>pid</th>\n",
       "      <th>firstname</th>\n",
       "      <th>middlename</th>\n",
       "      <th>lastname</th>\n",
       "      <th>degrees</th>\n",
       "      <th>location</th>\n",
       "      <th>locid</th>\n",
       "      <th>majorarea</th>\n",
       "      <th>orcid</th>\n",
       "      <th>firstname_norm</th>\n",
       "      <th>middlename_norm</th>\n",
       "      <th>lastname_norm</th>\n",
       "      <th>orcid_norm</th>\n",
       "      <th>MAGInstitution</th>\n",
       "      <th>MAGInstitutionID</th>\n",
       "      <th>magaid_coauthorship</th>\n",
       "    </tr>\n",
       "  </thead>\n",
       "  <tbody>\n",
       "    <tr>\n",
       "      <th>240788</th>\n",
       "      <td>269516</td>\n",
       "      <td>Ping</td>\n",
       "      <td></td>\n",
       "      <td>Gu</td>\n",
       "      <td>Ph.D.</td>\n",
       "      <td>University of Illinois, Urbana-Champaign</td>\n",
       "      <td>388</td>\n",
       "      <td>physics</td>\n",
       "      <td></td>\n",
       "      <td>PING</td>\n",
       "      <td></td>\n",
       "      <td>GU</td>\n",
       "      <td></td>\n",
       "      <td>UNIVERSITY OF ILLINOIS AT URBANA CHAMPAIGN</td>\n",
       "      <td>157725225</td>\n",
       "      <td></td>\n",
       "    </tr>\n",
       "  </tbody>\n",
       "</table>\n",
       "</div>"
      ],
      "text/plain": [
       "           pid firstname middlename lastname degrees  \\\n",
       "240788  269516      Ping                  Gu   Ph.D.   \n",
       "\n",
       "                                        location locid majorarea orcid  \\\n",
       "240788  University of Illinois, Urbana-Champaign   388   physics         \n",
       "\n",
       "       firstname_norm middlename_norm lastname_norm orcid_norm  \\\n",
       "240788           PING                            GU              \n",
       "\n",
       "                                    MAGInstitution MAGInstitutionID  \\\n",
       "240788  UNIVERSITY OF ILLINOIS AT URBANA CHAMPAIGN        157725225   \n",
       "\n",
       "       magaid_coauthorship  \n",
       "240788                      "
      ]
     },
     "execution_count": 56,
     "metadata": {},
     "output_type": "execute_result"
    }
   ],
   "source": [
    "people_df[people_df.magaid_coauthorship == ''].sample(1)"
   ]
  },
  {
   "cell_type": "code",
   "execution_count": 57,
   "metadata": {},
   "outputs": [
    {
     "data": {
      "text/plain": [
       "{('PING', '', 'GU', '157725225')}"
      ]
     },
     "execution_count": 57,
     "metadata": {},
     "output_type": "execute_result"
    }
   ],
   "source": [
    "pid_to_name_inst_id['269516']"
   ]
  },
  {
   "cell_type": "code",
   "execution_count": 61,
   "metadata": {},
   "outputs": [
    {
     "name": "stdout",
     "output_type": "stream",
     "text": [
      "(421356, 16)\n",
      "928\n"
     ]
    },
    {
     "data": {
      "text/plain": [
       "672370"
      ]
     },
     "execution_count": 61,
     "metadata": {},
     "output_type": "execute_result"
    }
   ],
   "source": [
    "def count_name_inst_pair():\n",
    "    \"\"\"\"\"\"\n",
    "    cnt = Counter()\n",
    "    subset = people_df[people_df.magaid_coauthorship == '']\n",
    "    print(subset.shape)\n",
    "    for pid in subset.pid:\n",
    "        cnt.update(pid_to_name_inst_id[pid])\n",
    "    n = 0\n",
    "    for pid in subset.pid:\n",
    "        affids = pid_to_mag_affid[pid]\n",
    "        name_var = pid_to_name_var[pid].values()\n",
    "        for v, affid in product(name_var, affids):\n",
    "            key = tuple(chain(v, (affid,)))\n",
    "            if cnt[key] > 1:\n",
    "                n += 1\n",
    "                break\n",
    "    print(n)\n",
    "    return cnt\n",
    "\n",
    "ni_pair_cnt = count_name_inst_pair()\n",
    "len(ni_pair_cnt)"
   ]
  },
  {
   "cell_type": "code",
   "execution_count": 62,
   "metadata": {},
   "outputs": [
    {
     "data": {
      "text/plain": [
       "1"
      ]
     },
     "execution_count": 62,
     "metadata": {},
     "output_type": "execute_result"
    }
   ],
   "source": [
    "ni_pair_cnt[('PING', '', 'GU', '157725225')]"
   ]
  },
  {
   "cell_type": "code",
   "execution_count": 64,
   "metadata": {},
   "outputs": [
    {
     "name": "stdout",
     "output_type": "stream",
     "text": [
      "1355583\n",
      "Conference\n",
      "Journal\n",
      "\n"
     ]
    },
    {
     "data": {
      "text/plain": [
       "613449"
      ]
     },
     "execution_count": 64,
     "metadata": {},
     "output_type": "execute_result"
    }
   ],
   "source": [
    "def search_mag_authorship_name_affil(aft_name_dict):\n",
    "    \"\"\"\"\"\"\n",
    "    aft_names = frozenset().union(*aft_name_dict.values())\n",
    "    print(len(aft_names))\n",
    "    result = defaultdict(list)\n",
    "    for dt in ['Conference', 'Journal', '']:\n",
    "        print(dt)\n",
    "        in_path = join(MAG_DIR, 'paper_author_%s_parsed.json' % dt)\n",
    "        for line in open(in_path):\n",
    "            pid, authors = json.loads(line)\n",
    "            for seq, name_info, affil_info in authors:\n",
    "                affil_id = affil_info[0]\n",
    "                if affil_id == '':\n",
    "                    continue\n",
    "                affil_id = (affil_id,)\n",
    "                aid = name_info[0]\n",
    "                found = False\n",
    "                for x, y, z in [name_info[2:5], name_info[6:9], name_info[10:13]]:\n",
    "                    for nv in get_mag_name_var(x, y, z).values():\n",
    "                        nv = tuple(chain(nv, affil_id))\n",
    "                        if nv in aft_names:\n",
    "                            result[nv].append((pid, aid, int(seq)))\n",
    "                            found = True\n",
    "                            break\n",
    "                    if found:\n",
    "                        break\n",
    "    return result\n",
    "\n",
    "found_mag_name_affil = search_mag_authorship_name_affil(pid_to_name_inst_id)\n",
    "len(found_mag_name_affil)"
   ]
  },
  {
   "cell_type": "code",
   "execution_count": 65,
   "metadata": {
    "scrolled": true
   },
   "outputs": [
    {
     "data": {
      "text/plain": [
       "[('2026282120', '2723571533', 2), ('120556438', '2644297273', 2)]"
      ]
     },
     "execution_count": 65,
     "metadata": {},
     "output_type": "execute_result"
    }
   ],
   "source": [
    "found_mag_name_affil[('PING', '', 'GU', '157725225')]"
   ]
  },
  {
   "cell_type": "code",
   "execution_count": 66,
   "metadata": {},
   "outputs": [],
   "source": [
    "with open('results/author_match_name_insti.pickle', 'wb') as fout:\n",
    "    pickle.dump(found_mag_name_affil, fout)"
   ]
  },
  {
   "cell_type": "code",
   "execution_count": 68,
   "metadata": {},
   "outputs": [
    {
     "name": "stdout",
     "output_type": "stream",
     "text": [
      "Total matched: 143621\n",
      "Uniquely matched: 127972\n",
      "Unambiguously matched: 141078\n"
     ]
    },
    {
     "data": {
      "text/plain": [
       "(774733, 17)"
      ]
     },
     "execution_count": 68,
     "metadata": {},
     "output_type": "execute_result"
    }
   ],
   "source": [
    "def add_matched_result_name_insti():\n",
    "    \"\"\"\"\"\"\n",
    "    result = {}\n",
    "    n = 0\n",
    "    unique = 0\n",
    "    cnt = 0\n",
    "    for pid in people_df[people_df.magaid_coauthorship == ''].pid:\n",
    "        freq = Counter()\n",
    "        for ni in pid_to_name_inst_id[pid]:\n",
    "            if ni_pair_cnt[ni] == 1 and ni in found_mag_name_affil:\n",
    "                freq.update(a[1] for a in found_mag_name_affil[ni])\n",
    "        if len(freq) == 0:\n",
    "            continue\n",
    "        n += 1\n",
    "        if len(freq) == 1:\n",
    "            unique += 1\n",
    "        mv = max(freq.values())\n",
    "        mk = [k for k, v in freq.items() if v == mv]\n",
    "        if len(mk) == 1:\n",
    "            cnt += 1\n",
    "            result[pid] = mk[0]\n",
    "    print('Total matched:', n)\n",
    "    print('Uniquely matched:', unique)\n",
    "    print('Unambiguously matched:', cnt)\n",
    "    people_df['magaid_name_insti'] = people_df.pid.apply(lambda x: result.get(x, ''))\n",
    "\n",
    "add_matched_result_name_insti()\n",
    "people_df.shape"
   ]
  },
  {
   "cell_type": "code",
   "execution_count": 69,
   "metadata": {},
   "outputs": [
    {
     "data": {
      "text/plain": [
       "141078"
      ]
     },
     "execution_count": 69,
     "metadata": {},
     "output_type": "execute_result"
    }
   ],
   "source": [
    "(people_df.magaid_name_insti != '').sum()"
   ]
  },
  {
   "cell_type": "code",
   "execution_count": 70,
   "metadata": {},
   "outputs": [
    {
     "data": {
      "text/plain": [
       "(774733, 18)"
      ]
     },
     "execution_count": 70,
     "metadata": {},
     "output_type": "execute_result"
    }
   ],
   "source": [
    "people_df['magaid'] = [\n",
    "    a if a != '' else b for a, b in zip(people_df.magaid_coauthorship, people_df.magaid_name_insti)]\n",
    "people_df.shape"
   ]
  },
  {
   "cell_type": "code",
   "execution_count": 71,
   "metadata": {},
   "outputs": [
    {
     "data": {
      "text/plain": [
       "494455"
      ]
     },
     "execution_count": 71,
     "metadata": {},
     "output_type": "execute_result"
    }
   ],
   "source": [
    "(people_df.magaid != '').sum()"
   ]
  },
  {
   "cell_type": "code",
   "execution_count": 72,
   "metadata": {},
   "outputs": [
    {
     "data": {
      "text/plain": [
       "353377"
      ]
     },
     "execution_count": 72,
     "metadata": {},
     "output_type": "execute_result"
    }
   ],
   "source": [
    "(people_df.magaid_coauthorship != '').sum()"
   ]
  },
  {
   "cell_type": "code",
   "execution_count": 73,
   "metadata": {},
   "outputs": [],
   "source": [
    "people_df.to_hdf('results/people_df.h5', key='df', mode='w')"
   ]
  },
  {
   "cell_type": "code",
   "execution_count": 74,
   "metadata": {},
   "outputs": [],
   "source": [
    "people_df[\n",
    "    ['pid', 'firstname_norm', 'middlename_norm', 'lastname_norm', 'location', 'MAGInstitutionID', 'majorarea', \n",
    "     'orcid_norm', 'magaid']\n",
    "].to_csv('dataset/researcher.csv', \n",
    "         header=['PID', 'FirstName', 'MiddleName', 'LastName', 'Institution', 'InstitutionMAGID', \n",
    "                 'ResearchArea', 'ORCID', 'MAGAuthorID'], \n",
    "         index=False)"
   ]
  },
  {
   "cell_type": "code",
   "execution_count": null,
   "metadata": {},
   "outputs": [],
   "source": []
  }
 ],
 "metadata": {
  "kernelspec": {
   "display_name": "Python 3",
   "language": "python",
   "name": "python3"
  },
  "language_info": {
   "codemirror_mode": {
    "name": "ipython",
    "version": 3
   },
   "file_extension": ".py",
   "mimetype": "text/x-python",
   "name": "python",
   "nbconvert_exporter": "python",
   "pygments_lexer": "ipython3",
   "version": "3.6.9"
  },
  "toc": {
   "base_numbering": 1,
   "nav_menu": {},
   "number_sections": true,
   "sideBar": true,
   "skip_h1_title": false,
   "title_cell": "Table of Contents",
   "title_sidebar": "Contents",
   "toc_cell": false,
   "toc_position": {
    "height": "calc(100% - 180px)",
    "left": "10px",
    "top": "150px",
    "width": "374.594px"
   },
   "toc_section_display": true,
   "toc_window_display": true
  }
 },
 "nbformat": 4,
 "nbformat_minor": 4
}
