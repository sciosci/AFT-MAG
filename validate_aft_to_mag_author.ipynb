{
 "cells": [
  {
   "cell_type": "code",
   "execution_count": 1,
   "metadata": {},
   "outputs": [],
   "source": [
    "%matplotlib inline\n",
    "\n",
    "import csv\n",
    "import pandas as pd\n",
    "import simplejson as json\n",
    "import matplotlib as mpl\n",
    "import matplotlib.pyplot as plt\n",
    "import seaborn as sns; sns.set_style('ticks')\n",
    "\n",
    "from os.path import join\n",
    "\n",
    "DATA_DIR = 'raw_data/'\n",
    "MAG_DIR = '/home/qke100/ke-data/dataset-MAG'"
   ]
  },
  {
   "cell_type": "code",
   "execution_count": 2,
   "metadata": {},
   "outputs": [
    {
     "data": {
      "text/plain": [
       "(774733, 18)"
      ]
     },
     "execution_count": 2,
     "metadata": {},
     "output_type": "execute_result"
    }
   ],
   "source": [
    "people_df = pd.read_hdf('results/people_df.h5')\n",
    "people_df.shape"
   ]
  },
  {
   "cell_type": "code",
   "execution_count": 3,
   "metadata": {},
   "outputs": [
    {
     "data": {
      "text/html": [
       "<div>\n",
       "<style scoped>\n",
       "    .dataframe tbody tr th:only-of-type {\n",
       "        vertical-align: middle;\n",
       "    }\n",
       "\n",
       "    .dataframe tbody tr th {\n",
       "        vertical-align: top;\n",
       "    }\n",
       "\n",
       "    .dataframe thead th {\n",
       "        text-align: right;\n",
       "    }\n",
       "</style>\n",
       "<table border=\"1\" class=\"dataframe\">\n",
       "  <thead>\n",
       "    <tr style=\"text-align: right;\">\n",
       "      <th></th>\n",
       "      <th>pid</th>\n",
       "      <th>firstname</th>\n",
       "      <th>middlename</th>\n",
       "      <th>lastname</th>\n",
       "      <th>degrees</th>\n",
       "      <th>location</th>\n",
       "      <th>locid</th>\n",
       "      <th>majorarea</th>\n",
       "      <th>orcid</th>\n",
       "      <th>firstname_norm</th>\n",
       "      <th>middlename_norm</th>\n",
       "      <th>lastname_norm</th>\n",
       "      <th>orcid_norm</th>\n",
       "      <th>MAGInstitution</th>\n",
       "      <th>MAGInstitutionID</th>\n",
       "      <th>magaid_coauthorship</th>\n",
       "      <th>magaid_name_insti</th>\n",
       "      <th>magaid</th>\n",
       "    </tr>\n",
       "  </thead>\n",
       "  <tbody>\n",
       "    <tr>\n",
       "      <th>0</th>\n",
       "      <td>1</td>\n",
       "      <td>Stephen</td>\n",
       "      <td>V.</td>\n",
       "      <td>David</td>\n",
       "      <td>Ph.D.</td>\n",
       "      <td>Oregon Health and Science University</td>\n",
       "      <td>226</td>\n",
       "      <td>neuro,csd,bme</td>\n",
       "      <td>0000-0003-4135-3104</td>\n",
       "      <td>STEPHEN</td>\n",
       "      <td>V</td>\n",
       "      <td>DAVID</td>\n",
       "      <td>0000-0003-4135-3104</td>\n",
       "      <td>OREGON HEALTH &amp; SCIENCE UNIVERSITY</td>\n",
       "      <td>165690674</td>\n",
       "      <td>2171827615</td>\n",
       "      <td></td>\n",
       "      <td>2171827615</td>\n",
       "    </tr>\n",
       "  </tbody>\n",
       "</table>\n",
       "</div>"
      ],
      "text/plain": [
       "  pid firstname middlename lastname degrees  \\\n",
       "0   1   Stephen         V.    David   Ph.D.   \n",
       "\n",
       "                               location locid      majorarea  \\\n",
       "0  Oregon Health and Science University   226  neuro,csd,bme   \n",
       "\n",
       "                 orcid firstname_norm middlename_norm lastname_norm  \\\n",
       "0  0000-0003-4135-3104        STEPHEN               V         DAVID   \n",
       "\n",
       "            orcid_norm                      MAGInstitution MAGInstitutionID  \\\n",
       "0  0000-0003-4135-3104  OREGON HEALTH & SCIENCE UNIVERSITY        165690674   \n",
       "\n",
       "  magaid_coauthorship magaid_name_insti      magaid  \n",
       "0          2171827615                    2171827615  "
      ]
     },
     "execution_count": 3,
     "metadata": {},
     "output_type": "execute_result"
    }
   ],
   "source": [
    "people_df.head(1)"
   ]
  },
  {
   "cell_type": "markdown",
   "metadata": {},
   "source": [
    "## User-verified papers"
   ]
  },
  {
   "cell_type": "code",
   "execution_count": 4,
   "metadata": {},
   "outputs": [
    {
     "name": "stdout",
     "output_type": "stream",
     "text": [
      "authorPub.csv\n",
      "authorPub2.csv\n",
      "authorPub3.csv\n"
     ]
    },
    {
     "data": {
      "text/plain": [
       "16453"
      ]
     },
     "execution_count": 4,
     "metadata": {},
     "output_type": "execute_result"
    }
   ],
   "source": [
    "def load_user_annotated():\n",
    "    \"\"\"\"\"\"\n",
    "    pids = set(people_df.pid)\n",
    "    result = {}\n",
    "    for in_path in ['authorPub.csv', 'authorPub2.csv', 'authorPub3.csv']:\n",
    "        print(in_path)\n",
    "        fin = open(join(DATA_DIR, in_path))\n",
    "        reader = csv.reader(fin, delimiter=',')\n",
    "        next(reader, None)\n",
    "        for row in reader:\n",
    "            if row[3] != 'NULL' and int(row[3]) == 1:\n",
    "                pubid, pid = row[:2]\n",
    "                if pid in pids:\n",
    "                    if pid not in result:\n",
    "                        result[pid] = set()\n",
    "                    result[pid].add(pubid)\n",
    "        fin.close()\n",
    "    return result\n",
    "\n",
    "pid_to_val_pubid = load_user_annotated()\n",
    "len(pid_to_val_pubid)"
   ]
  },
  {
   "cell_type": "code",
   "execution_count": 5,
   "metadata": {},
   "outputs": [
    {
     "data": {
      "text/plain": [
       "(303901, 6)"
      ]
     },
     "execution_count": 5,
     "metadata": {},
     "output_type": "execute_result"
    }
   ],
   "source": [
    "val_pub_df = pd.read_hdf('results/validation_paper_aft.h5')\n",
    "val_pub_df.shape"
   ]
  },
  {
   "cell_type": "code",
   "execution_count": 6,
   "metadata": {},
   "outputs": [
    {
     "data": {
      "text/html": [
       "<div>\n",
       "<style scoped>\n",
       "    .dataframe tbody tr th:only-of-type {\n",
       "        vertical-align: middle;\n",
       "    }\n",
       "\n",
       "    .dataframe tbody tr th {\n",
       "        vertical-align: top;\n",
       "    }\n",
       "\n",
       "    .dataframe thead th {\n",
       "        text-align: right;\n",
       "    }\n",
       "</style>\n",
       "<table border=\"1\" class=\"dataframe\">\n",
       "  <thead>\n",
       "    <tr style=\"text-align: right;\">\n",
       "      <th></th>\n",
       "      <th>pubid</th>\n",
       "      <th>pmid</th>\n",
       "      <th>doi</th>\n",
       "      <th>doi_pm</th>\n",
       "      <th>doi_norm</th>\n",
       "      <th>mag_pubid</th>\n",
       "    </tr>\n",
       "  </thead>\n",
       "  <tbody>\n",
       "    <tr>\n",
       "      <th>0</th>\n",
       "      <td>32</td>\n",
       "      <td>25671436</td>\n",
       "      <td>10.1371/journal.pone.0117057</td>\n",
       "      <td>10.1371/journal.pone.0117057</td>\n",
       "      <td>10.1371/journal.pone.0117057</td>\n",
       "      <td>1973292391</td>\n",
       "    </tr>\n",
       "  </tbody>\n",
       "</table>\n",
       "</div>"
      ],
      "text/plain": [
       "  pubid      pmid                           doi                        doi_pm  \\\n",
       "0    32  25671436  10.1371/journal.pone.0117057  10.1371/journal.pone.0117057   \n",
       "\n",
       "                       doi_norm   mag_pubid  \n",
       "0  10.1371/journal.pone.0117057  1973292391  "
      ]
     },
     "execution_count": 6,
     "metadata": {},
     "output_type": "execute_result"
    }
   ],
   "source": [
    "val_pub_df.head(1)"
   ]
  },
  {
   "cell_type": "code",
   "execution_count": 7,
   "metadata": {},
   "outputs": [
    {
     "name": "stdout",
     "output_type": "stream",
     "text": [
      "303901\n"
     ]
    },
    {
     "data": {
      "text/plain": [
       "(16453, 3)"
      ]
     },
     "execution_count": 7,
     "metadata": {},
     "output_type": "execute_result"
    }
   ],
   "source": [
    "def get_author_df():\n",
    "    \"\"\"\"\"\"    \n",
    "    aft_to_mag_pubid = dict(zip(val_pub_df.pubid, val_pub_df.mag_pubid))\n",
    "    print(len(aft_to_mag_pubid))\n",
    "    df = people_df[people_df.pid.isin(pid_to_val_pubid)][['pid', 'magaid']].copy().reset_index(drop=True)\n",
    "    df['NumVerifiedMAGPubs'] = df.pid.apply(\n",
    "        lambda x: sum(aft_to_mag_pubid[e] != '' for e in pid_to_val_pubid[x]))\n",
    "    return df\n",
    "\n",
    "aft_author_df = get_author_df()\n",
    "aft_author_df.shape"
   ]
  },
  {
   "cell_type": "code",
   "execution_count": 8,
   "metadata": {},
   "outputs": [
    {
     "data": {
      "text/html": [
       "<div>\n",
       "<style scoped>\n",
       "    .dataframe tbody tr th:only-of-type {\n",
       "        vertical-align: middle;\n",
       "    }\n",
       "\n",
       "    .dataframe tbody tr th {\n",
       "        vertical-align: top;\n",
       "    }\n",
       "\n",
       "    .dataframe thead th {\n",
       "        text-align: right;\n",
       "    }\n",
       "</style>\n",
       "<table border=\"1\" class=\"dataframe\">\n",
       "  <thead>\n",
       "    <tr style=\"text-align: right;\">\n",
       "      <th></th>\n",
       "      <th>pid</th>\n",
       "      <th>magaid</th>\n",
       "      <th>NumVerifiedMAGPubs</th>\n",
       "    </tr>\n",
       "  </thead>\n",
       "  <tbody>\n",
       "    <tr>\n",
       "      <th>0</th>\n",
       "      <td>1</td>\n",
       "      <td>2171827615</td>\n",
       "      <td>48</td>\n",
       "    </tr>\n",
       "  </tbody>\n",
       "</table>\n",
       "</div>"
      ],
      "text/plain": [
       "  pid      magaid  NumVerifiedMAGPubs\n",
       "0   1  2171827615                  48"
      ]
     },
     "execution_count": 8,
     "metadata": {},
     "output_type": "execute_result"
    }
   ],
   "source": [
    "aft_author_df.head(1)"
   ]
  },
  {
   "cell_type": "markdown",
   "metadata": {},
   "source": [
    "## ORCID papers"
   ]
  },
  {
   "cell_type": "code",
   "execution_count": 9,
   "metadata": {},
   "outputs": [
    {
     "data": {
      "text/plain": [
       "(57352, 4)"
      ]
     },
     "execution_count": 9,
     "metadata": {},
     "output_type": "execute_result"
    }
   ],
   "source": [
    "orcid_pub_df = pd.read_hdf('results/validation_paper_orcid.h5')\n",
    "orcid_pub_df.shape"
   ]
  },
  {
   "cell_type": "code",
   "execution_count": 10,
   "metadata": {},
   "outputs": [
    {
     "data": {
      "text/html": [
       "<div>\n",
       "<style scoped>\n",
       "    .dataframe tbody tr th:only-of-type {\n",
       "        vertical-align: middle;\n",
       "    }\n",
       "\n",
       "    .dataframe tbody tr th {\n",
       "        vertical-align: top;\n",
       "    }\n",
       "\n",
       "    .dataframe thead th {\n",
       "        text-align: right;\n",
       "    }\n",
       "</style>\n",
       "<table border=\"1\" class=\"dataframe\">\n",
       "  <thead>\n",
       "    <tr style=\"text-align: right;\">\n",
       "      <th></th>\n",
       "      <th>orcid</th>\n",
       "      <th>title</th>\n",
       "      <th>doi</th>\n",
       "      <th>mag_pubid</th>\n",
       "    </tr>\n",
       "  </thead>\n",
       "  <tbody>\n",
       "    <tr>\n",
       "      <th>0</th>\n",
       "      <td>0000-0001-6251-6000</td>\n",
       "      <td>“Chasing the first high”: memory sampling in d...</td>\n",
       "      <td>10.1038/s41386-019-0594-2</td>\n",
       "      <td>2997307308</td>\n",
       "    </tr>\n",
       "  </tbody>\n",
       "</table>\n",
       "</div>"
      ],
      "text/plain": [
       "                 orcid                                              title  \\\n",
       "0  0000-0001-6251-6000  “Chasing the first high”: memory sampling in d...   \n",
       "\n",
       "                         doi   mag_pubid  \n",
       "0  10.1038/s41386-019-0594-2  2997307308  "
      ]
     },
     "execution_count": 10,
     "metadata": {},
     "output_type": "execute_result"
    }
   ],
   "source": [
    "orcid_pub_df.head(1)"
   ]
  },
  {
   "cell_type": "code",
   "execution_count": 11,
   "metadata": {},
   "outputs": [
    {
     "name": "stdout",
     "output_type": "stream",
     "text": [
      "(1661, 3)\n"
     ]
    },
    {
     "data": {
      "text/plain": [
       "(1661, 4)"
      ]
     },
     "execution_count": 11,
     "metadata": {},
     "output_type": "execute_result"
    }
   ],
   "source": [
    "def get_orcid_author_df():\n",
    "    \"\"\"\"\"\"\n",
    "    df = people_df[people_df.orcid_norm != ''][['pid', 'orcid_norm', 'magaid']].copy().reset_index(drop=True)\n",
    "    print(df.shape)\n",
    "    orcid_to_pubs = orcid_pub_df.groupby('orcid')['mag_pubid'].apply(set).to_dict()\n",
    "    df['NumPubsORCID'] = df.orcid_norm.apply(\n",
    "        lambda x: sum(e != '' for e in orcid_to_pubs[x]) if x in orcid_to_pubs else None)\n",
    "    return df\n",
    "\n",
    "orcid_author_df = get_orcid_author_df()\n",
    "orcid_author_df.shape"
   ]
  },
  {
   "cell_type": "markdown",
   "metadata": {},
   "source": [
    "## Add MAG papers"
   ]
  },
  {
   "cell_type": "code",
   "execution_count": 12,
   "metadata": {},
   "outputs": [
    {
     "data": {
      "text/plain": [
       "15603"
      ]
     },
     "execution_count": 12,
     "metadata": {},
     "output_type": "execute_result"
    }
   ],
   "source": [
    "all_mag_aids = set(e for e in aft_author_df.magaid if e != '') | set(e for e in orcid_author_df.magaid \n",
    "                                                                    if e != '')\n",
    "len(all_mag_aids)"
   ]
  },
  {
   "cell_type": "code",
   "execution_count": 13,
   "metadata": {},
   "outputs": [
    {
     "data": {
      "text/plain": [
       "15603"
      ]
     },
     "execution_count": 13,
     "metadata": {},
     "output_type": "execute_result"
    }
   ],
   "source": [
    "def load_mag_author_pub(mag_aids):\n",
    "    \"\"\"\"\"\"\n",
    "    result = {}\n",
    "    for line in open(join(MAG_DIR, 'authorid_to_paperid.json')):\n",
    "        mag_aid, pubs = json.loads(line)\n",
    "        if mag_aid in mag_aids:\n",
    "            result[mag_aid] = set(pubs)\n",
    "    return result\n",
    "\n",
    "mag_aid_to_pubs = load_mag_author_pub(all_mag_aids)\n",
    "len(mag_aid_to_pubs)"
   ]
  },
  {
   "cell_type": "markdown",
   "metadata": {},
   "source": [
    "For user-varified papers:"
   ]
  },
  {
   "cell_type": "code",
   "execution_count": 15,
   "metadata": {},
   "outputs": [
    {
     "data": {
      "text/plain": [
       "(16453, 4)"
      ]
     },
     "execution_count": 15,
     "metadata": {},
     "output_type": "execute_result"
    }
   ],
   "source": [
    "def get_verified_mag_pub():\n",
    "    \"\"\"\"\"\"\n",
    "    at_to_mag_pubid = dict(zip(val_pub_df.pubid, val_pub_df.mag_pubid))\n",
    "    result = []\n",
    "    for pid, aid in zip(aft_author_df.pid, aft_author_df.magaid):\n",
    "        if aid == '':\n",
    "            result.append(None)\n",
    "        else:\n",
    "            at_pub = set(at_to_mag_pubid[e] for e in pid_to_val_pubid[pid] if at_to_mag_pubid[e] != '')\n",
    "            result.append(len(mag_aid_to_pubs[aid] & at_pub))\n",
    "    aft_author_df['NumVerifiedPubsInMAG'] = result\n",
    "\n",
    "get_verified_mag_pub()\n",
    "aft_author_df.shape"
   ]
  },
  {
   "cell_type": "code",
   "execution_count": 16,
   "metadata": {},
   "outputs": [
    {
     "data": {
      "text/html": [
       "<div>\n",
       "<style scoped>\n",
       "    .dataframe tbody tr th:only-of-type {\n",
       "        vertical-align: middle;\n",
       "    }\n",
       "\n",
       "    .dataframe tbody tr th {\n",
       "        vertical-align: top;\n",
       "    }\n",
       "\n",
       "    .dataframe thead th {\n",
       "        text-align: right;\n",
       "    }\n",
       "</style>\n",
       "<table border=\"1\" class=\"dataframe\">\n",
       "  <thead>\n",
       "    <tr style=\"text-align: right;\">\n",
       "      <th></th>\n",
       "      <th>pid</th>\n",
       "      <th>magaid</th>\n",
       "      <th>NumVerifiedMAGPubs</th>\n",
       "      <th>NumVerifiedPubsInMAG</th>\n",
       "    </tr>\n",
       "  </thead>\n",
       "  <tbody>\n",
       "    <tr>\n",
       "      <th>0</th>\n",
       "      <td>1</td>\n",
       "      <td>2171827615</td>\n",
       "      <td>48</td>\n",
       "      <td>48.0</td>\n",
       "    </tr>\n",
       "  </tbody>\n",
       "</table>\n",
       "</div>"
      ],
      "text/plain": [
       "  pid      magaid  NumVerifiedMAGPubs  NumVerifiedPubsInMAG\n",
       "0   1  2171827615                  48                  48.0"
      ]
     },
     "execution_count": 16,
     "metadata": {},
     "output_type": "execute_result"
    }
   ],
   "source": [
    "aft_author_df.head(1)"
   ]
  },
  {
   "cell_type": "markdown",
   "metadata": {},
   "source": [
    "For ORCID papers:"
   ]
  },
  {
   "cell_type": "code",
   "execution_count": 17,
   "metadata": {},
   "outputs": [
    {
     "data": {
      "text/plain": [
       "(1661, 5)"
      ]
     },
     "execution_count": 17,
     "metadata": {},
     "output_type": "execute_result"
    }
   ],
   "source": [
    "def get_orcid_mag_common_pubs():\n",
    "    \"\"\"\"\"\"\n",
    "    orcid_to_pubs = orcid_pub_df.groupby('orcid')['mag_pubid'].apply(set).to_dict()\n",
    "    result = []\n",
    "    for orcid, mag_aid in zip(orcid_author_df.orcid_norm, orcid_author_df.magaid):\n",
    "        if mag_aid == '' or orcid not in orcid_to_pubs:\n",
    "            result.append(None)\n",
    "        else:\n",
    "            orcid_pubs = set(e for e in orcid_to_pubs[orcid] if e != '')\n",
    "            result.append(len(orcid_pubs & mag_aid_to_pubs[mag_aid]))\n",
    "    orcid_author_df['NumPubsORCIDInMAG'] = result\n",
    "\n",
    "get_orcid_mag_common_pubs()\n",
    "orcid_author_df.shape"
   ]
  },
  {
   "cell_type": "code",
   "execution_count": 18,
   "metadata": {},
   "outputs": [
    {
     "data": {
      "text/html": [
       "<div>\n",
       "<style scoped>\n",
       "    .dataframe tbody tr th:only-of-type {\n",
       "        vertical-align: middle;\n",
       "    }\n",
       "\n",
       "    .dataframe tbody tr th {\n",
       "        vertical-align: top;\n",
       "    }\n",
       "\n",
       "    .dataframe thead th {\n",
       "        text-align: right;\n",
       "    }\n",
       "</style>\n",
       "<table border=\"1\" class=\"dataframe\">\n",
       "  <thead>\n",
       "    <tr style=\"text-align: right;\">\n",
       "      <th></th>\n",
       "      <th>pid</th>\n",
       "      <th>orcid_norm</th>\n",
       "      <th>magaid</th>\n",
       "      <th>NumPubsORCID</th>\n",
       "      <th>NumPubsORCIDInMAG</th>\n",
       "    </tr>\n",
       "  </thead>\n",
       "  <tbody>\n",
       "    <tr>\n",
       "      <th>0</th>\n",
       "      <td>1</td>\n",
       "      <td>0000-0003-4135-3104</td>\n",
       "      <td>2171827615</td>\n",
       "      <td>41.0</td>\n",
       "      <td>41.0</td>\n",
       "    </tr>\n",
       "  </tbody>\n",
       "</table>\n",
       "</div>"
      ],
      "text/plain": [
       "  pid           orcid_norm      magaid  NumPubsORCID  NumPubsORCIDInMAG\n",
       "0   1  0000-0003-4135-3104  2171827615          41.0               41.0"
      ]
     },
     "execution_count": 18,
     "metadata": {},
     "output_type": "execute_result"
    }
   ],
   "source": [
    "orcid_author_df.head(1)"
   ]
  },
  {
   "cell_type": "code",
   "execution_count": 21,
   "metadata": {},
   "outputs": [
    {
     "name": "stdout",
     "output_type": "stream",
     "text": [
      "(14824, 4)\n",
      "(1262, 5)\n"
     ]
    },
    {
     "data": {
      "image/png": "[encoded data removed]",
      "text/plain": [
       "<Figure size 576x288 with 2 Axes>"
      ]
     },
     "metadata": {},
     "output_type": "display_data"
    }
   ],
   "source": [
    "def plot_validation():\n",
    "    \"\"\"\"\"\"\n",
    "    fig = plt.figure(figsize=(8,4))\n",
    "    ax = plt.subplot2grid((1,2), (0,0))\n",
    "    df = aft_author_df[(aft_author_df.magaid != '') & \n",
    "                       (aft_author_df.NumVerifiedMAGPubs > 0)] # at least 1 verified MAG paper\n",
    "    print(df.shape)\n",
    "    data = df.NumVerifiedPubsInMAG / df.NumVerifiedMAGPubs\n",
    "    ax.hist(data)\n",
    "    ax.text(.05, .9, 'A', transform=ax.transAxes, fontsize=14)\n",
    "    ax.set_title('Researchers with verified papers')\n",
    "    ax.set(xlabel='$O$', ylabel='Number of researchers')\n",
    "    #\n",
    "    ax = plt.subplot2grid((1,2), (0,1))\n",
    "    df = orcid_author_df[(orcid_author_df.magaid != '') & \n",
    "                         (orcid_author_df.NumPubsORCID) > 0] # at least 1 ORCID paper in MAG\n",
    "    print(df.shape)\n",
    "    data = df.NumPubsORCIDInMAG / df.NumPubsORCID\n",
    "    ax.hist(data)\n",
    "    ax.text(.05, .9, 'B', transform=ax.transAxes, fontsize=14)\n",
    "    ax.set_title('Researchers with ORCID')\n",
    "    ax.set(xlabel='$O$')\n",
    "    plt.savefig('fig/aft_to_mag_author_val.pdf', bbox_inches='tight')\n",
    "\n",
    "plot_validation()"
   ]
  },
  {
   "cell_type": "code",
   "execution_count": null,
   "metadata": {},
   "outputs": [],
   "source": []
  }
 ],
 "metadata": {
  "kernelspec": {
   "display_name": "Python 3",
   "language": "python",
   "name": "python3"
  },
  "language_info": {
   "codemirror_mode": {
    "name": "ipython",
    "version": 3
   },
   "file_extension": ".py",
   "mimetype": "text/x-python",
   "name": "python",
   "nbconvert_exporter": "python",
   "pygments_lexer": "ipython3",
   "version": "3.6.9"
  },
  "toc": {
   "base_numbering": 1,
   "nav_menu": {},
   "number_sections": true,
   "sideBar": true,
   "skip_h1_title": false,
   "title_cell": "Table of Contents",
   "title_sidebar": "Contents",
   "toc_cell": false,
   "toc_position": {},
   "toc_section_display": true,
   "toc_window_display": true
  }
 },
 "nbformat": 4,
 "nbformat_minor": 4
}
