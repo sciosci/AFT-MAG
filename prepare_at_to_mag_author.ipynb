{
 "cells": [
  {
   "cell_type": "code",
   "execution_count": 1,
   "metadata": {},
   "outputs": [],
   "source": [
    "import pandas as pd\n",
    "import random\n",
    "import simplejson as json\n",
    "import unidecode\n",
    "\n",
    "from itertools import combinations, product\n",
    "from os.path import join\n",
    "\n",
    "DATA_DIR = '/home/qke100/su-data/academic-tree/'"
   ]
  },
  {
   "cell_type": "markdown",
   "metadata": {},
   "source": [
    "## Name variation"
   ]
  },
  {
   "cell_type": "code",
   "execution_count": 2,
   "metadata": {},
   "outputs": [
    {
     "data": {
      "text/plain": [
       "(759676, 10)"
      ]
     },
     "execution_count": 2,
     "metadata": {},
     "output_type": "execute_result"
    }
   ],
   "source": [
    "people_df = pd.read_hdf('dataset/people_df.h5')\n",
    "people_df.shape"
   ]
  },
  {
   "cell_type": "code",
   "execution_count": 3,
   "metadata": {},
   "outputs": [
    {
     "data": {
      "text/html": [
       "<div>\n",
       "<style scoped>\n",
       "    .dataframe tbody tr th:only-of-type {\n",
       "        vertical-align: middle;\n",
       "    }\n",
       "\n",
       "    .dataframe tbody tr th {\n",
       "        vertical-align: top;\n",
       "    }\n",
       "\n",
       "    .dataframe thead th {\n",
       "        text-align: right;\n",
       "    }\n",
       "</style>\n",
       "<table border=\"1\" class=\"dataframe\">\n",
       "  <thead>\n",
       "    <tr style=\"text-align: right;\">\n",
       "      <th></th>\n",
       "      <th>pid</th>\n",
       "      <th>firstname</th>\n",
       "      <th>middlename</th>\n",
       "      <th>lastname</th>\n",
       "      <th>degrees</th>\n",
       "      <th>majorarea</th>\n",
       "      <th>orcid</th>\n",
       "      <th>orcid_norm</th>\n",
       "      <th>firstname_norm</th>\n",
       "      <th>gender</th>\n",
       "    </tr>\n",
       "  </thead>\n",
       "  <tbody>\n",
       "    <tr>\n",
       "      <th>569663</th>\n",
       "      <td>607467</td>\n",
       "      <td>Tom</td>\n",
       "      <td></td>\n",
       "      <td>Widiger</td>\n",
       "      <td></td>\n",
       "      <td>neuro</td>\n",
       "      <td></td>\n",
       "      <td></td>\n",
       "      <td>Tom</td>\n",
       "      <td>M</td>\n",
       "    </tr>\n",
       "    <tr>\n",
       "      <th>102489</th>\n",
       "      <td>114667</td>\n",
       "      <td>Julia</td>\n",
       "      <td>Q.</td>\n",
       "      <td>Davis</td>\n",
       "      <td>Ph.D.</td>\n",
       "      <td>neuro</td>\n",
       "      <td></td>\n",
       "      <td></td>\n",
       "      <td>Julia</td>\n",
       "      <td>F</td>\n",
       "    </tr>\n",
       "    <tr>\n",
       "      <th>467247</th>\n",
       "      <td>503836</td>\n",
       "      <td>Sied</td>\n",
       "      <td>W.</td>\n",
       "      <td>Janna</td>\n",
       "      <td>Ph.D.</td>\n",
       "      <td>biomech</td>\n",
       "      <td></td>\n",
       "      <td></td>\n",
       "      <td>Sied</td>\n",
       "      <td>M</td>\n",
       "    </tr>\n",
       "    <tr>\n",
       "      <th>280518</th>\n",
       "      <td>310960</td>\n",
       "      <td>Sylvia</td>\n",
       "      <td></td>\n",
       "      <td>Linan-Thompson</td>\n",
       "      <td></td>\n",
       "      <td>educ</td>\n",
       "      <td></td>\n",
       "      <td></td>\n",
       "      <td>Sylvia</td>\n",
       "      <td>F</td>\n",
       "    </tr>\n",
       "    <tr>\n",
       "      <th>74043</th>\n",
       "      <td>83631</td>\n",
       "      <td>Juan</td>\n",
       "      <td></td>\n",
       "      <td>Bornman</td>\n",
       "      <td>Ph.D.</td>\n",
       "      <td>csd</td>\n",
       "      <td></td>\n",
       "      <td></td>\n",
       "      <td>Juan</td>\n",
       "      <td>M</td>\n",
       "    </tr>\n",
       "  </tbody>\n",
       "</table>\n",
       "</div>"
      ],
      "text/plain": [
       "           pid firstname middlename        lastname degrees majorarea orcid  \\\n",
       "569663  607467       Tom                    Widiger             neuro         \n",
       "102489  114667     Julia         Q.           Davis   Ph.D.     neuro         \n",
       "467247  503836      Sied         W.           Janna   Ph.D.   biomech         \n",
       "280518  310960    Sylvia             Linan-Thompson              educ         \n",
       "74043    83631     Juan                     Bornman   Ph.D.       csd         \n",
       "\n",
       "       orcid_norm firstname_norm gender  \n",
       "569663                       Tom      M  \n",
       "102489                     Julia      F  \n",
       "467247                      Sied      M  \n",
       "280518                    Sylvia      F  \n",
       "74043                       Juan      M  "
      ]
     },
     "execution_count": 3,
     "metadata": {},
     "output_type": "execute_result"
    }
   ],
   "source": [
    "people_df.sample(5)"
   ]
  },
  {
   "cell_type": "code",
   "execution_count": 4,
   "metadata": {},
   "outputs": [
    {
     "data": {
      "text/plain": [
       "pid               object\n",
       "firstname         object\n",
       "middlename        object\n",
       "lastname          object\n",
       "degrees           object\n",
       "majorarea         object\n",
       "orcid             object\n",
       "orcid_norm        object\n",
       "firstname_norm    object\n",
       "gender            object\n",
       "dtype: object"
      ]
     },
     "execution_count": 4,
     "metadata": {},
     "output_type": "execute_result"
    }
   ],
   "source": [
    "people_df.dtypes"
   ]
  },
  {
   "cell_type": "code",
   "execution_count": 5,
   "metadata": {},
   "outputs": [
    {
     "name": "stdout",
     "output_type": "stream",
     "text": [
      "{'full': ('BENJAMIN', 'Y', 'HAYDEN'), 'no_mid': ('BENJAMIN', 'HAYDEN')}\n",
      "{'full': ('BENJAMIN', '', 'WILLMORE')}\n",
      "{'full': ('JOHN', 'HR', 'MAUNSELL'), 'mid_init': ('JOHN', 'H', 'MAUNSELL'), 'no_mid': ('JOHN', 'MAUNSELL')}\n",
      "{'full': ('JOHN', 'CAREW', 'ECCLES'), 'mid_init': ('JOHN', 'C', 'ECCLES'), 'no_mid': ('JOHN', 'ECCLES')}\n",
      "{'full': ('J', 'DAVID', 'SWEATT')}\n",
      "{'full': ('JÖRN', '', 'DIEDRICHSEN'), 'full_norm': ('JORN', '', 'DIEDRICHSEN')}\n",
      "{'full': ('RODOLFO', 'R', 'LLINÁS'), 'no_mid': ('RODOLFO', 'LLINÁS'), 'full_norm': ('RODOLFO', 'R', 'LLINAS'), 'no_mid_norm': ('RODOLFO', 'LLINAS')}\n"
     ]
    }
   ],
   "source": [
    "def get_at_name_var(first, middle, last):\n",
    "    \"\"\"Return name variation\"\"\"\n",
    "    first = first.upper().replace('.', '')\n",
    "    if first != 'SIR' and first.startswith('SIR '):\n",
    "        first = first[4:]\n",
    "    middle = middle.upper().replace('.', '')\n",
    "    last = last.upper()\n",
    "    result = {'full': (first, middle, last)}\n",
    "    if len(first) > 1:\n",
    "        if len(middle) > 1:\n",
    "            result['mid_init'] = (first, middle[:1], last)\n",
    "        if len(middle) > 0:\n",
    "            result['no_mid'] = (first, last)\n",
    "    fu = unidecode.unidecode(first)\n",
    "    mu = unidecode.unidecode(middle)\n",
    "    lu = unidecode.unidecode(last)\n",
    "    if fu != first or mu != middle or lu != last:\n",
    "        result['full_norm'] = (fu, mu, lu)\n",
    "        if len(fu) > 1:\n",
    "            if len(mu) > 1:\n",
    "                result['mid_init_norm'] = (fu, mu[:1], lu)\n",
    "            if len(mu) > 0:\n",
    "                result['no_mid_norm'] = (fu, lu)\n",
    "    return result\n",
    "\n",
    "print(\n",
    "    get_at_name_var('Benjamin', 'Y.', 'Hayden'),\n",
    "    get_at_name_var('Benjamin', '', 'Willmore'),\n",
    "    get_at_name_var('John', 'HR', 'Maunsell'),\n",
    "    get_at_name_var('Sir John', 'Carew', 'Eccles'),\n",
    "    get_at_name_var('J.', 'David', 'Sweatt'),\n",
    "    get_at_name_var('Jörn', '', 'Diedrichsen'),\n",
    "    get_at_name_var('Rodolfo', 'R.', 'Llinás'),\n",
    "    sep='\\n')"
   ]
  },
  {
   "cell_type": "code",
   "execution_count": 7,
   "metadata": {},
   "outputs": [
    {
     "data": {
      "text/plain": [
       "759676"
      ]
     },
     "execution_count": 7,
     "metadata": {},
     "output_type": "execute_result"
    }
   ],
   "source": [
    "pid_to_name_var = {\n",
    "    pid: get_at_name_var(first, middle, last)\n",
    "    for first, middle, last, pid in zip(*[people_df[c] for c in ['firstname_norm', 'middlename', \n",
    "                                                                 'lastname','pid']])}\n",
    "len(pid_to_name_var)"
   ]
  },
  {
   "cell_type": "markdown",
   "metadata": {},
   "source": [
    "## Combinations of name pair"
   ]
  },
  {
   "cell_type": "code",
   "execution_count": 8,
   "metadata": {},
   "outputs": [
    {
     "data": {
      "text/plain": [
       "(722872, 6)"
      ]
     },
     "execution_count": 8,
     "metadata": {},
     "output_type": "execute_result"
    }
   ],
   "source": [
    "conn_df = pd.read_hdf('dataset/connect_df.h5')\n",
    "conn_df.shape"
   ]
  },
  {
   "cell_type": "code",
   "execution_count": 9,
   "metadata": {},
   "outputs": [
    {
     "data": {
      "text/html": [
       "<div>\n",
       "<style scoped>\n",
       "    .dataframe tbody tr th:only-of-type {\n",
       "        vertical-align: middle;\n",
       "    }\n",
       "\n",
       "    .dataframe tbody tr th {\n",
       "        vertical-align: top;\n",
       "    }\n",
       "\n",
       "    .dataframe thead th {\n",
       "        text-align: right;\n",
       "    }\n",
       "</style>\n",
       "<table border=\"1\" class=\"dataframe\">\n",
       "  <thead>\n",
       "    <tr style=\"text-align: right;\">\n",
       "      <th></th>\n",
       "      <th>cid</th>\n",
       "      <th>pid1</th>\n",
       "      <th>pid2</th>\n",
       "      <th>relation</th>\n",
       "      <th>location</th>\n",
       "      <th>locid</th>\n",
       "    </tr>\n",
       "  </thead>\n",
       "  <tbody>\n",
       "    <tr>\n",
       "      <th>712088</th>\n",
       "      <td>1695089</td>\n",
       "      <td>815066</td>\n",
       "      <td>815067</td>\n",
       "      <td>1</td>\n",
       "      <td>Université de Liège</td>\n",
       "      <td>3303</td>\n",
       "    </tr>\n",
       "    <tr>\n",
       "      <th>144745</th>\n",
       "      <td>311992</td>\n",
       "      <td>138189</td>\n",
       "      <td>58956</td>\n",
       "      <td>1</td>\n",
       "      <td>State University of New York, Buffalo</td>\n",
       "      <td>285</td>\n",
       "    </tr>\n",
       "    <tr>\n",
       "      <th>336171</th>\n",
       "      <td>751328</td>\n",
       "      <td>374979</td>\n",
       "      <td>367843</td>\n",
       "      <td>1</td>\n",
       "      <td>University of Houston</td>\n",
       "      <td>384</td>\n",
       "    </tr>\n",
       "    <tr>\n",
       "      <th>534615</th>\n",
       "      <td>1234985</td>\n",
       "      <td>653500</td>\n",
       "      <td>648556</td>\n",
       "      <td>1</td>\n",
       "      <td>University of Louisiana at Lafayette</td>\n",
       "      <td>3783</td>\n",
       "    </tr>\n",
       "    <tr>\n",
       "      <th>624863</th>\n",
       "      <td>1468354</td>\n",
       "      <td>750148</td>\n",
       "      <td>750147</td>\n",
       "      <td>1</td>\n",
       "      <td>Harvard University</td>\n",
       "      <td>86</td>\n",
       "    </tr>\n",
       "  </tbody>\n",
       "</table>\n",
       "</div>"
      ],
      "text/plain": [
       "            cid    pid1    pid2  relation  \\\n",
       "712088  1695089  815066  815067         1   \n",
       "144745   311992  138189   58956         1   \n",
       "336171   751328  374979  367843         1   \n",
       "534615  1234985  653500  648556         1   \n",
       "624863  1468354  750148  750147         1   \n",
       "\n",
       "                                     location  locid  \n",
       "712088                    Université de Liège   3303  \n",
       "144745  State University of New York, Buffalo    285  \n",
       "336171                  University of Houston    384  \n",
       "534615   University of Louisiana at Lafayette   3783  \n",
       "624863                     Harvard University     86  "
      ]
     },
     "execution_count": 9,
     "metadata": {},
     "output_type": "execute_result"
    }
   ],
   "source": [
    "conn_df.sample(5)"
   ]
  },
  {
   "cell_type": "code",
   "execution_count": 10,
   "metadata": {},
   "outputs": [
    {
     "data": {
      "text/plain": [
       "cid          int64\n",
       "pid1        object\n",
       "pid2        object\n",
       "relation     int64\n",
       "location    object\n",
       "locid        int64\n",
       "dtype: object"
      ]
     },
     "execution_count": 10,
     "metadata": {},
     "output_type": "execute_result"
    }
   ],
   "source": [
    "conn_df.dtypes"
   ]
  },
  {
   "cell_type": "code",
   "execution_count": 11,
   "metadata": {},
   "outputs": [
    {
     "data": {
      "text/plain": [
       "(1914449, 8)"
      ]
     },
     "execution_count": 11,
     "metadata": {},
     "output_type": "execute_result"
    }
   ],
   "source": [
    "def get_name_pairs():\n",
    "    \"\"\"\"\"\"\n",
    "    result = []\n",
    "    for cid, pid1, pid2 in zip(conn_df.cid, conn_df.pid1, conn_df.pid2):\n",
    "        names_1 = pid_to_name_var[pid1]\n",
    "        names_2 = pid_to_name_var[pid2]\n",
    "        for sub_id, (k1, k2) in enumerate(product(names_1.keys(), names_2.keys()), 1):\n",
    "            row = [cid, pid1, pid2, '%d_%d' % (cid, sub_id), names_1[k1], names_2[k2], k1, k2]\n",
    "            result.append(row)\n",
    "    col = ['cid', 'pid1', 'pid2', 'vid', 'name1', 'name2', 'name1VarCode', 'name2VarCode']\n",
    "    return pd.DataFrame(result, columns=col)\n",
    "\n",
    "conn_name_df = get_name_pairs()\n",
    "conn_name_df.shape"
   ]
  },
  {
   "cell_type": "code",
   "execution_count": 12,
   "metadata": {},
   "outputs": [
    {
     "data": {
      "text/html": [
       "<div>\n",
       "<style scoped>\n",
       "    .dataframe tbody tr th:only-of-type {\n",
       "        vertical-align: middle;\n",
       "    }\n",
       "\n",
       "    .dataframe tbody tr th {\n",
       "        vertical-align: top;\n",
       "    }\n",
       "\n",
       "    .dataframe thead th {\n",
       "        text-align: right;\n",
       "    }\n",
       "</style>\n",
       "<table border=\"1\" class=\"dataframe\">\n",
       "  <thead>\n",
       "    <tr style=\"text-align: right;\">\n",
       "      <th></th>\n",
       "      <th>cid</th>\n",
       "      <th>pid1</th>\n",
       "      <th>pid2</th>\n",
       "      <th>vid</th>\n",
       "      <th>name1</th>\n",
       "      <th>name2</th>\n",
       "      <th>name1VarCode</th>\n",
       "      <th>name2VarCode</th>\n",
       "    </tr>\n",
       "  </thead>\n",
       "  <tbody>\n",
       "    <tr>\n",
       "      <th>0</th>\n",
       "      <td>2</td>\n",
       "      <td>2</td>\n",
       "      <td>3</td>\n",
       "      <td>2_1</td>\n",
       "      <td>(BENJAMIN, Y, HAYDEN)</td>\n",
       "      <td>(JACK, L, GALLANT)</td>\n",
       "      <td>full</td>\n",
       "      <td>full</td>\n",
       "    </tr>\n",
       "    <tr>\n",
       "      <th>1</th>\n",
       "      <td>2</td>\n",
       "      <td>2</td>\n",
       "      <td>3</td>\n",
       "      <td>2_2</td>\n",
       "      <td>(BENJAMIN, Y, HAYDEN)</td>\n",
       "      <td>(JACK, GALLANT)</td>\n",
       "      <td>full</td>\n",
       "      <td>no_mid</td>\n",
       "    </tr>\n",
       "    <tr>\n",
       "      <th>2</th>\n",
       "      <td>2</td>\n",
       "      <td>2</td>\n",
       "      <td>3</td>\n",
       "      <td>2_3</td>\n",
       "      <td>(BENJAMIN, HAYDEN)</td>\n",
       "      <td>(JACK, L, GALLANT)</td>\n",
       "      <td>no_mid</td>\n",
       "      <td>full</td>\n",
       "    </tr>\n",
       "    <tr>\n",
       "      <th>3</th>\n",
       "      <td>2</td>\n",
       "      <td>2</td>\n",
       "      <td>3</td>\n",
       "      <td>2_4</td>\n",
       "      <td>(BENJAMIN, HAYDEN)</td>\n",
       "      <td>(JACK, GALLANT)</td>\n",
       "      <td>no_mid</td>\n",
       "      <td>no_mid</td>\n",
       "    </tr>\n",
       "  </tbody>\n",
       "</table>\n",
       "</div>"
      ],
      "text/plain": [
       "   cid pid1 pid2  vid                  name1               name2 name1VarCode  \\\n",
       "0    2    2    3  2_1  (BENJAMIN, Y, HAYDEN)  (JACK, L, GALLANT)         full   \n",
       "1    2    2    3  2_2  (BENJAMIN, Y, HAYDEN)     (JACK, GALLANT)         full   \n",
       "2    2    2    3  2_3     (BENJAMIN, HAYDEN)  (JACK, L, GALLANT)       no_mid   \n",
       "3    2    2    3  2_4     (BENJAMIN, HAYDEN)     (JACK, GALLANT)       no_mid   \n",
       "\n",
       "  name2VarCode  \n",
       "0         full  \n",
       "1       no_mid  \n",
       "2         full  \n",
       "3       no_mid  "
      ]
     },
     "execution_count": 12,
     "metadata": {},
     "output_type": "execute_result"
    }
   ],
   "source": [
    "conn_name_df[conn_name_df.cid == 2]"
   ]
  },
  {
   "cell_type": "markdown",
   "metadata": {},
   "source": [
    "## Match with MAG\n",
    "\n",
    "Scan MAG papers where both authors are in the author list:"
   ]
  },
  {
   "cell_type": "code",
   "execution_count": 13,
   "metadata": {},
   "outputs": [
    {
     "data": {
      "text/plain": [
       "1904039"
      ]
     },
     "execution_count": 13,
     "metadata": {},
     "output_type": "execute_result"
    }
   ],
   "source": [
    "at_name_pair_to_vids = conn_name_df.groupby(['name1', 'name2'])['vid'].apply(list).to_dict()\n",
    "len(at_name_pair_to_vids)"
   ]
  },
  {
   "cell_type": "code",
   "execution_count": 14,
   "metadata": {},
   "outputs": [
    {
     "data": {
      "text/plain": [
       "['2_1']"
      ]
     },
     "execution_count": 14,
     "metadata": {},
     "output_type": "execute_result"
    }
   ],
   "source": [
    "at_name_pair_to_vids[('BENJAMIN', 'Y', 'HAYDEN'), ('JACK', 'L', 'GALLANT')]"
   ]
  },
  {
   "cell_type": "code",
   "execution_count": 15,
   "metadata": {},
   "outputs": [],
   "source": [
    "name_var_codes = ['full', 'full_norm', 'mid_init', 'mid_init_norm', 'no_mid', 'no_mid_norm']\n",
    "\n",
    "def update_dict(data_dict, key, val_ele):\n",
    "    \"\"\"\"\"\"\n",
    "    if key not in data_dict:\n",
    "        data_dict[key] = []\n",
    "    data_dict[key].append(val_ele)\n",
    "\n",
    "def get_mag_name_var(first, middle, last):\n",
    "    \"\"\"Return name variation\"\"\"\n",
    "    first = first.replace('.', '')\n",
    "    middle = middle.replace('.', '')\n",
    "    result = {'full': (first, middle, last)}    \n",
    "    if len(first) > 1:\n",
    "        if len(middle) > 1:\n",
    "            result['mid_init'] = (first, middle[:1], last)\n",
    "        if len(middle) > 0:\n",
    "            result['no_mid'] = (first, last)\n",
    "    fu = unidecode.unidecode(first)\n",
    "    mu = unidecode.unidecode(middle)\n",
    "    lu = unidecode.unidecode(last)\n",
    "    if fu != first or mu != middle or lu != last:\n",
    "        result['full_norm'] = (fu, mu, lu)\n",
    "        if len(fu) > 1:\n",
    "            if len(mu) > 1:\n",
    "                result['mid_init_norm'] = (fu, mu[:1], lu)\n",
    "            if len(mu) > 0:\n",
    "                result['no_mid_norm'] = (fu, lu)\n",
    "    return result\n",
    "\n",
    "def match_each_paper(mag_pid, mag_authors, match_result):\n",
    "    \"\"\"\"\"\"\n",
    "    already = set()\n",
    "    author_names = []\n",
    "    for seq, aid, full_name, affil, (first, middle, last) in mag_authors: \n",
    "        if seq not in already: # authors may have multiple affiliations\n",
    "            author_names.append((seq, aid, get_mag_name_var(first, middle, last)))\n",
    "            already.add(seq)\n",
    "    for a1, a2 in combinations(author_names, 2):\n",
    "        names_1, names_2 = a1[2], a2[2]\n",
    "        codes_1 = [k for k in name_var_codes if k in names_1]\n",
    "        codes_2 = [k for k in name_var_codes if k in names_2]\n",
    "        for k1, k2 in product(codes_1, codes_2):\n",
    "            key = (names_1[k1], names_2[k2])\n",
    "            if key in at_name_pair_to_vids:\n",
    "                update_dict(match_result, key, (mag_pid, (a1[0], a1[1], k1), (a2[0], a2[1], k2)))\n",
    "                break\n",
    "\n",
    "def match_mag(mag_inpath, sample_prob=None):\n",
    "    \"\"\"\"\"\"\n",
    "    result = {}\n",
    "    for idx, line in enumerate(open(mag_inpath), 1):\n",
    "        if idx % 1000000 == 0:\n",
    "            print('%d: %d' % (idx, len(result)), end='')\n",
    "            print('\\r', end='')\n",
    "        if sample_prob is None or random.random() < sample_prob:\n",
    "            mag_pid, mag_authors = json.loads(line)\n",
    "            match_each_paper(mag_pid, mag_authors, result)\n",
    "    print('')\n",
    "    return result"
   ]
  },
  {
   "cell_type": "code",
   "execution_count": 16,
   "metadata": {},
   "outputs": [
    {
     "name": "stdout",
     "output_type": "stream",
     "text": [
      "86000000: 241026\n"
     ]
    },
    {
     "data": {
      "text/plain": [
       "241608"
      ]
     },
     "execution_count": 16,
     "metadata": {},
     "output_type": "execute_result"
    }
   ],
   "source": [
    "# match journal papers\n",
    "match_result_jnl = match_mag('/home/qke100/ke-data/dataset-MAG/paper_author_Journal_parsed.txt')\n",
    "len(match_result_jnl)"
   ]
  },
  {
   "cell_type": "code",
   "execution_count": 17,
   "metadata": {},
   "outputs": [
    {
     "name": "stdout",
     "output_type": "stream",
     "text": [
      "4000000: 19963\n"
     ]
    },
    {
     "data": {
      "text/plain": [
       "20839"
      ]
     },
     "execution_count": 17,
     "metadata": {},
     "output_type": "execute_result"
    }
   ],
   "source": [
    "# match conference papers\n",
    "match_result_conf = match_mag('/home/qke100/ke-data/dataset-MAG/paper_author_Conference_parsed.txt')\n",
    "len(match_result_conf)"
   ]
  },
  {
   "cell_type": "code",
   "execution_count": 18,
   "metadata": {},
   "outputs": [
    {
     "data": {
      "text/plain": [
       "[('1982956265', (2, '2082172561', 'full'), (4, '2110165986', 'full')),\n",
       " ('2028047007', (2, '2082172561', 'full'), (3, '2110165986', 'full')),\n",
       " ('2099224730', (1, '2082172561', 'full'), (2, '2110165986', 'full')),\n",
       " ('2114854701', (1, '2082172561', 'full'), (2, '2110165986', 'full')),\n",
       " ('2128412813', (1, '2082172561', 'full'), (2, '2110165986', 'full'))]"
      ]
     },
     "execution_count": 18,
     "metadata": {},
     "output_type": "execute_result"
    }
   ],
   "source": [
    "match_result_jnl[('BENJAMIN', 'Y', 'HAYDEN'), ('JACK', 'L', 'GALLANT')]"
   ]
  },
  {
   "cell_type": "code",
   "execution_count": 19,
   "metadata": {},
   "outputs": [
    {
     "data": {
      "text/plain": [
       "True"
      ]
     },
     "execution_count": 19,
     "metadata": {},
     "output_type": "execute_result"
    }
   ],
   "source": [
    "(('BENJAMIN', 'Y', 'HAYDEN'), ('JACK', 'GALLANT')) not in match_result_jnl"
   ]
  },
  {
   "cell_type": "code",
   "execution_count": 20,
   "metadata": {},
   "outputs": [
    {
     "data": {
      "text/plain": [
       "True"
      ]
     },
     "execution_count": 20,
     "metadata": {},
     "output_type": "execute_result"
    }
   ],
   "source": [
    "(('BENJAMIN', 'HAYDEN'), ('JACK', 'GALLANT')) not in match_result_jnl"
   ]
  },
  {
   "cell_type": "code",
   "execution_count": 21,
   "metadata": {},
   "outputs": [
    {
     "data": {
      "text/plain": [
       "(1172748, 13)"
      ]
     },
     "execution_count": 21,
     "metadata": {},
     "output_type": "execute_result"
    }
   ],
   "source": [
    "def get_conn_authorship():\n",
    "    \"\"\"Return co-authored papers of mentorship\"\"\"\n",
    "    rows = []\n",
    "    columns = ['cid', 'pid1', 'pid2', 'vid', 'name1', 'name2']\n",
    "    for e in zip(*[conn_name_df[c] for c in columns]):\n",
    "        key = (e[4], e[5])\n",
    "        if len(at_name_pair_to_vids[key]) == 1:\n",
    "            for match_result in [match_result_jnl, match_result_conf]:\n",
    "                if key in match_result:\n",
    "                    for pid, a_1, a_2 in match_result[key]:\n",
    "                        rows.append(list(e) + [pid] + list(a_1) + list(a_2))\n",
    "    col = columns + ['mag_pid','mag_seq_1','mag_aid_1','mag_name_var_1','mag_seq_2','mag_aid_2','mag_name_var_2']\n",
    "    return pd.DataFrame(rows, columns=col)\n",
    "\n",
    "matched_authorship_df = get_conn_authorship()\n",
    "matched_authorship_df.shape"
   ]
  },
  {
   "cell_type": "code",
   "execution_count": 22,
   "metadata": {},
   "outputs": [
    {
     "data": {
      "text/html": [
       "<div>\n",
       "<style scoped>\n",
       "    .dataframe tbody tr th:only-of-type {\n",
       "        vertical-align: middle;\n",
       "    }\n",
       "\n",
       "    .dataframe tbody tr th {\n",
       "        vertical-align: top;\n",
       "    }\n",
       "\n",
       "    .dataframe thead th {\n",
       "        text-align: right;\n",
       "    }\n",
       "</style>\n",
       "<table border=\"1\" class=\"dataframe\">\n",
       "  <thead>\n",
       "    <tr style=\"text-align: right;\">\n",
       "      <th></th>\n",
       "      <th>cid</th>\n",
       "      <th>pid1</th>\n",
       "      <th>pid2</th>\n",
       "      <th>vid</th>\n",
       "      <th>name1</th>\n",
       "      <th>name2</th>\n",
       "      <th>mag_pid</th>\n",
       "      <th>mag_seq_1</th>\n",
       "      <th>mag_aid_1</th>\n",
       "      <th>mag_name_var_1</th>\n",
       "      <th>mag_seq_2</th>\n",
       "      <th>mag_aid_2</th>\n",
       "      <th>mag_name_var_2</th>\n",
       "    </tr>\n",
       "  </thead>\n",
       "  <tbody>\n",
       "    <tr>\n",
       "      <th>0</th>\n",
       "      <td>2</td>\n",
       "      <td>2</td>\n",
       "      <td>3</td>\n",
       "      <td>2_1</td>\n",
       "      <td>(BENJAMIN, Y, HAYDEN)</td>\n",
       "      <td>(JACK, L, GALLANT)</td>\n",
       "      <td>1982956265</td>\n",
       "      <td>2</td>\n",
       "      <td>2082172561</td>\n",
       "      <td>full</td>\n",
       "      <td>4</td>\n",
       "      <td>2110165986</td>\n",
       "      <td>full</td>\n",
       "    </tr>\n",
       "    <tr>\n",
       "      <th>1</th>\n",
       "      <td>2</td>\n",
       "      <td>2</td>\n",
       "      <td>3</td>\n",
       "      <td>2_1</td>\n",
       "      <td>(BENJAMIN, Y, HAYDEN)</td>\n",
       "      <td>(JACK, L, GALLANT)</td>\n",
       "      <td>2028047007</td>\n",
       "      <td>2</td>\n",
       "      <td>2082172561</td>\n",
       "      <td>full</td>\n",
       "      <td>3</td>\n",
       "      <td>2110165986</td>\n",
       "      <td>full</td>\n",
       "    </tr>\n",
       "    <tr>\n",
       "      <th>2</th>\n",
       "      <td>2</td>\n",
       "      <td>2</td>\n",
       "      <td>3</td>\n",
       "      <td>2_1</td>\n",
       "      <td>(BENJAMIN, Y, HAYDEN)</td>\n",
       "      <td>(JACK, L, GALLANT)</td>\n",
       "      <td>2099224730</td>\n",
       "      <td>1</td>\n",
       "      <td>2082172561</td>\n",
       "      <td>full</td>\n",
       "      <td>2</td>\n",
       "      <td>2110165986</td>\n",
       "      <td>full</td>\n",
       "    </tr>\n",
       "    <tr>\n",
       "      <th>3</th>\n",
       "      <td>2</td>\n",
       "      <td>2</td>\n",
       "      <td>3</td>\n",
       "      <td>2_1</td>\n",
       "      <td>(BENJAMIN, Y, HAYDEN)</td>\n",
       "      <td>(JACK, L, GALLANT)</td>\n",
       "      <td>2114854701</td>\n",
       "      <td>1</td>\n",
       "      <td>2082172561</td>\n",
       "      <td>full</td>\n",
       "      <td>2</td>\n",
       "      <td>2110165986</td>\n",
       "      <td>full</td>\n",
       "    </tr>\n",
       "    <tr>\n",
       "      <th>4</th>\n",
       "      <td>2</td>\n",
       "      <td>2</td>\n",
       "      <td>3</td>\n",
       "      <td>2_1</td>\n",
       "      <td>(BENJAMIN, Y, HAYDEN)</td>\n",
       "      <td>(JACK, L, GALLANT)</td>\n",
       "      <td>2128412813</td>\n",
       "      <td>1</td>\n",
       "      <td>2082172561</td>\n",
       "      <td>full</td>\n",
       "      <td>2</td>\n",
       "      <td>2110165986</td>\n",
       "      <td>full</td>\n",
       "    </tr>\n",
       "  </tbody>\n",
       "</table>\n",
       "</div>"
      ],
      "text/plain": [
       "   cid pid1 pid2  vid                  name1               name2     mag_pid  \\\n",
       "0    2    2    3  2_1  (BENJAMIN, Y, HAYDEN)  (JACK, L, GALLANT)  1982956265   \n",
       "1    2    2    3  2_1  (BENJAMIN, Y, HAYDEN)  (JACK, L, GALLANT)  2028047007   \n",
       "2    2    2    3  2_1  (BENJAMIN, Y, HAYDEN)  (JACK, L, GALLANT)  2099224730   \n",
       "3    2    2    3  2_1  (BENJAMIN, Y, HAYDEN)  (JACK, L, GALLANT)  2114854701   \n",
       "4    2    2    3  2_1  (BENJAMIN, Y, HAYDEN)  (JACK, L, GALLANT)  2128412813   \n",
       "\n",
       "   mag_seq_1   mag_aid_1 mag_name_var_1  mag_seq_2   mag_aid_2 mag_name_var_2  \n",
       "0          2  2082172561           full          4  2110165986           full  \n",
       "1          2  2082172561           full          3  2110165986           full  \n",
       "2          1  2082172561           full          2  2110165986           full  \n",
       "3          1  2082172561           full          2  2110165986           full  \n",
       "4          1  2082172561           full          2  2110165986           full  "
      ]
     },
     "execution_count": 22,
     "metadata": {},
     "output_type": "execute_result"
    }
   ],
   "source": [
    "matched_authorship_df[matched_authorship_df.cid == 2]"
   ]
  },
  {
   "cell_type": "code",
   "execution_count": 23,
   "metadata": {},
   "outputs": [
    {
     "name": "stderr",
     "output_type": "stream",
     "text": [
      "/home/qke100/.local/lib/python3.6/site-packages/pandas/core/generic.py:2449: PerformanceWarning: \n",
      "your performance may suffer as PyTables will pickle object types that it cannot\n",
      "map directly to c-types [inferred_type->mixed,key->block1_values] [items->Index(['pid1', 'pid2', 'vid', 'name1', 'name2', 'mag_pid', 'mag_aid_1',\n",
      "       'mag_name_var_1', 'mag_aid_2', 'mag_name_var_2'],\n",
      "      dtype='object')]\n",
      "\n",
      "  encoding=encoding,\n"
     ]
    }
   ],
   "source": [
    "matched_authorship_df.to_hdf('dataset/connect_mag_coauthorship.h5', key='df', mode='w')"
   ]
  },
  {
   "cell_type": "code",
   "execution_count": 24,
   "metadata": {},
   "outputs": [
    {
     "data": {
      "text/plain": [
       "259943"
      ]
     },
     "execution_count": 24,
     "metadata": {},
     "output_type": "execute_result"
    }
   ],
   "source": [
    "def get_people_id():\n",
    "    \"\"\"\"\"\"\n",
    "    result = {}\n",
    "    columns = ['pid1', 'pid2', 'mag_aid_1', 'mag_aid_2']\n",
    "    for pid1, pid2, mag_aid_1, mag_aid_2 in zip(*[matched_authorship_df[c] for c in columns]):\n",
    "        for pid, aid in [(pid1, mag_aid_1), (pid2, mag_aid_2)]:\n",
    "            if pid not in result:\n",
    "                result[pid] = {}\n",
    "            result[pid][aid] = result[pid].get(aid, 0) + 1\n",
    "    return result\n",
    "\n",
    "at_pid_to_mag_aid = get_people_id()\n",
    "len(at_pid_to_mag_aid)"
   ]
  },
  {
   "cell_type": "code",
   "execution_count": 25,
   "metadata": {},
   "outputs": [
    {
     "data": {
      "text/plain": [
       "499733"
      ]
     },
     "execution_count": 25,
     "metadata": {},
     "output_type": "execute_result"
    }
   ],
   "source": [
    "unmatched_at_pid = set(pid_to_name_var.keys()) - set(at_pid_to_mag_aid.keys())\n",
    "len(unmatched_at_pid)"
   ]
  },
  {
   "cell_type": "code",
   "execution_count": 30,
   "metadata": {},
   "outputs": [
    {
     "name": "stdout",
     "output_type": "stream",
     "text": [
      "Total matched: 259943\n",
      "Uniquely matched: 225914 0.8690905313857269\n",
      "Unambiguously matched: 255111 0.9814113094024459\n"
     ]
    }
   ],
   "source": [
    "def write_match_result():\n",
    "    \"\"\"\"\"\"\n",
    "    unique, cnt = 0, 0\n",
    "    result = {}\n",
    "    fout = open('dataset/at_pid_to_mag_aid.txt', 'w')\n",
    "    for pid in sorted(at_pid_to_mag_aid, key=lambda x: int(x)):\n",
    "        aids = at_pid_to_mag_aid[pid]\n",
    "        if len(aids) == 1:\n",
    "            unique += 1\n",
    "        mv = max(aids.values())\n",
    "        mk = [k for k, v in aids.items() if v == mv]\n",
    "        if len(mk) == 1:\n",
    "            fout.write('%s\\t%s\\n' % (pid, mk[0]))\n",
    "            cnt += 1\n",
    "            result[pid] = mk[0]\n",
    "    fout.close()\n",
    "    n = len(at_pid_to_mag_aid)\n",
    "    print('Total matched:', n)\n",
    "    print('Uniquely matched:', unique, unique / n)\n",
    "    print('Unambiguously matched:', cnt, cnt / n)\n",
    "    people_df['magaid'] = people_df.pid.apply(lambda x: result.get(x, ''))\n",
    "\n",
    "write_match_result()"
   ]
  },
  {
   "cell_type": "code",
   "execution_count": 31,
   "metadata": {},
   "outputs": [
    {
     "data": {
      "text/html": [
       "<div>\n",
       "<style scoped>\n",
       "    .dataframe tbody tr th:only-of-type {\n",
       "        vertical-align: middle;\n",
       "    }\n",
       "\n",
       "    .dataframe tbody tr th {\n",
       "        vertical-align: top;\n",
       "    }\n",
       "\n",
       "    .dataframe thead th {\n",
       "        text-align: right;\n",
       "    }\n",
       "</style>\n",
       "<table border=\"1\" class=\"dataframe\">\n",
       "  <thead>\n",
       "    <tr style=\"text-align: right;\">\n",
       "      <th></th>\n",
       "      <th>pid</th>\n",
       "      <th>firstname</th>\n",
       "      <th>middlename</th>\n",
       "      <th>lastname</th>\n",
       "      <th>degrees</th>\n",
       "      <th>majorarea</th>\n",
       "      <th>orcid</th>\n",
       "      <th>orcid_norm</th>\n",
       "      <th>firstname_norm</th>\n",
       "      <th>gender</th>\n",
       "      <th>magaid</th>\n",
       "    </tr>\n",
       "  </thead>\n",
       "  <tbody>\n",
       "    <tr>\n",
       "      <th>471735</th>\n",
       "      <td>508334</td>\n",
       "      <td>Kevin</td>\n",
       "      <td>M.</td>\n",
       "      <td>Gribbins</td>\n",
       "      <td>Ph.D.</td>\n",
       "      <td>anatomy</td>\n",
       "      <td></td>\n",
       "      <td></td>\n",
       "      <td>Kevin</td>\n",
       "      <td>M</td>\n",
       "      <td>1977651546</td>\n",
       "    </tr>\n",
       "    <tr>\n",
       "      <th>521305</th>\n",
       "      <td>558085</td>\n",
       "      <td>Wenbin</td>\n",
       "      <td></td>\n",
       "      <td>Yu</td>\n",
       "      <td>Ph.D.</td>\n",
       "      <td>etree</td>\n",
       "      <td></td>\n",
       "      <td></td>\n",
       "      <td>Wenbin</td>\n",
       "      <td>M</td>\n",
       "      <td>2152160864</td>\n",
       "    </tr>\n",
       "    <tr>\n",
       "      <th>133800</th>\n",
       "      <td>150444</td>\n",
       "      <td>Deborah</td>\n",
       "      <td>A.</td>\n",
       "      <td>Polvani</td>\n",
       "      <td>Ph.D.</td>\n",
       "      <td>chemistry</td>\n",
       "      <td></td>\n",
       "      <td></td>\n",
       "      <td>Deborah</td>\n",
       "      <td>F</td>\n",
       "      <td></td>\n",
       "    </tr>\n",
       "    <tr>\n",
       "      <th>171428</th>\n",
       "      <td>198303</td>\n",
       "      <td>Marion</td>\n",
       "      <td>E.</td>\n",
       "      <td>Wittmann</td>\n",
       "      <td>Ph.D.</td>\n",
       "      <td>evol</td>\n",
       "      <td></td>\n",
       "      <td></td>\n",
       "      <td>Marion</td>\n",
       "      <td>F</td>\n",
       "      <td>2147329782</td>\n",
       "    </tr>\n",
       "    <tr>\n",
       "      <th>128013</th>\n",
       "      <td>144215</td>\n",
       "      <td>Gian</td>\n",
       "      <td>F.</td>\n",
       "      <td>Sacco</td>\n",
       "      <td>Ph.D.</td>\n",
       "      <td>physics</td>\n",
       "      <td></td>\n",
       "      <td></td>\n",
       "      <td>Gian</td>\n",
       "      <td>M</td>\n",
       "      <td></td>\n",
       "    </tr>\n",
       "  </tbody>\n",
       "</table>\n",
       "</div>"
      ],
      "text/plain": [
       "           pid firstname middlename  lastname degrees  majorarea orcid  \\\n",
       "471735  508334     Kevin         M.  Gribbins   Ph.D.    anatomy         \n",
       "521305  558085    Wenbin                   Yu   Ph.D.      etree         \n",
       "133800  150444   Deborah         A.   Polvani   Ph.D.  chemistry         \n",
       "171428  198303    Marion         E.  Wittmann   Ph.D.       evol         \n",
       "128013  144215      Gian         F.     Sacco   Ph.D.    physics         \n",
       "\n",
       "       orcid_norm firstname_norm gender      magaid  \n",
       "471735                     Kevin      M  1977651546  \n",
       "521305                    Wenbin      M  2152160864  \n",
       "133800                   Deborah      F              \n",
       "171428                    Marion      F  2147329782  \n",
       "128013                      Gian      M              "
      ]
     },
     "execution_count": 31,
     "metadata": {},
     "output_type": "execute_result"
    }
   ],
   "source": [
    "people_df.sample(5)"
   ]
  },
  {
   "cell_type": "code",
   "execution_count": 32,
   "metadata": {},
   "outputs": [
    {
     "name": "stderr",
     "output_type": "stream",
     "text": [
      "/home/qke100/.local/lib/python3.6/site-packages/pandas/core/generic.py:2449: PerformanceWarning: \n",
      "your performance may suffer as PyTables will pickle object types that it cannot\n",
      "map directly to c-types [inferred_type->mixed,key->block0_values] [items->Index(['pid', 'firstname', 'middlename', 'lastname', 'degrees', 'majorarea',\n",
      "       'orcid', 'orcid_norm', 'firstname_norm', 'gender', 'magaid'],\n",
      "      dtype='object')]\n",
      "\n",
      "  encoding=encoding,\n"
     ]
    }
   ],
   "source": [
    "people_df.to_hdf('dataset/people_df.h5', key='df', mode='w')"
   ]
  },
  {
   "cell_type": "code",
   "execution_count": 34,
   "metadata": {},
   "outputs": [],
   "source": [
    "people_df[\n",
    "    ['pid', 'firstname_norm', 'middlename', 'lastname', 'degrees', 'majorarea', 'orcid_norm', 'gender', 'magaid']\n",
    "].to_csv('dataset/people.csv', index=False, \n",
    "         header=['pid','firstname','middlename','lastname','degrees','majorarea','orcid','gender','magaid'])"
   ]
  },
  {
   "cell_type": "code",
   "execution_count": null,
   "metadata": {},
   "outputs": [],
   "source": []
  }
 ],
 "metadata": {
  "kernelspec": {
   "display_name": "Python 3",
   "language": "python",
   "name": "python3"
  },
  "language_info": {
   "codemirror_mode": {
    "name": "ipython",
    "version": 3
   },
   "file_extension": ".py",
   "mimetype": "text/x-python",
   "name": "python",
   "nbconvert_exporter": "python",
   "pygments_lexer": "ipython3",
   "version": "3.6.9"
  },
  "toc": {
   "base_numbering": 1,
   "nav_menu": {},
   "number_sections": true,
   "sideBar": true,
   "skip_h1_title": false,
   "title_cell": "Table of Contents",
   "title_sidebar": "Contents",
   "toc_cell": false,
   "toc_position": {},
   "toc_section_display": true,
   "toc_window_display": false
  }
 },
 "nbformat": 4,
 "nbformat_minor": 4
}
